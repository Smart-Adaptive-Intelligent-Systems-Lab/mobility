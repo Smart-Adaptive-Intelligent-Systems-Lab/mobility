{
 "cells": [
  {
   "cell_type": "code",
   "execution_count": 1,
   "metadata": {
    "ExecuteTime": {
     "end_time": "2019-03-26T23:57:10.798788Z",
     "start_time": "2019-03-26T23:57:10.069265Z"
    }
   },
   "outputs": [],
   "source": [
    "import pandas as pd\n",
    "import numpy as np\n",
    "import matplotlib.pyplot as plt\n",
    "\n",
    "from keras.models import Sequential\n",
    "from keras.layers import Dense\n",
    "from keras.layers import LSTM\n",
    "\n",
    "from keras.optimizers import Adam\n",
    "from keras.models import load_model\n",
    "from keras.callbacks import ModelCheckpoint\n",
    "\n",
    "from sklearn.model_selection import train_test_split\n",
    "\n",
    "from sklearn import metrics"
   ]
  },
  {
   "cell_type": "markdown",
   "metadata": {},
   "source": [
    "## Load input data"
   ]
  },
  {
   "cell_type": "code",
   "execution_count": 2,
   "metadata": {},
   "outputs": [],
   "source": [
    "#Hardcoded values\n",
    "timestep = 16 # 2 seconds\n",
    "epoch = 200"
   ]
  },
  {
   "cell_type": "code",
   "execution_count": 3,
   "metadata": {},
   "outputs": [],
   "source": [
    "path = 'MovementAAL/dataset/MovementAAL_RSS_'\n",
    "\n",
    "sequences = list()\n",
    "file_targets = pd.read_csv('MovementAAL/dataset/MovementAAL_target.csv')\n",
    "\n",
    "targets = list()\n",
    "\n",
    "for i in range(1,315):\n",
    "    file_path = path + str(i) + '.csv'\n",
    "    file = pd.read_csv(file_path, header=0)\n",
    "    for j in range(0, (len(file) - timestep)+1):\n",
    "        arr = file[j:j+timestep]\n",
    "        sequences.append(arr)\n",
    "        targets.append(file_targets.values[:,1][i-1])\n"
   ]
  },
  {
   "cell_type": "code",
   "execution_count": 4,
   "metadata": {},
   "outputs": [
    {
     "name": "stdout",
     "output_type": "stream",
     "text": [
      "8487\n",
      "8487\n"
     ]
    },
    {
     "data": {
      "text/html": [
       "<div>\n",
       "<style scoped>\n",
       "    .dataframe tbody tr th:only-of-type {\n",
       "        vertical-align: middle;\n",
       "    }\n",
       "\n",
       "    .dataframe tbody tr th {\n",
       "        vertical-align: top;\n",
       "    }\n",
       "\n",
       "    .dataframe thead th {\n",
       "        text-align: right;\n",
       "    }\n",
       "</style>\n",
       "<table border=\"1\" class=\"dataframe\">\n",
       "  <thead>\n",
       "    <tr style=\"text-align: right;\">\n",
       "      <th></th>\n",
       "      <th>RSS_anchor1</th>\n",
       "      <th>RSS_anchor2</th>\n",
       "      <th>RSS_anchor3</th>\n",
       "      <th>RSS_anchor4</th>\n",
       "    </tr>\n",
       "  </thead>\n",
       "  <tbody>\n",
       "    <tr>\n",
       "      <th>0</th>\n",
       "      <td>-0.904760</td>\n",
       "      <td>-0.48</td>\n",
       "      <td>0.285710</td>\n",
       "      <td>0.30</td>\n",
       "    </tr>\n",
       "    <tr>\n",
       "      <th>1</th>\n",
       "      <td>-0.571430</td>\n",
       "      <td>-0.32</td>\n",
       "      <td>0.142860</td>\n",
       "      <td>0.30</td>\n",
       "    </tr>\n",
       "    <tr>\n",
       "      <th>2</th>\n",
       "      <td>-0.380950</td>\n",
       "      <td>-0.28</td>\n",
       "      <td>-0.142860</td>\n",
       "      <td>0.35</td>\n",
       "    </tr>\n",
       "    <tr>\n",
       "      <th>3</th>\n",
       "      <td>-0.285710</td>\n",
       "      <td>-0.20</td>\n",
       "      <td>-0.476190</td>\n",
       "      <td>0.35</td>\n",
       "    </tr>\n",
       "    <tr>\n",
       "      <th>4</th>\n",
       "      <td>-0.142860</td>\n",
       "      <td>-0.20</td>\n",
       "      <td>0.142860</td>\n",
       "      <td>-0.20</td>\n",
       "    </tr>\n",
       "    <tr>\n",
       "      <th>5</th>\n",
       "      <td>-0.142860</td>\n",
       "      <td>-0.20</td>\n",
       "      <td>0.047619</td>\n",
       "      <td>0.00</td>\n",
       "    </tr>\n",
       "    <tr>\n",
       "      <th>6</th>\n",
       "      <td>-0.142860</td>\n",
       "      <td>-0.16</td>\n",
       "      <td>-0.380950</td>\n",
       "      <td>0.20</td>\n",
       "    </tr>\n",
       "    <tr>\n",
       "      <th>7</th>\n",
       "      <td>-0.142860</td>\n",
       "      <td>-0.04</td>\n",
       "      <td>-0.619050</td>\n",
       "      <td>-0.20</td>\n",
       "    </tr>\n",
       "    <tr>\n",
       "      <th>8</th>\n",
       "      <td>-0.095238</td>\n",
       "      <td>-0.08</td>\n",
       "      <td>0.142860</td>\n",
       "      <td>-0.55</td>\n",
       "    </tr>\n",
       "    <tr>\n",
       "      <th>9</th>\n",
       "      <td>-0.047619</td>\n",
       "      <td>0.04</td>\n",
       "      <td>-0.095238</td>\n",
       "      <td>0.05</td>\n",
       "    </tr>\n",
       "    <tr>\n",
       "      <th>10</th>\n",
       "      <td>-0.190480</td>\n",
       "      <td>-0.04</td>\n",
       "      <td>0.095238</td>\n",
       "      <td>0.40</td>\n",
       "    </tr>\n",
       "    <tr>\n",
       "      <th>11</th>\n",
       "      <td>-0.095238</td>\n",
       "      <td>-0.04</td>\n",
       "      <td>-0.142860</td>\n",
       "      <td>0.35</td>\n",
       "    </tr>\n",
       "    <tr>\n",
       "      <th>12</th>\n",
       "      <td>-0.333330</td>\n",
       "      <td>-0.08</td>\n",
       "      <td>-0.285710</td>\n",
       "      <td>-0.20</td>\n",
       "    </tr>\n",
       "    <tr>\n",
       "      <th>13</th>\n",
       "      <td>-0.238100</td>\n",
       "      <td>0.04</td>\n",
       "      <td>0.142860</td>\n",
       "      <td>0.35</td>\n",
       "    </tr>\n",
       "    <tr>\n",
       "      <th>14</th>\n",
       "      <td>0.000000</td>\n",
       "      <td>0.08</td>\n",
       "      <td>0.142860</td>\n",
       "      <td>0.05</td>\n",
       "    </tr>\n",
       "    <tr>\n",
       "      <th>15</th>\n",
       "      <td>-0.095238</td>\n",
       "      <td>0.04</td>\n",
       "      <td>0.095238</td>\n",
       "      <td>0.10</td>\n",
       "    </tr>\n",
       "  </tbody>\n",
       "</table>\n",
       "</div>"
      ],
      "text/plain": [
       "    RSS_anchor1   RSS_anchor2   RSS_anchor3   RSS_anchor4\n",
       "0     -0.904760         -0.48      0.285710          0.30\n",
       "1     -0.571430         -0.32      0.142860          0.30\n",
       "2     -0.380950         -0.28     -0.142860          0.35\n",
       "3     -0.285710         -0.20     -0.476190          0.35\n",
       "4     -0.142860         -0.20      0.142860         -0.20\n",
       "5     -0.142860         -0.20      0.047619          0.00\n",
       "6     -0.142860         -0.16     -0.380950          0.20\n",
       "7     -0.142860         -0.04     -0.619050         -0.20\n",
       "8     -0.095238         -0.08      0.142860         -0.55\n",
       "9     -0.047619          0.04     -0.095238          0.05\n",
       "10    -0.190480         -0.04      0.095238          0.40\n",
       "11    -0.095238         -0.04     -0.142860          0.35\n",
       "12    -0.333330         -0.08     -0.285710         -0.20\n",
       "13    -0.238100          0.04      0.142860          0.35\n",
       "14     0.000000          0.08      0.142860          0.05\n",
       "15    -0.095238          0.04      0.095238          0.10"
      ]
     },
     "execution_count": 4,
     "metadata": {},
     "output_type": "execute_result"
    }
   ],
   "source": [
    "print(len(sequences))\n",
    "print(len(targets))\n",
    "sequences[0]"
   ]
  },
  {
   "cell_type": "code",
   "execution_count": 5,
   "metadata": {},
   "outputs": [],
   "source": [
    "groups = pd.read_csv('MovementAAL/groups/MovementAAL_DatasetGroup.csv', header=0)\n",
    "groups = groups.values[:,1]"
   ]
  },
  {
   "cell_type": "code",
   "execution_count": 6,
   "metadata": {},
   "outputs": [
    {
     "data": {
      "text/plain": [
       "count    8487.0\n",
       "mean       16.0\n",
       "std         0.0\n",
       "min        16.0\n",
       "25%        16.0\n",
       "50%        16.0\n",
       "75%        16.0\n",
       "max        16.0\n",
       "dtype: float64"
      ]
     },
     "execution_count": 6,
     "metadata": {},
     "output_type": "execute_result"
    }
   ],
   "source": [
    "len_sequences = []\n",
    "for one_seq in sequences:\n",
    "    len_sequences.append(len(one_seq))\n",
    "pd.Series(len_sequences).describe()\n"
   ]
  },
  {
   "cell_type": "code",
   "execution_count": 7,
   "metadata": {},
   "outputs": [
    {
     "name": "stdout",
     "output_type": "stream",
     "text": [
      "4243\n",
      "1698\n",
      "2546\n",
      "8487\n",
      "8487\n"
     ]
    }
   ],
   "source": [
    "X_train, X_rest, Y_train, Y_rest = train_test_split(sequences, targets, test_size=0.5, random_state=0)\n",
    "X_test, X_validation, Y_test, Y_validation  = train_test_split(X_rest, Y_rest, test_size=0.4, random_state=0)\n",
    "\n",
    "print(len(X_train))\n",
    "print(len(X_validation))\n",
    "print(len(X_test))\n",
    "print(len(X_train)+len(X_validation)+len(X_test))\n",
    "print(len(sequences))"
   ]
  },
  {
   "cell_type": "code",
   "execution_count": 8,
   "metadata": {
    "ExecuteTime": {
     "end_time": "2019-03-26T23:57:10.859387Z",
     "start_time": "2019-03-26T23:57:10.832419Z"
    }
   },
   "outputs": [],
   "source": [
    "X_train = np.array(X_train)\n",
    "X_validation = np.array(X_validation)\n",
    "X_test = np.array(X_test)\n",
    "\n",
    "Y_train = np.array(Y_train)\n",
    "Y_train = (Y_train+1)/2\n",
    "\n",
    "Y_validation = np.array(Y_validation)\n",
    "Y_validation = (Y_validation+1)/2\n",
    "\n",
    "Y_test = np.array(Y_test)\n",
    "Y_test = (Y_test+1)/2\n"
   ]
  },
  {
   "cell_type": "code",
   "execution_count": 9,
   "metadata": {},
   "outputs": [
    {
     "name": "stdout",
     "output_type": "stream",
     "text": [
      "Model: \"sequential\"\n",
      "_________________________________________________________________\n",
      " Layer (type)                Output Shape              Param #   \n",
      "=================================================================\n",
      " lstm (LSTM)                 (None, 256)               267264    \n",
      "                                                                 \n",
      " dense (Dense)               (None, 1)                 257       \n",
      "                                                                 \n",
      "=================================================================\n",
      "Total params: 267,521\n",
      "Trainable params: 267,521\n",
      "Non-trainable params: 0\n",
      "_________________________________________________________________\n"
     ]
    }
   ],
   "source": [
    "model = Sequential()\n",
    "model.add(LSTM(256, input_shape=(timestep, 4),dropout=0.1))\n",
    "model.add(Dense(1, activation='sigmoid'))\n",
    "model.summary()"
   ]
  },
  {
   "cell_type": "code",
   "execution_count": null,
   "metadata": {},
   "outputs": [],
   "source": [
    "adam = Adam(learning_rate=0.001)\n",
    "chk = ModelCheckpoint('best_model.pkl', monitor='val_accuracy', save_best_only=True, mode='max', verbose=1)\n",
    "model.compile(loss='binary_crossentropy', optimizer=adam, metrics=['accuracy'])\n",
    "history = model.fit(X_train, Y_train, epochs=epoch, batch_size=256, callbacks=[chk], validation_data=(X_validation,Y_validation))"
   ]
  },
  {
   "cell_type": "code",
   "execution_count": null,
   "metadata": {},
   "outputs": [],
   "source": [
    "acc = history.history['accuracy']\n",
    "val_acc = history.history['val_accuracy']\n",
    "\n",
    "loss = history.history['loss']\n",
    "val_loss = history.history['val_loss']\n",
    "\n",
    "epochs_range = range(epoch)\n",
    "\n",
    "plt.figure(figsize=(8, 8))\n",
    "plt.subplot(1, 2, 1)\n",
    "plt.plot(epochs_range, acc, label='Training Accuracy')\n",
    "plt.plot(epochs_range, val_acc, label='Validation Accuracy')\n",
    "plt.legend(loc='lower right')\n",
    "plt.title('Training and Validation Accuracy')\n",
    "\n",
    "plt.subplot(1, 2, 2)\n",
    "plt.plot(epochs_range, loss, label='Training Loss')\n",
    "plt.plot(epochs_range, val_loss, label='Validation Loss')\n",
    "plt.legend(loc='upper right')\n",
    "plt.title('Training and Validation Loss')\n",
    "plt.show()"
   ]
  },
  {
   "cell_type": "code",
   "execution_count": null,
   "metadata": {
    "ExecuteTime": {
     "end_time": "2019-03-26T23:57:10.869320Z",
     "start_time": "2019-03-26T23:57:10.863336Z"
    }
   },
   "outputs": [],
   "source": [
    "model = load_model('models/best_model.pkl')\n",
    "np.set_printoptions(formatter={'float': lambda x: \"{0:0.3f}\".format(x)})\n",
    "\n",
    "test_preds = (model.predict(X_test) > 0.5).astype(\"int32\")\n",
    "\n",
    "classification_report = metrics.classification_report(Y_test, test_preds)\n",
    "print(classification_report)"
   ]
  }
 ],
 "metadata": {
  "kernelspec": {
   "display_name": "Python 3.10.7 64-bit",
   "language": "python",
   "name": "python3"
  },
  "language_info": {
   "codemirror_mode": {
    "name": "ipython",
    "version": 3
   },
   "file_extension": ".py",
   "mimetype": "text/x-python",
   "name": "python",
   "nbconvert_exporter": "python",
   "pygments_lexer": "ipython3",
   "version": "3.10.7"
  },
  "varInspector": {
   "cols": {
    "lenName": 16,
    "lenType": 16,
    "lenVar": 40
   },
   "kernels_config": {
    "python": {
     "delete_cmd_postfix": "",
     "delete_cmd_prefix": "del ",
     "library": "var_list.py",
     "varRefreshCmd": "print(var_dic_list())"
    },
    "r": {
     "delete_cmd_postfix": ") ",
     "delete_cmd_prefix": "rm(",
     "library": "var_list.r",
     "varRefreshCmd": "cat(var_dic_list()) "
    }
   },
   "types_to_exclude": [
    "module",
    "function",
    "builtin_function_or_method",
    "instance",
    "_Feature"
   ],
   "window_display": false
  },
  "vscode": {
   "interpreter": {
    "hash": "fea9051e36e58b6fd03ad002bf451d771e4557a73cb48714380875b996a93bd2"
   }
  }
 },
 "nbformat": 4,
 "nbformat_minor": 2
}
