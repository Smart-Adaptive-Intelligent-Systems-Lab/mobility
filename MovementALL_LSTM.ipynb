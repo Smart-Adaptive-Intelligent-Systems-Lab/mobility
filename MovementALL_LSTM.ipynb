{
 "cells": [
  {
   "cell_type": "code",
   "execution_count": 3,
   "metadata": {
    "ExecuteTime": {
     "end_time": "2019-03-26T23:57:10.798788Z",
     "start_time": "2019-03-26T23:57:10.069265Z"
    }
   },
   "outputs": [
    {
     "name": "stderr",
     "output_type": "stream",
     "text": [
      "2023-01-23 01:29:05.703240: I tensorflow/core/platform/cpu_feature_guard.cc:193] This TensorFlow binary is optimized with oneAPI Deep Neural Network Library (oneDNN) to use the following CPU instructions in performance-critical operations:  AVX2 FMA\n",
      "To enable them in other operations, rebuild TensorFlow with the appropriate compiler flags.\n",
      "2023-01-23 01:29:08.219919: W tensorflow/compiler/xla/stream_executor/platform/default/dso_loader.cc:64] Could not load dynamic library 'libcudart.so.11.0'; dlerror: libcudart.so.11.0: cannot open shared object file: No such file or directory\n",
      "2023-01-23 01:29:08.220056: I tensorflow/compiler/xla/stream_executor/cuda/cudart_stub.cc:29] Ignore above cudart dlerror if you do not have a GPU set up on your machine.\n",
      "2023-01-23 01:29:12.376279: W tensorflow/compiler/xla/stream_executor/platform/default/dso_loader.cc:64] Could not load dynamic library 'libnvinfer.so.7'; dlerror: libnvinfer.so.7: cannot open shared object file: No such file or directory\n",
      "2023-01-23 01:29:12.378542: W tensorflow/compiler/xla/stream_executor/platform/default/dso_loader.cc:64] Could not load dynamic library 'libnvinfer_plugin.so.7'; dlerror: libnvinfer_plugin.so.7: cannot open shared object file: No such file or directory\n",
      "2023-01-23 01:29:12.378576: W tensorflow/compiler/tf2tensorrt/utils/py_utils.cc:38] TF-TRT Warning: Cannot dlopen some TensorRT libraries. If you would like to use Nvidia GPU with TensorRT, please make sure the missing libraries mentioned above are installed properly.\n"
     ]
    }
   ],
   "source": [
    "%matplotlib inline\n",
    "\n",
    "import pandas as pd\n",
    "import numpy as np\n",
    "\n",
    "\n",
    "from keras.models import Sequential\n",
    "from keras.layers import Dense\n",
    "from keras.layers import LSTM\n",
    "\n",
    "from keras.optimizers import Adam\n",
    "from keras.models import load_model\n",
    "from keras.callbacks import ModelCheckpoint\n",
    "\n",
    "from sklearn.model_selection import train_test_split\n",
    "\n",
    "from sklearn import metrics\n"
   ]
  },
  {
   "cell_type": "markdown",
   "metadata": {},
   "source": [
    "## Load input data"
   ]
  },
  {
   "cell_type": "code",
   "execution_count": 4,
   "metadata": {},
   "outputs": [],
   "source": [
    "#Hardcoded values\n",
    "timestep = 16 # 2 seconds\n",
    "epoch = 200"
   ]
  },
  {
   "cell_type": "code",
   "execution_count": 5,
   "metadata": {},
   "outputs": [],
   "source": [
    "path = 'MovementAAL/dataset/MovementAAL_RSS_'\n",
    "\n",
    "sequences = list()\n",
    "file_targets = pd.read_csv('MovementAAL/dataset/MovementAAL_target.csv')\n",
    "\n",
    "targets = list()\n",
    "\n",
    "for i in range(1,315):\n",
    "    file_path = path + str(i) + '.csv'\n",
    "    file = pd.read_csv(file_path, header=0)\n",
    "    for j in range(0, (len(file) - timestep)+1):\n",
    "        arr = file[j:j+timestep]\n",
    "        sequences.append(arr)\n",
    "        targets.append(file_targets.values[:,1][i-1])\n"
   ]
  },
  {
   "cell_type": "code",
   "execution_count": 6,
   "metadata": {},
   "outputs": [
    {
     "name": "stdout",
     "output_type": "stream",
     "text": [
      "8487\n",
      "8487\n"
     ]
    },
    {
     "data": {
      "text/html": [
       "<div>\n",
       "<style scoped>\n",
       "    .dataframe tbody tr th:only-of-type {\n",
       "        vertical-align: middle;\n",
       "    }\n",
       "\n",
       "    .dataframe tbody tr th {\n",
       "        vertical-align: top;\n",
       "    }\n",
       "\n",
       "    .dataframe thead th {\n",
       "        text-align: right;\n",
       "    }\n",
       "</style>\n",
       "<table border=\"1\" class=\"dataframe\">\n",
       "  <thead>\n",
       "    <tr style=\"text-align: right;\">\n",
       "      <th></th>\n",
       "      <th>RSS_anchor1</th>\n",
       "      <th>RSS_anchor2</th>\n",
       "      <th>RSS_anchor3</th>\n",
       "      <th>RSS_anchor4</th>\n",
       "    </tr>\n",
       "  </thead>\n",
       "  <tbody>\n",
       "    <tr>\n",
       "      <th>0</th>\n",
       "      <td>-0.904760</td>\n",
       "      <td>-0.48</td>\n",
       "      <td>0.285710</td>\n",
       "      <td>0.30</td>\n",
       "    </tr>\n",
       "    <tr>\n",
       "      <th>1</th>\n",
       "      <td>-0.571430</td>\n",
       "      <td>-0.32</td>\n",
       "      <td>0.142860</td>\n",
       "      <td>0.30</td>\n",
       "    </tr>\n",
       "    <tr>\n",
       "      <th>2</th>\n",
       "      <td>-0.380950</td>\n",
       "      <td>-0.28</td>\n",
       "      <td>-0.142860</td>\n",
       "      <td>0.35</td>\n",
       "    </tr>\n",
       "    <tr>\n",
       "      <th>3</th>\n",
       "      <td>-0.285710</td>\n",
       "      <td>-0.20</td>\n",
       "      <td>-0.476190</td>\n",
       "      <td>0.35</td>\n",
       "    </tr>\n",
       "    <tr>\n",
       "      <th>4</th>\n",
       "      <td>-0.142860</td>\n",
       "      <td>-0.20</td>\n",
       "      <td>0.142860</td>\n",
       "      <td>-0.20</td>\n",
       "    </tr>\n",
       "    <tr>\n",
       "      <th>5</th>\n",
       "      <td>-0.142860</td>\n",
       "      <td>-0.20</td>\n",
       "      <td>0.047619</td>\n",
       "      <td>0.00</td>\n",
       "    </tr>\n",
       "    <tr>\n",
       "      <th>6</th>\n",
       "      <td>-0.142860</td>\n",
       "      <td>-0.16</td>\n",
       "      <td>-0.380950</td>\n",
       "      <td>0.20</td>\n",
       "    </tr>\n",
       "    <tr>\n",
       "      <th>7</th>\n",
       "      <td>-0.142860</td>\n",
       "      <td>-0.04</td>\n",
       "      <td>-0.619050</td>\n",
       "      <td>-0.20</td>\n",
       "    </tr>\n",
       "    <tr>\n",
       "      <th>8</th>\n",
       "      <td>-0.095238</td>\n",
       "      <td>-0.08</td>\n",
       "      <td>0.142860</td>\n",
       "      <td>-0.55</td>\n",
       "    </tr>\n",
       "    <tr>\n",
       "      <th>9</th>\n",
       "      <td>-0.047619</td>\n",
       "      <td>0.04</td>\n",
       "      <td>-0.095238</td>\n",
       "      <td>0.05</td>\n",
       "    </tr>\n",
       "    <tr>\n",
       "      <th>10</th>\n",
       "      <td>-0.190480</td>\n",
       "      <td>-0.04</td>\n",
       "      <td>0.095238</td>\n",
       "      <td>0.40</td>\n",
       "    </tr>\n",
       "    <tr>\n",
       "      <th>11</th>\n",
       "      <td>-0.095238</td>\n",
       "      <td>-0.04</td>\n",
       "      <td>-0.142860</td>\n",
       "      <td>0.35</td>\n",
       "    </tr>\n",
       "    <tr>\n",
       "      <th>12</th>\n",
       "      <td>-0.333330</td>\n",
       "      <td>-0.08</td>\n",
       "      <td>-0.285710</td>\n",
       "      <td>-0.20</td>\n",
       "    </tr>\n",
       "    <tr>\n",
       "      <th>13</th>\n",
       "      <td>-0.238100</td>\n",
       "      <td>0.04</td>\n",
       "      <td>0.142860</td>\n",
       "      <td>0.35</td>\n",
       "    </tr>\n",
       "    <tr>\n",
       "      <th>14</th>\n",
       "      <td>0.000000</td>\n",
       "      <td>0.08</td>\n",
       "      <td>0.142860</td>\n",
       "      <td>0.05</td>\n",
       "    </tr>\n",
       "    <tr>\n",
       "      <th>15</th>\n",
       "      <td>-0.095238</td>\n",
       "      <td>0.04</td>\n",
       "      <td>0.095238</td>\n",
       "      <td>0.10</td>\n",
       "    </tr>\n",
       "  </tbody>\n",
       "</table>\n",
       "</div>"
      ],
      "text/plain": [
       "    RSS_anchor1   RSS_anchor2   RSS_anchor3   RSS_anchor4\n",
       "0     -0.904760         -0.48      0.285710          0.30\n",
       "1     -0.571430         -0.32      0.142860          0.30\n",
       "2     -0.380950         -0.28     -0.142860          0.35\n",
       "3     -0.285710         -0.20     -0.476190          0.35\n",
       "4     -0.142860         -0.20      0.142860         -0.20\n",
       "5     -0.142860         -0.20      0.047619          0.00\n",
       "6     -0.142860         -0.16     -0.380950          0.20\n",
       "7     -0.142860         -0.04     -0.619050         -0.20\n",
       "8     -0.095238         -0.08      0.142860         -0.55\n",
       "9     -0.047619          0.04     -0.095238          0.05\n",
       "10    -0.190480         -0.04      0.095238          0.40\n",
       "11    -0.095238         -0.04     -0.142860          0.35\n",
       "12    -0.333330         -0.08     -0.285710         -0.20\n",
       "13    -0.238100          0.04      0.142860          0.35\n",
       "14     0.000000          0.08      0.142860          0.05\n",
       "15    -0.095238          0.04      0.095238          0.10"
      ]
     },
     "execution_count": 6,
     "metadata": {},
     "output_type": "execute_result"
    }
   ],
   "source": [
    "print(len(sequences))\n",
    "print(len(targets))\n",
    "sequences[0]"
   ]
  },
  {
   "cell_type": "code",
   "execution_count": 7,
   "metadata": {},
   "outputs": [],
   "source": [
    "groups = pd.read_csv('MovementAAL/groups/MovementAAL_DatasetGroup.csv', header=0)\n",
    "groups = groups.values[:,1]"
   ]
  },
  {
   "cell_type": "code",
   "execution_count": 8,
   "metadata": {},
   "outputs": [
    {
     "data": {
      "text/plain": [
       "count    8487.0\n",
       "mean       16.0\n",
       "std         0.0\n",
       "min        16.0\n",
       "25%        16.0\n",
       "50%        16.0\n",
       "75%        16.0\n",
       "max        16.0\n",
       "dtype: float64"
      ]
     },
     "execution_count": 8,
     "metadata": {},
     "output_type": "execute_result"
    }
   ],
   "source": [
    "len_sequences = []\n",
    "for one_seq in sequences:\n",
    "    len_sequences.append(len(one_seq))\n",
    "pd.Series(len_sequences).describe()\n"
   ]
  },
  {
   "cell_type": "code",
   "execution_count": 9,
   "metadata": {},
   "outputs": [
    {
     "name": "stdout",
     "output_type": "stream",
     "text": [
      "4243\n",
      "1698\n",
      "2546\n",
      "8487\n",
      "8487\n"
     ]
    }
   ],
   "source": [
    "X_train, X_rest, Y_train, Y_rest = train_test_split(sequences, targets, test_size=0.5, random_state=0)\n",
    "X_test, X_validation, Y_test, Y_validation  = train_test_split(X_rest, Y_rest, test_size=0.4, random_state=0)\n",
    "\n",
    "print(len(X_train))\n",
    "print(len(X_validation))\n",
    "print(len(X_test))\n",
    "print(len(X_train)+len(X_validation)+len(X_test))\n",
    "print(len(sequences))"
   ]
  },
  {
   "cell_type": "code",
   "execution_count": 10,
   "metadata": {
    "ExecuteTime": {
     "end_time": "2019-03-26T23:57:10.859387Z",
     "start_time": "2019-03-26T23:57:10.832419Z"
    }
   },
   "outputs": [],
   "source": [
    "X_train = np.array(X_train)\n",
    "X_validation = np.array(X_validation)\n",
    "X_test = np.array(X_test)\n",
    "\n",
    "Y_train = np.array(Y_train)\n",
    "Y_train = (Y_train+1)/2\n",
    "\n",
    "Y_validation = np.array(Y_validation)\n",
    "Y_validation = (Y_validation+1)/2\n",
    "\n",
    "Y_test = np.array(Y_test)\n",
    "Y_test = (Y_test+1)/2\n"
   ]
  },
  {
   "cell_type": "code",
   "execution_count": 11,
   "metadata": {},
   "outputs": [
    {
     "name": "stderr",
     "output_type": "stream",
     "text": [
      "2023-01-23 01:29:26.804889: I tensorflow/compiler/xla/stream_executor/cuda/cuda_gpu_executor.cc:967] could not open file to read NUMA node: /sys/bus/pci/devices/0000:01:00.0/numa_node\n",
      "Your kernel may have been built without NUMA support.\n",
      "2023-01-23 01:29:26.811179: W tensorflow/compiler/xla/stream_executor/platform/default/dso_loader.cc:64] Could not load dynamic library 'libcudart.so.11.0'; dlerror: libcudart.so.11.0: cannot open shared object file: No such file or directory\n",
      "2023-01-23 01:29:26.811849: W tensorflow/compiler/xla/stream_executor/platform/default/dso_loader.cc:64] Could not load dynamic library 'libcublas.so.11'; dlerror: libcublas.so.11: cannot open shared object file: No such file or directory\n",
      "2023-01-23 01:29:26.812227: W tensorflow/compiler/xla/stream_executor/platform/default/dso_loader.cc:64] Could not load dynamic library 'libcublasLt.so.11'; dlerror: libcublasLt.so.11: cannot open shared object file: No such file or directory\n",
      "2023-01-23 01:29:26.812600: W tensorflow/compiler/xla/stream_executor/platform/default/dso_loader.cc:64] Could not load dynamic library 'libcufft.so.10'; dlerror: libcufft.so.10: cannot open shared object file: No such file or directory\n",
      "2023-01-23 01:29:26.813029: W tensorflow/compiler/xla/stream_executor/platform/default/dso_loader.cc:64] Could not load dynamic library 'libcurand.so.10'; dlerror: libcurand.so.10: cannot open shared object file: No such file or directory\n",
      "2023-01-23 01:29:26.813373: W tensorflow/compiler/xla/stream_executor/platform/default/dso_loader.cc:64] Could not load dynamic library 'libcusolver.so.11'; dlerror: libcusolver.so.11: cannot open shared object file: No such file or directory\n",
      "2023-01-23 01:29:26.813587: W tensorflow/compiler/xla/stream_executor/platform/default/dso_loader.cc:64] Could not load dynamic library 'libcusparse.so.11'; dlerror: libcusparse.so.11: cannot open shared object file: No such file or directory\n",
      "2023-01-23 01:29:26.813771: W tensorflow/compiler/xla/stream_executor/platform/default/dso_loader.cc:64] Could not load dynamic library 'libcudnn.so.8'; dlerror: libcudnn.so.8: cannot open shared object file: No such file or directory\n",
      "2023-01-23 01:29:26.813940: W tensorflow/core/common_runtime/gpu/gpu_device.cc:1934] Cannot dlopen some GPU libraries. Please make sure the missing libraries mentioned above are installed properly if you would like to use GPU. Follow the guide at https://www.tensorflow.org/install/gpu for how to download and setup the required libraries for your platform.\n",
      "Skipping registering GPU devices...\n",
      "2023-01-23 01:29:26.818064: I tensorflow/core/platform/cpu_feature_guard.cc:193] This TensorFlow binary is optimized with oneAPI Deep Neural Network Library (oneDNN) to use the following CPU instructions in performance-critical operations:  AVX2 FMA\n",
      "To enable them in other operations, rebuild TensorFlow with the appropriate compiler flags.\n"
     ]
    },
    {
     "name": "stdout",
     "output_type": "stream",
     "text": [
      "Model: \"sequential\"\n",
      "_________________________________________________________________\n",
      " Layer (type)                Output Shape              Param #   \n",
      "=================================================================\n",
      " lstm (LSTM)                 (None, 256)               267264    \n",
      "                                                                 \n",
      " dense (Dense)               (None, 1)                 257       \n",
      "                                                                 \n",
      "=================================================================\n",
      "Total params: 267,521\n",
      "Trainable params: 267,521\n",
      "Non-trainable params: 0\n",
      "_________________________________________________________________\n"
     ]
    }
   ],
   "source": [
    "model = Sequential()\n",
    "model.add(LSTM(256, input_shape=(timestep, 4),dropout=0.1))\n",
    "model.add(Dense(1, activation='sigmoid'))\n",
    "model.summary()"
   ]
  },
  {
   "cell_type": "code",
   "execution_count": 12,
   "metadata": {},
   "outputs": [
    {
     "name": "stdout",
     "output_type": "stream",
     "text": [
      "Epoch 1/200\n",
      "17/17 [==============================] - ETA: 0s - loss: 0.6404 - accuracy: 0.6510\n",
      "Epoch 1: val_accuracy improved from -inf to 0.69965, saving model to best_model.pkl\n"
     ]
    },
    {
     "name": "stderr",
     "output_type": "stream",
     "text": [
      "WARNING:absl:Found untraced functions such as lstm_cell_layer_call_fn, lstm_cell_layer_call_and_return_conditional_losses while saving (showing 2 of 2). These functions will not be directly callable after loading.\n"
     ]
    },
    {
     "name": "stdout",
     "output_type": "stream",
     "text": [
      "INFO:tensorflow:Assets written to: best_model.pkl/assets\n"
     ]
    },
    {
     "name": "stderr",
     "output_type": "stream",
     "text": [
      "INFO:tensorflow:Assets written to: best_model.pkl/assets\n"
     ]
    },
    {
     "name": "stdout",
     "output_type": "stream",
     "text": [
      "17/17 [==============================] - 27s 1s/step - loss: 0.6404 - accuracy: 0.6510 - val_loss: 0.5934 - val_accuracy: 0.6996\n",
      "Epoch 2/200\n",
      "17/17 [==============================] - ETA: 0s - loss: 0.5765 - accuracy: 0.7040\n",
      "Epoch 2: val_accuracy improved from 0.69965 to 0.73498, saving model to best_model.pkl\n"
     ]
    },
    {
     "name": "stderr",
     "output_type": "stream",
     "text": [
      "WARNING:absl:Found untraced functions such as lstm_cell_layer_call_fn, lstm_cell_layer_call_and_return_conditional_losses while saving (showing 2 of 2). These functions will not be directly callable after loading.\n"
     ]
    },
    {
     "name": "stdout",
     "output_type": "stream",
     "text": [
      "INFO:tensorflow:Assets written to: best_model.pkl/assets\n"
     ]
    },
    {
     "name": "stderr",
     "output_type": "stream",
     "text": [
      "INFO:tensorflow:Assets written to: best_model.pkl/assets\n"
     ]
    },
    {
     "name": "stdout",
     "output_type": "stream",
     "text": [
      "17/17 [==============================] - 23s 1s/step - loss: 0.5765 - accuracy: 0.7040 - val_loss: 0.5401 - val_accuracy: 0.7350\n",
      "Epoch 3/200\n",
      "17/17 [==============================] - ETA: 0s - loss: 0.5327 - accuracy: 0.7429\n",
      "Epoch 3: val_accuracy improved from 0.73498 to 0.74558, saving model to best_model.pkl\n"
     ]
    },
    {
     "name": "stderr",
     "output_type": "stream",
     "text": [
      "WARNING:absl:Found untraced functions such as lstm_cell_layer_call_fn, lstm_cell_layer_call_and_return_conditional_losses while saving (showing 2 of 2). These functions will not be directly callable after loading.\n"
     ]
    },
    {
     "name": "stdout",
     "output_type": "stream",
     "text": [
      "INFO:tensorflow:Assets written to: best_model.pkl/assets\n"
     ]
    },
    {
     "name": "stderr",
     "output_type": "stream",
     "text": [
      "INFO:tensorflow:Assets written to: best_model.pkl/assets\n"
     ]
    },
    {
     "name": "stdout",
     "output_type": "stream",
     "text": [
      "17/17 [==============================] - 15s 927ms/step - loss: 0.5327 - accuracy: 0.7429 - val_loss: 0.5046 - val_accuracy: 0.7456\n",
      "Epoch 4/200\n",
      "17/17 [==============================] - ETA: 0s - loss: 0.4836 - accuracy: 0.7693\n",
      "Epoch 4: val_accuracy improved from 0.74558 to 0.79034, saving model to best_model.pkl\n"
     ]
    },
    {
     "name": "stderr",
     "output_type": "stream",
     "text": [
      "WARNING:absl:Found untraced functions such as lstm_cell_layer_call_fn, lstm_cell_layer_call_and_return_conditional_losses while saving (showing 2 of 2). These functions will not be directly callable after loading.\n"
     ]
    },
    {
     "name": "stdout",
     "output_type": "stream",
     "text": [
      "INFO:tensorflow:Assets written to: best_model.pkl/assets\n"
     ]
    },
    {
     "name": "stderr",
     "output_type": "stream",
     "text": [
      "INFO:tensorflow:Assets written to: best_model.pkl/assets\n"
     ]
    },
    {
     "name": "stdout",
     "output_type": "stream",
     "text": [
      "17/17 [==============================] - 12s 728ms/step - loss: 0.4836 - accuracy: 0.7693 - val_loss: 0.4413 - val_accuracy: 0.7903\n",
      "Epoch 5/200\n",
      "17/17 [==============================] - ETA: 0s - loss: 0.4356 - accuracy: 0.7933\n",
      "Epoch 5: val_accuracy did not improve from 0.79034\n",
      "17/17 [==============================] - 3s 197ms/step - loss: 0.4356 - accuracy: 0.7933 - val_loss: 0.4479 - val_accuracy: 0.7792\n",
      "Epoch 6/200\n",
      "17/17 [==============================] - ETA: 0s - loss: 0.4224 - accuracy: 0.7959\n",
      "Epoch 6: val_accuracy improved from 0.79034 to 0.81861, saving model to best_model.pkl\n"
     ]
    },
    {
     "name": "stderr",
     "output_type": "stream",
     "text": [
      "WARNING:absl:Found untraced functions such as lstm_cell_layer_call_fn, lstm_cell_layer_call_and_return_conditional_losses while saving (showing 2 of 2). These functions will not be directly callable after loading.\n"
     ]
    },
    {
     "name": "stdout",
     "output_type": "stream",
     "text": [
      "INFO:tensorflow:Assets written to: best_model.pkl/assets\n"
     ]
    },
    {
     "name": "stderr",
     "output_type": "stream",
     "text": [
      "INFO:tensorflow:Assets written to: best_model.pkl/assets\n"
     ]
    },
    {
     "name": "stdout",
     "output_type": "stream",
     "text": [
      "17/17 [==============================] - 16s 1s/step - loss: 0.4224 - accuracy: 0.7959 - val_loss: 0.4012 - val_accuracy: 0.8186\n",
      "Epoch 7/200\n",
      "17/17 [==============================] - ETA: 0s - loss: 0.3939 - accuracy: 0.8117\n",
      "Epoch 7: val_accuracy improved from 0.81861 to 0.81920, saving model to best_model.pkl\n"
     ]
    },
    {
     "name": "stderr",
     "output_type": "stream",
     "text": [
      "WARNING:absl:Found untraced functions such as lstm_cell_layer_call_fn, lstm_cell_layer_call_and_return_conditional_losses while saving (showing 2 of 2). These functions will not be directly callable after loading.\n"
     ]
    },
    {
     "name": "stdout",
     "output_type": "stream",
     "text": [
      "INFO:tensorflow:Assets written to: best_model.pkl/assets\n"
     ]
    },
    {
     "name": "stderr",
     "output_type": "stream",
     "text": [
      "INFO:tensorflow:Assets written to: best_model.pkl/assets\n"
     ]
    },
    {
     "name": "stdout",
     "output_type": "stream",
     "text": [
      "17/17 [==============================] - 9s 560ms/step - loss: 0.3939 - accuracy: 0.8117 - val_loss: 0.3824 - val_accuracy: 0.8192\n",
      "Epoch 8/200\n",
      "17/17 [==============================] - ETA: 0s - loss: 0.3867 - accuracy: 0.8155\n",
      "Epoch 8: val_accuracy did not improve from 0.81920\n",
      "17/17 [==============================] - 3s 173ms/step - loss: 0.3867 - accuracy: 0.8155 - val_loss: 0.3885 - val_accuracy: 0.8033\n",
      "Epoch 9/200\n",
      "17/17 [==============================] - ETA: 0s - loss: 0.3684 - accuracy: 0.8249\n",
      "Epoch 9: val_accuracy improved from 0.81920 to 0.82097, saving model to best_model.pkl\n"
     ]
    },
    {
     "name": "stderr",
     "output_type": "stream",
     "text": [
      "WARNING:absl:Found untraced functions such as lstm_cell_layer_call_fn, lstm_cell_layer_call_and_return_conditional_losses while saving (showing 2 of 2). These functions will not be directly callable after loading.\n"
     ]
    },
    {
     "name": "stdout",
     "output_type": "stream",
     "text": [
      "INFO:tensorflow:Assets written to: best_model.pkl/assets\n"
     ]
    },
    {
     "name": "stderr",
     "output_type": "stream",
     "text": [
      "INFO:tensorflow:Assets written to: best_model.pkl/assets\n"
     ]
    },
    {
     "name": "stdout",
     "output_type": "stream",
     "text": [
      "17/17 [==============================] - 9s 570ms/step - loss: 0.3684 - accuracy: 0.8249 - val_loss: 0.3555 - val_accuracy: 0.8210\n",
      "Epoch 10/200\n",
      "17/17 [==============================] - ETA: 0s - loss: 0.3636 - accuracy: 0.8310\n",
      "Epoch 10: val_accuracy improved from 0.82097 to 0.83098, saving model to best_model.pkl\n"
     ]
    },
    {
     "name": "stderr",
     "output_type": "stream",
     "text": [
      "WARNING:absl:Found untraced functions such as lstm_cell_layer_call_fn, lstm_cell_layer_call_and_return_conditional_losses while saving (showing 2 of 2). These functions will not be directly callable after loading.\n"
     ]
    },
    {
     "name": "stdout",
     "output_type": "stream",
     "text": [
      "INFO:tensorflow:Assets written to: best_model.pkl/assets\n"
     ]
    },
    {
     "name": "stderr",
     "output_type": "stream",
     "text": [
      "INFO:tensorflow:Assets written to: best_model.pkl/assets\n"
     ]
    },
    {
     "name": "stdout",
     "output_type": "stream",
     "text": [
      "17/17 [==============================] - 9s 536ms/step - loss: 0.3636 - accuracy: 0.8310 - val_loss: 0.3484 - val_accuracy: 0.8310\n",
      "Epoch 11/200\n",
      "17/17 [==============================] - ETA: 0s - loss: 0.3637 - accuracy: 0.8282\n",
      "Epoch 11: val_accuracy did not improve from 0.83098\n",
      "17/17 [==============================] - 3s 175ms/step - loss: 0.3637 - accuracy: 0.8282 - val_loss: 0.3649 - val_accuracy: 0.8198\n",
      "Epoch 12/200\n",
      "17/17 [==============================] - ETA: 0s - loss: 0.3524 - accuracy: 0.8376\n",
      "Epoch 12: val_accuracy improved from 0.83098 to 0.84982, saving model to best_model.pkl\n"
     ]
    },
    {
     "name": "stderr",
     "output_type": "stream",
     "text": [
      "WARNING:absl:Found untraced functions such as lstm_cell_layer_call_fn, lstm_cell_layer_call_and_return_conditional_losses while saving (showing 2 of 2). These functions will not be directly callable after loading.\n"
     ]
    },
    {
     "name": "stdout",
     "output_type": "stream",
     "text": [
      "INFO:tensorflow:Assets written to: best_model.pkl/assets\n"
     ]
    },
    {
     "name": "stderr",
     "output_type": "stream",
     "text": [
      "INFO:tensorflow:Assets written to: best_model.pkl/assets\n"
     ]
    },
    {
     "name": "stdout",
     "output_type": "stream",
     "text": [
      "17/17 [==============================] - 9s 561ms/step - loss: 0.3524 - accuracy: 0.8376 - val_loss: 0.3268 - val_accuracy: 0.8498\n",
      "Epoch 13/200\n",
      "17/17 [==============================] - ETA: 0s - loss: 0.3453 - accuracy: 0.8388\n",
      "Epoch 13: val_accuracy did not improve from 0.84982\n",
      "17/17 [==============================] - 3s 172ms/step - loss: 0.3453 - accuracy: 0.8388 - val_loss: 0.3332 - val_accuracy: 0.8398\n",
      "Epoch 14/200\n",
      "17/17 [==============================] - ETA: 0s - loss: 0.3456 - accuracy: 0.8348\n",
      "Epoch 14: val_accuracy improved from 0.84982 to 0.86337, saving model to best_model.pkl\n"
     ]
    },
    {
     "name": "stderr",
     "output_type": "stream",
     "text": [
      "WARNING:absl:Found untraced functions such as lstm_cell_layer_call_fn, lstm_cell_layer_call_and_return_conditional_losses while saving (showing 2 of 2). These functions will not be directly callable after loading.\n"
     ]
    },
    {
     "name": "stdout",
     "output_type": "stream",
     "text": [
      "INFO:tensorflow:Assets written to: best_model.pkl/assets\n"
     ]
    },
    {
     "name": "stderr",
     "output_type": "stream",
     "text": [
      "INFO:tensorflow:Assets written to: best_model.pkl/assets\n"
     ]
    },
    {
     "name": "stdout",
     "output_type": "stream",
     "text": [
      "17/17 [==============================] - 9s 537ms/step - loss: 0.3456 - accuracy: 0.8348 - val_loss: 0.3133 - val_accuracy: 0.8634\n",
      "Epoch 15/200\n",
      "17/17 [==============================] - ETA: 0s - loss: 0.3458 - accuracy: 0.8419\n",
      "Epoch 15: val_accuracy improved from 0.86337 to 0.86631, saving model to best_model.pkl\n"
     ]
    },
    {
     "name": "stderr",
     "output_type": "stream",
     "text": [
      "WARNING:absl:Found untraced functions such as lstm_cell_layer_call_fn, lstm_cell_layer_call_and_return_conditional_losses while saving (showing 2 of 2). These functions will not be directly callable after loading.\n"
     ]
    },
    {
     "name": "stdout",
     "output_type": "stream",
     "text": [
      "INFO:tensorflow:Assets written to: best_model.pkl/assets\n"
     ]
    },
    {
     "name": "stderr",
     "output_type": "stream",
     "text": [
      "INFO:tensorflow:Assets written to: best_model.pkl/assets\n"
     ]
    },
    {
     "name": "stdout",
     "output_type": "stream",
     "text": [
      "17/17 [==============================] - 10s 585ms/step - loss: 0.3458 - accuracy: 0.8419 - val_loss: 0.3151 - val_accuracy: 0.8663\n",
      "Epoch 16/200\n",
      "17/17 [==============================] - ETA: 0s - loss: 0.3328 - accuracy: 0.8459\n",
      "Epoch 16: val_accuracy did not improve from 0.86631\n",
      "17/17 [==============================] - 3s 172ms/step - loss: 0.3328 - accuracy: 0.8459 - val_loss: 0.3095 - val_accuracy: 0.8622\n",
      "Epoch 17/200\n",
      "17/17 [==============================] - ETA: 0s - loss: 0.3189 - accuracy: 0.8539\n",
      "Epoch 17: val_accuracy did not improve from 0.86631\n",
      "17/17 [==============================] - 3s 176ms/step - loss: 0.3189 - accuracy: 0.8539 - val_loss: 0.3015 - val_accuracy: 0.8622\n",
      "Epoch 18/200\n",
      "17/17 [==============================] - ETA: 0s - loss: 0.3176 - accuracy: 0.8565\n",
      "Epoch 18: val_accuracy improved from 0.86631 to 0.87338, saving model to best_model.pkl\n"
     ]
    },
    {
     "name": "stderr",
     "output_type": "stream",
     "text": [
      "WARNING:absl:Found untraced functions such as lstm_cell_layer_call_fn, lstm_cell_layer_call_and_return_conditional_losses while saving (showing 2 of 2). These functions will not be directly callable after loading.\n"
     ]
    },
    {
     "name": "stdout",
     "output_type": "stream",
     "text": [
      "INFO:tensorflow:Assets written to: best_model.pkl/assets\n"
     ]
    },
    {
     "name": "stderr",
     "output_type": "stream",
     "text": [
      "INFO:tensorflow:Assets written to: best_model.pkl/assets\n"
     ]
    },
    {
     "name": "stdout",
     "output_type": "stream",
     "text": [
      "17/17 [==============================] - 9s 532ms/step - loss: 0.3176 - accuracy: 0.8565 - val_loss: 0.2843 - val_accuracy: 0.8734\n",
      "Epoch 19/200\n",
      "17/17 [==============================] - ETA: 0s - loss: 0.3105 - accuracy: 0.8543\n",
      "Epoch 19: val_accuracy did not improve from 0.87338\n",
      "17/17 [==============================] - 3s 176ms/step - loss: 0.3105 - accuracy: 0.8543 - val_loss: 0.2971 - val_accuracy: 0.8610\n",
      "Epoch 20/200\n",
      "17/17 [==============================] - ETA: 0s - loss: 0.3000 - accuracy: 0.8661\n",
      "Epoch 20: val_accuracy improved from 0.87338 to 0.88104, saving model to best_model.pkl\n"
     ]
    },
    {
     "name": "stderr",
     "output_type": "stream",
     "text": [
      "WARNING:absl:Found untraced functions such as lstm_cell_layer_call_fn, lstm_cell_layer_call_and_return_conditional_losses while saving (showing 2 of 2). These functions will not be directly callable after loading.\n"
     ]
    },
    {
     "name": "stdout",
     "output_type": "stream",
     "text": [
      "INFO:tensorflow:Assets written to: best_model.pkl/assets\n"
     ]
    },
    {
     "name": "stderr",
     "output_type": "stream",
     "text": [
      "INFO:tensorflow:Assets written to: best_model.pkl/assets\n"
     ]
    },
    {
     "name": "stdout",
     "output_type": "stream",
     "text": [
      "17/17 [==============================] - 9s 577ms/step - loss: 0.3000 - accuracy: 0.8661 - val_loss: 0.2779 - val_accuracy: 0.8810\n",
      "Epoch 21/200\n",
      "17/17 [==============================] - ETA: 0s - loss: 0.3009 - accuracy: 0.8664\n",
      "Epoch 21: val_accuracy did not improve from 0.88104\n",
      "17/17 [==============================] - 3s 173ms/step - loss: 0.3009 - accuracy: 0.8664 - val_loss: 0.2768 - val_accuracy: 0.8769\n",
      "Epoch 22/200\n",
      "17/17 [==============================] - ETA: 0s - loss: 0.2867 - accuracy: 0.8668\n",
      "Epoch 22: val_accuracy did not improve from 0.88104\n",
      "17/17 [==============================] - 3s 173ms/step - loss: 0.2867 - accuracy: 0.8668 - val_loss: 0.2742 - val_accuracy: 0.8781\n",
      "Epoch 23/200\n",
      "17/17 [==============================] - ETA: 0s - loss: 0.2930 - accuracy: 0.8716\n",
      "Epoch 23: val_accuracy did not improve from 0.88104\n",
      "17/17 [==============================] - 3s 185ms/step - loss: 0.2930 - accuracy: 0.8716 - val_loss: 0.2766 - val_accuracy: 0.8710\n",
      "Epoch 24/200\n",
      "17/17 [==============================] - ETA: 0s - loss: 0.2796 - accuracy: 0.8739\n",
      "Epoch 24: val_accuracy did not improve from 0.88104\n",
      "17/17 [==============================] - 3s 174ms/step - loss: 0.2796 - accuracy: 0.8739 - val_loss: 0.2573 - val_accuracy: 0.8799\n",
      "Epoch 25/200\n",
      "17/17 [==============================] - ETA: 0s - loss: 0.2674 - accuracy: 0.8829\n",
      "Epoch 25: val_accuracy improved from 0.88104 to 0.88869, saving model to best_model.pkl\n"
     ]
    },
    {
     "name": "stderr",
     "output_type": "stream",
     "text": [
      "WARNING:absl:Found untraced functions such as lstm_cell_layer_call_fn, lstm_cell_layer_call_and_return_conditional_losses while saving (showing 2 of 2). These functions will not be directly callable after loading.\n"
     ]
    },
    {
     "name": "stdout",
     "output_type": "stream",
     "text": [
      "INFO:tensorflow:Assets written to: best_model.pkl/assets\n"
     ]
    },
    {
     "name": "stderr",
     "output_type": "stream",
     "text": [
      "INFO:tensorflow:Assets written to: best_model.pkl/assets\n"
     ]
    },
    {
     "name": "stdout",
     "output_type": "stream",
     "text": [
      "17/17 [==============================] - 9s 537ms/step - loss: 0.2674 - accuracy: 0.8829 - val_loss: 0.2590 - val_accuracy: 0.8887\n",
      "Epoch 26/200\n",
      "17/17 [==============================] - ETA: 0s - loss: 0.2672 - accuracy: 0.8852\n",
      "Epoch 26: val_accuracy did not improve from 0.88869\n",
      "17/17 [==============================] - 3s 176ms/step - loss: 0.2672 - accuracy: 0.8852 - val_loss: 0.2497 - val_accuracy: 0.8887\n",
      "Epoch 27/200\n",
      "17/17 [==============================] - ETA: 0s - loss: 0.2702 - accuracy: 0.8807\n",
      "Epoch 27: val_accuracy improved from 0.88869 to 0.90577, saving model to best_model.pkl\n"
     ]
    },
    {
     "name": "stderr",
     "output_type": "stream",
     "text": [
      "WARNING:absl:Found untraced functions such as lstm_cell_layer_call_fn, lstm_cell_layer_call_and_return_conditional_losses while saving (showing 2 of 2). These functions will not be directly callable after loading.\n"
     ]
    },
    {
     "name": "stdout",
     "output_type": "stream",
     "text": [
      "INFO:tensorflow:Assets written to: best_model.pkl/assets\n"
     ]
    },
    {
     "name": "stderr",
     "output_type": "stream",
     "text": [
      "INFO:tensorflow:Assets written to: best_model.pkl/assets\n"
     ]
    },
    {
     "name": "stdout",
     "output_type": "stream",
     "text": [
      "17/17 [==============================] - 9s 568ms/step - loss: 0.2702 - accuracy: 0.8807 - val_loss: 0.2367 - val_accuracy: 0.9058\n",
      "Epoch 28/200\n",
      "17/17 [==============================] - ETA: 0s - loss: 0.2528 - accuracy: 0.8904\n",
      "Epoch 28: val_accuracy did not improve from 0.90577\n",
      "17/17 [==============================] - 3s 175ms/step - loss: 0.2528 - accuracy: 0.8904 - val_loss: 0.2504 - val_accuracy: 0.8881\n",
      "Epoch 29/200\n",
      "17/17 [==============================] - ETA: 0s - loss: 0.2579 - accuracy: 0.8838\n",
      "Epoch 29: val_accuracy did not improve from 0.90577\n",
      "17/17 [==============================] - 3s 175ms/step - loss: 0.2579 - accuracy: 0.8838 - val_loss: 0.2309 - val_accuracy: 0.9052\n",
      "Epoch 30/200\n",
      "17/17 [==============================] - ETA: 0s - loss: 0.2390 - accuracy: 0.8949\n",
      "Epoch 30: val_accuracy improved from 0.90577 to 0.91166, saving model to best_model.pkl\n"
     ]
    },
    {
     "name": "stderr",
     "output_type": "stream",
     "text": [
      "WARNING:absl:Found untraced functions such as lstm_cell_layer_call_fn, lstm_cell_layer_call_and_return_conditional_losses while saving (showing 2 of 2). These functions will not be directly callable after loading.\n"
     ]
    },
    {
     "name": "stdout",
     "output_type": "stream",
     "text": [
      "INFO:tensorflow:Assets written to: best_model.pkl/assets\n"
     ]
    },
    {
     "name": "stderr",
     "output_type": "stream",
     "text": [
      "INFO:tensorflow:Assets written to: best_model.pkl/assets\n"
     ]
    },
    {
     "name": "stdout",
     "output_type": "stream",
     "text": [
      "17/17 [==============================] - 9s 575ms/step - loss: 0.2390 - accuracy: 0.8949 - val_loss: 0.2193 - val_accuracy: 0.9117\n",
      "Epoch 31/200\n",
      "17/17 [==============================] - ETA: 0s - loss: 0.2318 - accuracy: 0.9043\n",
      "Epoch 31: val_accuracy did not improve from 0.91166\n",
      "17/17 [==============================] - 3s 182ms/step - loss: 0.2318 - accuracy: 0.9043 - val_loss: 0.2184 - val_accuracy: 0.9058\n",
      "Epoch 32/200\n",
      "17/17 [==============================] - ETA: 0s - loss: 0.2391 - accuracy: 0.8946\n",
      "Epoch 32: val_accuracy improved from 0.91166 to 0.92049, saving model to best_model.pkl\n"
     ]
    },
    {
     "name": "stderr",
     "output_type": "stream",
     "text": [
      "WARNING:absl:Found untraced functions such as lstm_cell_layer_call_fn, lstm_cell_layer_call_and_return_conditional_losses while saving (showing 2 of 2). These functions will not be directly callable after loading.\n"
     ]
    },
    {
     "name": "stdout",
     "output_type": "stream",
     "text": [
      "INFO:tensorflow:Assets written to: best_model.pkl/assets\n"
     ]
    },
    {
     "name": "stderr",
     "output_type": "stream",
     "text": [
      "INFO:tensorflow:Assets written to: best_model.pkl/assets\n"
     ]
    },
    {
     "name": "stdout",
     "output_type": "stream",
     "text": [
      "17/17 [==============================] - 10s 585ms/step - loss: 0.2391 - accuracy: 0.8946 - val_loss: 0.2005 - val_accuracy: 0.9205\n",
      "Epoch 33/200\n",
      "17/17 [==============================] - ETA: 0s - loss: 0.2265 - accuracy: 0.9050\n",
      "Epoch 33: val_accuracy did not improve from 0.92049\n",
      "17/17 [==============================] - 3s 176ms/step - loss: 0.2265 - accuracy: 0.9050 - val_loss: 0.2299 - val_accuracy: 0.9040\n",
      "Epoch 34/200\n",
      "17/17 [==============================] - ETA: 0s - loss: 0.2272 - accuracy: 0.9048\n",
      "Epoch 34: val_accuracy did not improve from 0.92049\n",
      "17/17 [==============================] - 3s 176ms/step - loss: 0.2272 - accuracy: 0.9048 - val_loss: 0.2185 - val_accuracy: 0.9028\n",
      "Epoch 35/200\n",
      "17/17 [==============================] - ETA: 0s - loss: 0.2239 - accuracy: 0.9050\n",
      "Epoch 35: val_accuracy improved from 0.92049 to 0.92108, saving model to best_model.pkl\n"
     ]
    },
    {
     "name": "stderr",
     "output_type": "stream",
     "text": [
      "WARNING:absl:Found untraced functions such as lstm_cell_layer_call_fn, lstm_cell_layer_call_and_return_conditional_losses while saving (showing 2 of 2). These functions will not be directly callable after loading.\n"
     ]
    },
    {
     "name": "stdout",
     "output_type": "stream",
     "text": [
      "INFO:tensorflow:Assets written to: best_model.pkl/assets\n"
     ]
    },
    {
     "name": "stderr",
     "output_type": "stream",
     "text": [
      "INFO:tensorflow:Assets written to: best_model.pkl/assets\n"
     ]
    },
    {
     "name": "stdout",
     "output_type": "stream",
     "text": [
      "17/17 [==============================] - 9s 535ms/step - loss: 0.2239 - accuracy: 0.9050 - val_loss: 0.1995 - val_accuracy: 0.9211\n",
      "Epoch 36/200\n",
      "17/17 [==============================] - ETA: 0s - loss: 0.2148 - accuracy: 0.9074\n",
      "Epoch 36: val_accuracy improved from 0.92108 to 0.93110, saving model to best_model.pkl\n"
     ]
    },
    {
     "name": "stderr",
     "output_type": "stream",
     "text": [
      "WARNING:absl:Found untraced functions such as lstm_cell_layer_call_fn, lstm_cell_layer_call_and_return_conditional_losses while saving (showing 2 of 2). These functions will not be directly callable after loading.\n"
     ]
    },
    {
     "name": "stdout",
     "output_type": "stream",
     "text": [
      "INFO:tensorflow:Assets written to: best_model.pkl/assets\n"
     ]
    },
    {
     "name": "stderr",
     "output_type": "stream",
     "text": [
      "INFO:tensorflow:Assets written to: best_model.pkl/assets\n"
     ]
    },
    {
     "name": "stdout",
     "output_type": "stream",
     "text": [
      "17/17 [==============================] - 9s 532ms/step - loss: 0.2148 - accuracy: 0.9074 - val_loss: 0.1848 - val_accuracy: 0.9311\n",
      "Epoch 37/200\n",
      "17/17 [==============================] - ETA: 0s - loss: 0.1967 - accuracy: 0.9149\n",
      "Epoch 37: val_accuracy did not improve from 0.93110\n",
      "17/17 [==============================] - 3s 191ms/step - loss: 0.1967 - accuracy: 0.9149 - val_loss: 0.1808 - val_accuracy: 0.9270\n",
      "Epoch 38/200\n",
      "17/17 [==============================] - ETA: 0s - loss: 0.2008 - accuracy: 0.9126\n",
      "Epoch 38: val_accuracy did not improve from 0.93110\n",
      "17/17 [==============================] - 3s 185ms/step - loss: 0.2008 - accuracy: 0.9126 - val_loss: 0.1828 - val_accuracy: 0.9311\n",
      "Epoch 39/200\n",
      "17/17 [==============================] - ETA: 0s - loss: 0.1962 - accuracy: 0.9147\n",
      "Epoch 39: val_accuracy improved from 0.93110 to 0.93993, saving model to best_model.pkl\n"
     ]
    },
    {
     "name": "stderr",
     "output_type": "stream",
     "text": [
      "WARNING:absl:Found untraced functions such as lstm_cell_layer_call_fn, lstm_cell_layer_call_and_return_conditional_losses while saving (showing 2 of 2). These functions will not be directly callable after loading.\n"
     ]
    },
    {
     "name": "stdout",
     "output_type": "stream",
     "text": [
      "INFO:tensorflow:Assets written to: best_model.pkl/assets\n"
     ]
    },
    {
     "name": "stderr",
     "output_type": "stream",
     "text": [
      "INFO:tensorflow:Assets written to: best_model.pkl/assets\n"
     ]
    },
    {
     "name": "stdout",
     "output_type": "stream",
     "text": [
      "17/17 [==============================] - 10s 589ms/step - loss: 0.1962 - accuracy: 0.9147 - val_loss: 0.1602 - val_accuracy: 0.9399\n",
      "Epoch 40/200\n",
      "17/17 [==============================] - ETA: 0s - loss: 0.1768 - accuracy: 0.9274\n",
      "Epoch 40: val_accuracy did not improve from 0.93993\n",
      "17/17 [==============================] - 3s 174ms/step - loss: 0.1768 - accuracy: 0.9274 - val_loss: 0.1679 - val_accuracy: 0.9329\n",
      "Epoch 41/200\n",
      "17/17 [==============================] - ETA: 0s - loss: 0.1854 - accuracy: 0.9208\n",
      "Epoch 41: val_accuracy did not improve from 0.93993\n",
      "17/17 [==============================] - 3s 175ms/step - loss: 0.1854 - accuracy: 0.9208 - val_loss: 0.1815 - val_accuracy: 0.9287\n",
      "Epoch 42/200\n",
      "17/17 [==============================] - ETA: 0s - loss: 0.1936 - accuracy: 0.9189\n",
      "Epoch 42: val_accuracy did not improve from 0.93993\n",
      "17/17 [==============================] - 3s 179ms/step - loss: 0.1936 - accuracy: 0.9189 - val_loss: 0.1854 - val_accuracy: 0.9252\n",
      "Epoch 43/200\n",
      "17/17 [==============================] - ETA: 0s - loss: 0.1811 - accuracy: 0.9267\n",
      "Epoch 43: val_accuracy did not improve from 0.93993\n",
      "17/17 [==============================] - 3s 175ms/step - loss: 0.1811 - accuracy: 0.9267 - val_loss: 0.1689 - val_accuracy: 0.9276\n",
      "Epoch 44/200\n",
      "17/17 [==============================] - ETA: 0s - loss: 0.1752 - accuracy: 0.9307\n",
      "Epoch 44: val_accuracy did not improve from 0.93993\n",
      "17/17 [==============================] - 3s 176ms/step - loss: 0.1752 - accuracy: 0.9307 - val_loss: 0.1684 - val_accuracy: 0.9376\n",
      "Epoch 45/200\n",
      "17/17 [==============================] - ETA: 0s - loss: 0.1630 - accuracy: 0.9375\n",
      "Epoch 45: val_accuracy improved from 0.93993 to 0.94229, saving model to best_model.pkl\n"
     ]
    },
    {
     "name": "stderr",
     "output_type": "stream",
     "text": [
      "WARNING:absl:Found untraced functions such as lstm_cell_layer_call_fn, lstm_cell_layer_call_and_return_conditional_losses while saving (showing 2 of 2). These functions will not be directly callable after loading.\n"
     ]
    },
    {
     "name": "stdout",
     "output_type": "stream",
     "text": [
      "INFO:tensorflow:Assets written to: best_model.pkl/assets\n"
     ]
    },
    {
     "name": "stderr",
     "output_type": "stream",
     "text": [
      "INFO:tensorflow:Assets written to: best_model.pkl/assets\n"
     ]
    },
    {
     "name": "stdout",
     "output_type": "stream",
     "text": [
      "17/17 [==============================] - 9s 534ms/step - loss: 0.1630 - accuracy: 0.9375 - val_loss: 0.1500 - val_accuracy: 0.9423\n",
      "Epoch 46/200\n",
      "17/17 [==============================] - ETA: 0s - loss: 0.1607 - accuracy: 0.9326\n",
      "Epoch 46: val_accuracy improved from 0.94229 to 0.94346, saving model to best_model.pkl\n"
     ]
    },
    {
     "name": "stderr",
     "output_type": "stream",
     "text": [
      "WARNING:absl:Found untraced functions such as lstm_cell_layer_call_fn, lstm_cell_layer_call_and_return_conditional_losses while saving (showing 2 of 2). These functions will not be directly callable after loading.\n"
     ]
    },
    {
     "name": "stdout",
     "output_type": "stream",
     "text": [
      "INFO:tensorflow:Assets written to: best_model.pkl/assets\n"
     ]
    },
    {
     "name": "stderr",
     "output_type": "stream",
     "text": [
      "INFO:tensorflow:Assets written to: best_model.pkl/assets\n"
     ]
    },
    {
     "name": "stdout",
     "output_type": "stream",
     "text": [
      "17/17 [==============================] - 9s 573ms/step - loss: 0.1607 - accuracy: 0.9326 - val_loss: 0.1454 - val_accuracy: 0.9435\n",
      "Epoch 47/200\n",
      "17/17 [==============================] - ETA: 0s - loss: 0.1466 - accuracy: 0.9385\n",
      "Epoch 47: val_accuracy did not improve from 0.94346\n",
      "17/17 [==============================] - 3s 175ms/step - loss: 0.1466 - accuracy: 0.9385 - val_loss: 0.1526 - val_accuracy: 0.9388\n",
      "Epoch 48/200\n",
      "17/17 [==============================] - ETA: 0s - loss: 0.1584 - accuracy: 0.9368\n",
      "Epoch 48: val_accuracy did not improve from 0.94346\n",
      "17/17 [==============================] - 3s 174ms/step - loss: 0.1584 - accuracy: 0.9368 - val_loss: 0.1573 - val_accuracy: 0.9388\n",
      "Epoch 49/200\n",
      "17/17 [==============================] - ETA: 0s - loss: 0.1652 - accuracy: 0.9357\n",
      "Epoch 49: val_accuracy improved from 0.94346 to 0.94464, saving model to best_model.pkl\n"
     ]
    },
    {
     "name": "stderr",
     "output_type": "stream",
     "text": [
      "WARNING:absl:Found untraced functions such as lstm_cell_layer_call_fn, lstm_cell_layer_call_and_return_conditional_losses while saving (showing 2 of 2). These functions will not be directly callable after loading.\n"
     ]
    },
    {
     "name": "stdout",
     "output_type": "stream",
     "text": [
      "INFO:tensorflow:Assets written to: best_model.pkl/assets\n"
     ]
    },
    {
     "name": "stderr",
     "output_type": "stream",
     "text": [
      "INFO:tensorflow:Assets written to: best_model.pkl/assets\n"
     ]
    },
    {
     "name": "stdout",
     "output_type": "stream",
     "text": [
      "17/17 [==============================] - 9s 535ms/step - loss: 0.1652 - accuracy: 0.9357 - val_loss: 0.1414 - val_accuracy: 0.9446\n",
      "Epoch 50/200\n",
      "17/17 [==============================] - ETA: 0s - loss: 0.1641 - accuracy: 0.9324\n",
      "Epoch 50: val_accuracy did not improve from 0.94464\n",
      "17/17 [==============================] - 3s 180ms/step - loss: 0.1641 - accuracy: 0.9324 - val_loss: 0.1580 - val_accuracy: 0.9376\n",
      "Epoch 51/200\n",
      "17/17 [==============================] - ETA: 0s - loss: 0.1536 - accuracy: 0.9375\n",
      "Epoch 51: val_accuracy did not improve from 0.94464\n",
      "17/17 [==============================] - 3s 176ms/step - loss: 0.1536 - accuracy: 0.9375 - val_loss: 0.1467 - val_accuracy: 0.9417\n",
      "Epoch 52/200\n",
      "17/17 [==============================] - ETA: 0s - loss: 0.1455 - accuracy: 0.9432\n",
      "Epoch 52: val_accuracy did not improve from 0.94464\n",
      "17/17 [==============================] - 3s 177ms/step - loss: 0.1455 - accuracy: 0.9432 - val_loss: 0.1462 - val_accuracy: 0.9441\n",
      "Epoch 53/200\n",
      "17/17 [==============================] - ETA: 0s - loss: 0.1430 - accuracy: 0.9418\n",
      "Epoch 53: val_accuracy improved from 0.94464 to 0.94641, saving model to best_model.pkl\n"
     ]
    },
    {
     "name": "stderr",
     "output_type": "stream",
     "text": [
      "WARNING:absl:Found untraced functions such as lstm_cell_layer_call_fn, lstm_cell_layer_call_and_return_conditional_losses while saving (showing 2 of 2). These functions will not be directly callable after loading.\n"
     ]
    },
    {
     "name": "stdout",
     "output_type": "stream",
     "text": [
      "INFO:tensorflow:Assets written to: best_model.pkl/assets\n"
     ]
    },
    {
     "name": "stderr",
     "output_type": "stream",
     "text": [
      "INFO:tensorflow:Assets written to: best_model.pkl/assets\n"
     ]
    },
    {
     "name": "stdout",
     "output_type": "stream",
     "text": [
      "17/17 [==============================] - 9s 575ms/step - loss: 0.1430 - accuracy: 0.9418 - val_loss: 0.1349 - val_accuracy: 0.9464\n",
      "Epoch 54/200\n",
      "17/17 [==============================] - ETA: 0s - loss: 0.1430 - accuracy: 0.9418\n",
      "Epoch 54: val_accuracy did not improve from 0.94641\n",
      "17/17 [==============================] - 3s 176ms/step - loss: 0.1430 - accuracy: 0.9418 - val_loss: 0.1301 - val_accuracy: 0.9446\n",
      "Epoch 55/200\n",
      "17/17 [==============================] - ETA: 0s - loss: 0.1333 - accuracy: 0.9496\n",
      "Epoch 55: val_accuracy improved from 0.94641 to 0.95347, saving model to best_model.pkl\n"
     ]
    },
    {
     "name": "stderr",
     "output_type": "stream",
     "text": [
      "WARNING:absl:Found untraced functions such as lstm_cell_layer_call_fn, lstm_cell_layer_call_and_return_conditional_losses while saving (showing 2 of 2). These functions will not be directly callable after loading.\n"
     ]
    },
    {
     "name": "stdout",
     "output_type": "stream",
     "text": [
      "INFO:tensorflow:Assets written to: best_model.pkl/assets\n"
     ]
    },
    {
     "name": "stderr",
     "output_type": "stream",
     "text": [
      "INFO:tensorflow:Assets written to: best_model.pkl/assets\n"
     ]
    },
    {
     "name": "stdout",
     "output_type": "stream",
     "text": [
      "17/17 [==============================] - 12s 730ms/step - loss: 0.1333 - accuracy: 0.9496 - val_loss: 0.1211 - val_accuracy: 0.9535\n",
      "Epoch 56/200\n",
      "17/17 [==============================] - ETA: 0s - loss: 0.1194 - accuracy: 0.9493\n",
      "Epoch 56: val_accuracy did not improve from 0.95347\n",
      "17/17 [==============================] - 3s 175ms/step - loss: 0.1194 - accuracy: 0.9493 - val_loss: 0.1268 - val_accuracy: 0.9494\n",
      "Epoch 57/200\n",
      "17/17 [==============================] - ETA: 0s - loss: 0.1257 - accuracy: 0.9489\n",
      "Epoch 57: val_accuracy did not improve from 0.95347\n",
      "17/17 [==============================] - 3s 178ms/step - loss: 0.1257 - accuracy: 0.9489 - val_loss: 0.1319 - val_accuracy: 0.9452\n",
      "Epoch 58/200\n",
      "17/17 [==============================] - ETA: 0s - loss: 0.1282 - accuracy: 0.9453\n",
      "Epoch 58: val_accuracy did not improve from 0.95347\n",
      "17/17 [==============================] - 3s 173ms/step - loss: 0.1282 - accuracy: 0.9453 - val_loss: 0.1246 - val_accuracy: 0.9523\n",
      "Epoch 59/200\n",
      "17/17 [==============================] - ETA: 0s - loss: 0.1301 - accuracy: 0.9517\n",
      "Epoch 59: val_accuracy did not improve from 0.95347\n",
      "17/17 [==============================] - 3s 164ms/step - loss: 0.1301 - accuracy: 0.9517 - val_loss: 0.1240 - val_accuracy: 0.9482\n",
      "Epoch 60/200\n",
      "17/17 [==============================] - ETA: 0s - loss: 0.1196 - accuracy: 0.9517\n",
      "Epoch 60: val_accuracy did not improve from 0.95347\n",
      "17/17 [==============================] - 3s 166ms/step - loss: 0.1196 - accuracy: 0.9517 - val_loss: 0.1198 - val_accuracy: 0.9529\n",
      "Epoch 61/200\n",
      "17/17 [==============================] - ETA: 0s - loss: 0.1204 - accuracy: 0.9538\n",
      "Epoch 61: val_accuracy improved from 0.95347 to 0.95995, saving model to best_model.pkl\n"
     ]
    },
    {
     "name": "stderr",
     "output_type": "stream",
     "text": [
      "WARNING:absl:Found untraced functions such as lstm_cell_layer_call_fn, lstm_cell_layer_call_and_return_conditional_losses while saving (showing 2 of 2). These functions will not be directly callable after loading.\n"
     ]
    },
    {
     "name": "stdout",
     "output_type": "stream",
     "text": [
      "INFO:tensorflow:Assets written to: best_model.pkl/assets\n"
     ]
    },
    {
     "name": "stderr",
     "output_type": "stream",
     "text": [
      "INFO:tensorflow:Assets written to: best_model.pkl/assets\n"
     ]
    },
    {
     "name": "stdout",
     "output_type": "stream",
     "text": [
      "17/17 [==============================] - 9s 540ms/step - loss: 0.1204 - accuracy: 0.9538 - val_loss: 0.1070 - val_accuracy: 0.9600\n",
      "Epoch 62/200\n",
      "17/17 [==============================] - ETA: 0s - loss: 0.1123 - accuracy: 0.9510\n",
      "Epoch 62: val_accuracy did not improve from 0.95995\n",
      "17/17 [==============================] - 3s 197ms/step - loss: 0.1123 - accuracy: 0.9510 - val_loss: 0.1151 - val_accuracy: 0.9552\n",
      "Epoch 63/200\n",
      "17/17 [==============================] - ETA: 0s - loss: 0.1081 - accuracy: 0.9573\n",
      "Epoch 63: val_accuracy did not improve from 0.95995\n",
      "17/17 [==============================] - 3s 191ms/step - loss: 0.1081 - accuracy: 0.9573 - val_loss: 0.1082 - val_accuracy: 0.9588\n",
      "Epoch 64/200\n",
      "17/17 [==============================] - ETA: 0s - loss: 0.1120 - accuracy: 0.9566\n",
      "Epoch 64: val_accuracy did not improve from 0.95995\n",
      "17/17 [==============================] - 3s 192ms/step - loss: 0.1120 - accuracy: 0.9566 - val_loss: 0.1282 - val_accuracy: 0.9482\n",
      "Epoch 65/200\n",
      "17/17 [==============================] - ETA: 0s - loss: 0.1212 - accuracy: 0.9545\n",
      "Epoch 65: val_accuracy did not improve from 0.95995\n",
      "17/17 [==============================] - 4s 223ms/step - loss: 0.1212 - accuracy: 0.9545 - val_loss: 0.1231 - val_accuracy: 0.9529\n",
      "Epoch 66/200\n",
      "17/17 [==============================] - ETA: 0s - loss: 0.1025 - accuracy: 0.9625\n",
      "Epoch 66: val_accuracy improved from 0.95995 to 0.96290, saving model to best_model.pkl\n"
     ]
    },
    {
     "name": "stderr",
     "output_type": "stream",
     "text": [
      "WARNING:absl:Found untraced functions such as lstm_cell_layer_call_fn, lstm_cell_layer_call_and_return_conditional_losses while saving (showing 2 of 2). These functions will not be directly callable after loading.\n"
     ]
    },
    {
     "name": "stdout",
     "output_type": "stream",
     "text": [
      "INFO:tensorflow:Assets written to: best_model.pkl/assets\n"
     ]
    },
    {
     "name": "stderr",
     "output_type": "stream",
     "text": [
      "INFO:tensorflow:Assets written to: best_model.pkl/assets\n"
     ]
    },
    {
     "name": "stdout",
     "output_type": "stream",
     "text": [
      "17/17 [==============================] - 12s 730ms/step - loss: 0.1025 - accuracy: 0.9625 - val_loss: 0.1005 - val_accuracy: 0.9629\n",
      "Epoch 67/200\n",
      "17/17 [==============================] - ETA: 0s - loss: 0.1054 - accuracy: 0.9576\n",
      "Epoch 67: val_accuracy improved from 0.96290 to 0.96349, saving model to best_model.pkl\n"
     ]
    },
    {
     "name": "stderr",
     "output_type": "stream",
     "text": [
      "WARNING:absl:Found untraced functions such as lstm_cell_layer_call_fn, lstm_cell_layer_call_and_return_conditional_losses while saving (showing 2 of 2). These functions will not be directly callable after loading.\n"
     ]
    },
    {
     "name": "stdout",
     "output_type": "stream",
     "text": [
      "INFO:tensorflow:Assets written to: best_model.pkl/assets\n"
     ]
    },
    {
     "name": "stderr",
     "output_type": "stream",
     "text": [
      "INFO:tensorflow:Assets written to: best_model.pkl/assets\n"
     ]
    },
    {
     "name": "stdout",
     "output_type": "stream",
     "text": [
      "17/17 [==============================] - 10s 604ms/step - loss: 0.1054 - accuracy: 0.9576 - val_loss: 0.1016 - val_accuracy: 0.9635\n",
      "Epoch 68/200\n",
      "17/17 [==============================] - ETA: 0s - loss: 0.0923 - accuracy: 0.9613\n",
      "Epoch 68: val_accuracy did not improve from 0.96349\n",
      "17/17 [==============================] - 3s 184ms/step - loss: 0.0923 - accuracy: 0.9613 - val_loss: 0.1008 - val_accuracy: 0.9617\n",
      "Epoch 69/200\n",
      "17/17 [==============================] - ETA: 0s - loss: 0.1132 - accuracy: 0.9533\n",
      "Epoch 69: val_accuracy did not improve from 0.96349\n",
      "17/17 [==============================] - 4s 216ms/step - loss: 0.1132 - accuracy: 0.9533 - val_loss: 0.1472 - val_accuracy: 0.9452\n",
      "Epoch 70/200\n",
      "17/17 [==============================] - ETA: 0s - loss: 0.1161 - accuracy: 0.9538\n",
      "Epoch 70: val_accuracy did not improve from 0.96349\n",
      "17/17 [==============================] - 3s 187ms/step - loss: 0.1161 - accuracy: 0.9538 - val_loss: 0.1178 - val_accuracy: 0.9547\n",
      "Epoch 71/200\n",
      "17/17 [==============================] - ETA: 0s - loss: 0.0978 - accuracy: 0.9618\n",
      "Epoch 71: val_accuracy did not improve from 0.96349\n",
      "17/17 [==============================] - 3s 197ms/step - loss: 0.0978 - accuracy: 0.9618 - val_loss: 0.0964 - val_accuracy: 0.9629\n",
      "Epoch 72/200\n",
      "17/17 [==============================] - ETA: 0s - loss: 0.1002 - accuracy: 0.9623\n",
      "Epoch 72: val_accuracy improved from 0.96349 to 0.96938, saving model to best_model.pkl\n"
     ]
    },
    {
     "name": "stderr",
     "output_type": "stream",
     "text": [
      "WARNING:absl:Found untraced functions such as lstm_cell_layer_call_fn, lstm_cell_layer_call_and_return_conditional_losses while saving (showing 2 of 2). These functions will not be directly callable after loading.\n"
     ]
    },
    {
     "name": "stdout",
     "output_type": "stream",
     "text": [
      "INFO:tensorflow:Assets written to: best_model.pkl/assets\n"
     ]
    },
    {
     "name": "stderr",
     "output_type": "stream",
     "text": [
      "INFO:tensorflow:Assets written to: best_model.pkl/assets\n"
     ]
    },
    {
     "name": "stdout",
     "output_type": "stream",
     "text": [
      "17/17 [==============================] - 14s 869ms/step - loss: 0.1002 - accuracy: 0.9623 - val_loss: 0.0806 - val_accuracy: 0.9694\n",
      "Epoch 73/200\n",
      "17/17 [==============================] - ETA: 0s - loss: 0.0888 - accuracy: 0.9630\n",
      "Epoch 73: val_accuracy did not improve from 0.96938\n",
      "17/17 [==============================] - 4s 253ms/step - loss: 0.0888 - accuracy: 0.9630 - val_loss: 0.0864 - val_accuracy: 0.9682\n",
      "Epoch 74/200\n",
      "17/17 [==============================] - ETA: 0s - loss: 0.1021 - accuracy: 0.9637\n",
      "Epoch 74: val_accuracy did not improve from 0.96938\n",
      "17/17 [==============================] - 4s 214ms/step - loss: 0.1021 - accuracy: 0.9637 - val_loss: 0.1087 - val_accuracy: 0.9611\n",
      "Epoch 75/200\n",
      "17/17 [==============================] - ETA: 0s - loss: 0.1087 - accuracy: 0.9571\n",
      "Epoch 75: val_accuracy did not improve from 0.96938\n",
      "17/17 [==============================] - 4s 229ms/step - loss: 0.1087 - accuracy: 0.9571 - val_loss: 0.0842 - val_accuracy: 0.9694\n",
      "Epoch 76/200\n",
      "17/17 [==============================] - ETA: 0s - loss: 0.0912 - accuracy: 0.9668\n",
      "Epoch 76: val_accuracy did not improve from 0.96938\n",
      "17/17 [==============================] - 4s 243ms/step - loss: 0.0912 - accuracy: 0.9668 - val_loss: 0.0956 - val_accuracy: 0.9653\n",
      "Epoch 77/200\n",
      "17/17 [==============================] - ETA: 0s - loss: 0.0907 - accuracy: 0.9670\n",
      "Epoch 77: val_accuracy did not improve from 0.96938\n",
      "17/17 [==============================] - 4s 237ms/step - loss: 0.0907 - accuracy: 0.9670 - val_loss: 0.0897 - val_accuracy: 0.9664\n",
      "Epoch 78/200\n",
      "17/17 [==============================] - ETA: 0s - loss: 0.0831 - accuracy: 0.9689\n",
      "Epoch 78: val_accuracy did not improve from 0.96938\n",
      "17/17 [==============================] - 3s 202ms/step - loss: 0.0831 - accuracy: 0.9689 - val_loss: 0.0912 - val_accuracy: 0.9658\n",
      "Epoch 79/200\n",
      "17/17 [==============================] - ETA: 0s - loss: 0.0744 - accuracy: 0.9724\n",
      "Epoch 79: val_accuracy improved from 0.96938 to 0.97232, saving model to best_model.pkl\n"
     ]
    },
    {
     "name": "stderr",
     "output_type": "stream",
     "text": [
      "WARNING:absl:Found untraced functions such as lstm_cell_layer_call_fn, lstm_cell_layer_call_and_return_conditional_losses while saving (showing 2 of 2). These functions will not be directly callable after loading.\n"
     ]
    },
    {
     "name": "stdout",
     "output_type": "stream",
     "text": [
      "INFO:tensorflow:Assets written to: best_model.pkl/assets\n"
     ]
    },
    {
     "name": "stderr",
     "output_type": "stream",
     "text": [
      "INFO:tensorflow:Assets written to: best_model.pkl/assets\n"
     ]
    },
    {
     "name": "stdout",
     "output_type": "stream",
     "text": [
      "17/17 [==============================] - 11s 648ms/step - loss: 0.0744 - accuracy: 0.9724 - val_loss: 0.0876 - val_accuracy: 0.9723\n",
      "Epoch 80/200\n",
      "17/17 [==============================] - ETA: 0s - loss: 0.0962 - accuracy: 0.9639\n",
      "Epoch 80: val_accuracy did not improve from 0.97232\n",
      "17/17 [==============================] - 3s 208ms/step - loss: 0.0962 - accuracy: 0.9639 - val_loss: 0.1039 - val_accuracy: 0.9635\n",
      "Epoch 81/200\n",
      "17/17 [==============================] - ETA: 0s - loss: 0.0890 - accuracy: 0.9663\n",
      "Epoch 81: val_accuracy did not improve from 0.97232\n",
      "17/17 [==============================] - 3s 200ms/step - loss: 0.0890 - accuracy: 0.9663 - val_loss: 0.0802 - val_accuracy: 0.9676\n",
      "Epoch 82/200\n",
      "17/17 [==============================] - ETA: 0s - loss: 0.0897 - accuracy: 0.9651\n",
      "Epoch 82: val_accuracy did not improve from 0.97232\n",
      "17/17 [==============================] - 3s 197ms/step - loss: 0.0897 - accuracy: 0.9651 - val_loss: 0.0813 - val_accuracy: 0.9706\n",
      "Epoch 83/200\n",
      "17/17 [==============================] - ETA: 0s - loss: 0.0843 - accuracy: 0.9644\n",
      "Epoch 83: val_accuracy did not improve from 0.97232\n",
      "17/17 [==============================] - 3s 204ms/step - loss: 0.0843 - accuracy: 0.9644 - val_loss: 0.0872 - val_accuracy: 0.9635\n",
      "Epoch 84/200\n",
      "17/17 [==============================] - ETA: 0s - loss: 0.0779 - accuracy: 0.9708\n",
      "Epoch 84: val_accuracy did not improve from 0.97232\n",
      "17/17 [==============================] - 4s 215ms/step - loss: 0.0779 - accuracy: 0.9708 - val_loss: 0.0755 - val_accuracy: 0.9711\n",
      "Epoch 85/200\n",
      "17/17 [==============================] - ETA: 0s - loss: 0.0845 - accuracy: 0.9677\n",
      "Epoch 85: val_accuracy did not improve from 0.97232\n",
      "17/17 [==============================] - 3s 200ms/step - loss: 0.0845 - accuracy: 0.9677 - val_loss: 0.0908 - val_accuracy: 0.9706\n",
      "Epoch 86/200\n",
      "17/17 [==============================] - ETA: 0s - loss: 0.0831 - accuracy: 0.9684\n",
      "Epoch 86: val_accuracy did not improve from 0.97232\n",
      "17/17 [==============================] - 3s 202ms/step - loss: 0.0831 - accuracy: 0.9684 - val_loss: 0.0803 - val_accuracy: 0.9711\n",
      "Epoch 87/200\n",
      "17/17 [==============================] - ETA: 0s - loss: 0.0704 - accuracy: 0.9741\n",
      "Epoch 87: val_accuracy did not improve from 0.97232\n",
      "17/17 [==============================] - 3s 202ms/step - loss: 0.0704 - accuracy: 0.9741 - val_loss: 0.0775 - val_accuracy: 0.9711\n",
      "Epoch 88/200\n",
      "17/17 [==============================] - ETA: 0s - loss: 0.0757 - accuracy: 0.9712\n",
      "Epoch 88: val_accuracy improved from 0.97232 to 0.97821, saving model to best_model.pkl\n"
     ]
    },
    {
     "name": "stderr",
     "output_type": "stream",
     "text": [
      "WARNING:absl:Found untraced functions such as lstm_cell_layer_call_fn, lstm_cell_layer_call_and_return_conditional_losses while saving (showing 2 of 2). These functions will not be directly callable after loading.\n"
     ]
    },
    {
     "name": "stdout",
     "output_type": "stream",
     "text": [
      "INFO:tensorflow:Assets written to: best_model.pkl/assets\n"
     ]
    },
    {
     "name": "stderr",
     "output_type": "stream",
     "text": [
      "INFO:tensorflow:Assets written to: best_model.pkl/assets\n"
     ]
    },
    {
     "name": "stdout",
     "output_type": "stream",
     "text": [
      "17/17 [==============================] - 10s 592ms/step - loss: 0.0757 - accuracy: 0.9712 - val_loss: 0.0693 - val_accuracy: 0.9782\n",
      "Epoch 89/200\n",
      "17/17 [==============================] - ETA: 0s - loss: 0.0732 - accuracy: 0.9715\n",
      "Epoch 89: val_accuracy did not improve from 0.97821\n",
      "17/17 [==============================] - 3s 194ms/step - loss: 0.0732 - accuracy: 0.9715 - val_loss: 0.0738 - val_accuracy: 0.9764\n",
      "Epoch 90/200\n",
      "17/17 [==============================] - ETA: 0s - loss: 0.0741 - accuracy: 0.9729\n",
      "Epoch 90: val_accuracy did not improve from 0.97821\n",
      "17/17 [==============================] - 3s 197ms/step - loss: 0.0741 - accuracy: 0.9729 - val_loss: 0.0837 - val_accuracy: 0.9711\n",
      "Epoch 91/200\n",
      "17/17 [==============================] - ETA: 0s - loss: 0.0730 - accuracy: 0.9712\n",
      "Epoch 91: val_accuracy did not improve from 0.97821\n",
      "17/17 [==============================] - 4s 210ms/step - loss: 0.0730 - accuracy: 0.9712 - val_loss: 0.0923 - val_accuracy: 0.9717\n",
      "Epoch 92/200\n",
      "17/17 [==============================] - ETA: 0s - loss: 0.0742 - accuracy: 0.9717\n",
      "Epoch 92: val_accuracy did not improve from 0.97821\n",
      "17/17 [==============================] - 3s 200ms/step - loss: 0.0742 - accuracy: 0.9717 - val_loss: 0.0785 - val_accuracy: 0.9764\n",
      "Epoch 93/200\n",
      "17/17 [==============================] - ETA: 0s - loss: 0.0724 - accuracy: 0.9743\n",
      "Epoch 93: val_accuracy did not improve from 0.97821\n",
      "17/17 [==============================] - 3s 206ms/step - loss: 0.0724 - accuracy: 0.9743 - val_loss: 0.0753 - val_accuracy: 0.9764\n",
      "Epoch 94/200\n",
      "17/17 [==============================] - ETA: 0s - loss: 0.0696 - accuracy: 0.9767\n",
      "Epoch 94: val_accuracy did not improve from 0.97821\n",
      "17/17 [==============================] - 3s 194ms/step - loss: 0.0696 - accuracy: 0.9767 - val_loss: 0.0932 - val_accuracy: 0.9647\n",
      "Epoch 95/200\n",
      "17/17 [==============================] - ETA: 0s - loss: 0.0769 - accuracy: 0.9696\n",
      "Epoch 95: val_accuracy did not improve from 0.97821\n",
      "17/17 [==============================] - 3s 202ms/step - loss: 0.0769 - accuracy: 0.9696 - val_loss: 0.0794 - val_accuracy: 0.9717\n",
      "Epoch 96/200\n",
      "17/17 [==============================] - ETA: 0s - loss: 0.0658 - accuracy: 0.9788\n",
      "Epoch 96: val_accuracy did not improve from 0.97821\n",
      "17/17 [==============================] - 3s 206ms/step - loss: 0.0658 - accuracy: 0.9788 - val_loss: 0.0743 - val_accuracy: 0.9741\n",
      "Epoch 97/200\n",
      "17/17 [==============================] - ETA: 0s - loss: 0.0767 - accuracy: 0.9727\n",
      "Epoch 97: val_accuracy did not improve from 0.97821\n",
      "17/17 [==============================] - 3s 204ms/step - loss: 0.0767 - accuracy: 0.9727 - val_loss: 0.0754 - val_accuracy: 0.9753\n",
      "Epoch 98/200\n",
      "17/17 [==============================] - ETA: 0s - loss: 0.0672 - accuracy: 0.9783\n",
      "Epoch 98: val_accuracy improved from 0.97821 to 0.97880, saving model to best_model.pkl\n"
     ]
    },
    {
     "name": "stderr",
     "output_type": "stream",
     "text": [
      "WARNING:absl:Found untraced functions such as lstm_cell_layer_call_fn, lstm_cell_layer_call_and_return_conditional_losses while saving (showing 2 of 2). These functions will not be directly callable after loading.\n"
     ]
    },
    {
     "name": "stdout",
     "output_type": "stream",
     "text": [
      "INFO:tensorflow:Assets written to: best_model.pkl/assets\n"
     ]
    },
    {
     "name": "stderr",
     "output_type": "stream",
     "text": [
      "INFO:tensorflow:Assets written to: best_model.pkl/assets\n"
     ]
    },
    {
     "name": "stdout",
     "output_type": "stream",
     "text": [
      "17/17 [==============================] - 10s 617ms/step - loss: 0.0672 - accuracy: 0.9783 - val_loss: 0.0658 - val_accuracy: 0.9788\n",
      "Epoch 99/200\n",
      "17/17 [==============================] - ETA: 0s - loss: 0.0639 - accuracy: 0.9753\n",
      "Epoch 99: val_accuracy did not improve from 0.97880\n",
      "17/17 [==============================] - 3s 199ms/step - loss: 0.0639 - accuracy: 0.9753 - val_loss: 0.0735 - val_accuracy: 0.9735\n",
      "Epoch 100/200\n",
      "17/17 [==============================] - ETA: 0s - loss: 0.0707 - accuracy: 0.9734\n",
      "Epoch 100: val_accuracy did not improve from 0.97880\n",
      "17/17 [==============================] - 3s 204ms/step - loss: 0.0707 - accuracy: 0.9734 - val_loss: 0.0945 - val_accuracy: 0.9706\n",
      "Epoch 101/200\n",
      "17/17 [==============================] - ETA: 0s - loss: 0.0766 - accuracy: 0.9736\n",
      "Epoch 101: val_accuracy improved from 0.97880 to 0.98115, saving model to best_model.pkl\n"
     ]
    },
    {
     "name": "stderr",
     "output_type": "stream",
     "text": [
      "WARNING:absl:Found untraced functions such as lstm_cell_layer_call_fn, lstm_cell_layer_call_and_return_conditional_losses while saving (showing 2 of 2). These functions will not be directly callable after loading.\n"
     ]
    },
    {
     "name": "stdout",
     "output_type": "stream",
     "text": [
      "INFO:tensorflow:Assets written to: best_model.pkl/assets\n"
     ]
    },
    {
     "name": "stderr",
     "output_type": "stream",
     "text": [
      "INFO:tensorflow:Assets written to: best_model.pkl/assets\n"
     ]
    },
    {
     "name": "stdout",
     "output_type": "stream",
     "text": [
      "17/17 [==============================] - 10s 612ms/step - loss: 0.0766 - accuracy: 0.9736 - val_loss: 0.0649 - val_accuracy: 0.9812\n",
      "Epoch 102/200\n",
      "17/17 [==============================] - ETA: 0s - loss: 0.0589 - accuracy: 0.9769\n",
      "Epoch 102: val_accuracy did not improve from 0.98115\n",
      "17/17 [==============================] - 3s 201ms/step - loss: 0.0589 - accuracy: 0.9769 - val_loss: 0.0838 - val_accuracy: 0.9717\n",
      "Epoch 103/200\n",
      "17/17 [==============================] - ETA: 0s - loss: 0.0586 - accuracy: 0.9762\n",
      "Epoch 103: val_accuracy did not improve from 0.98115\n",
      "17/17 [==============================] - 3s 200ms/step - loss: 0.0586 - accuracy: 0.9762 - val_loss: 0.0744 - val_accuracy: 0.9741\n",
      "Epoch 104/200\n",
      "17/17 [==============================] - ETA: 0s - loss: 0.0662 - accuracy: 0.9745\n",
      "Epoch 104: val_accuracy did not improve from 0.98115\n",
      "17/17 [==============================] - 3s 196ms/step - loss: 0.0662 - accuracy: 0.9745 - val_loss: 0.0867 - val_accuracy: 0.9729\n",
      "Epoch 105/200\n",
      "17/17 [==============================] - ETA: 0s - loss: 0.0644 - accuracy: 0.9745\n",
      "Epoch 105: val_accuracy did not improve from 0.98115\n",
      "17/17 [==============================] - 3s 199ms/step - loss: 0.0644 - accuracy: 0.9745 - val_loss: 0.0714 - val_accuracy: 0.9759\n",
      "Epoch 106/200\n",
      "17/17 [==============================] - ETA: 0s - loss: 0.0628 - accuracy: 0.9764\n",
      "Epoch 106: val_accuracy did not improve from 0.98115\n",
      "17/17 [==============================] - 3s 203ms/step - loss: 0.0628 - accuracy: 0.9764 - val_loss: 0.0753 - val_accuracy: 0.9794\n",
      "Epoch 107/200\n",
      "17/17 [==============================] - ETA: 0s - loss: 0.0674 - accuracy: 0.9705\n",
      "Epoch 107: val_accuracy did not improve from 0.98115\n",
      "17/17 [==============================] - 3s 203ms/step - loss: 0.0674 - accuracy: 0.9705 - val_loss: 0.0687 - val_accuracy: 0.9788\n",
      "Epoch 108/200\n",
      "17/17 [==============================] - ETA: 0s - loss: 0.0630 - accuracy: 0.9769\n",
      "Epoch 108: val_accuracy did not improve from 0.98115\n",
      "17/17 [==============================] - 3s 199ms/step - loss: 0.0630 - accuracy: 0.9769 - val_loss: 0.0797 - val_accuracy: 0.9717\n",
      "Epoch 109/200\n",
      "17/17 [==============================] - ETA: 0s - loss: 0.0635 - accuracy: 0.9771\n",
      "Epoch 109: val_accuracy did not improve from 0.98115\n",
      "17/17 [==============================] - 3s 202ms/step - loss: 0.0635 - accuracy: 0.9771 - val_loss: 0.0661 - val_accuracy: 0.9764\n",
      "Epoch 110/200\n",
      "17/17 [==============================] - ETA: 0s - loss: 0.0744 - accuracy: 0.9715\n",
      "Epoch 110: val_accuracy did not improve from 0.98115\n",
      "17/17 [==============================] - 3s 197ms/step - loss: 0.0744 - accuracy: 0.9715 - val_loss: 0.0666 - val_accuracy: 0.9747\n",
      "Epoch 111/200\n",
      "17/17 [==============================] - ETA: 0s - loss: 0.0607 - accuracy: 0.9778\n",
      "Epoch 111: val_accuracy did not improve from 0.98115\n",
      "17/17 [==============================] - 3s 199ms/step - loss: 0.0607 - accuracy: 0.9778 - val_loss: 0.0682 - val_accuracy: 0.9788\n",
      "Epoch 112/200\n",
      "17/17 [==============================] - ETA: 0s - loss: 0.0560 - accuracy: 0.9795\n",
      "Epoch 112: val_accuracy improved from 0.98115 to 0.98292, saving model to best_model.pkl\n"
     ]
    },
    {
     "name": "stderr",
     "output_type": "stream",
     "text": [
      "WARNING:absl:Found untraced functions such as lstm_cell_layer_call_fn, lstm_cell_layer_call_and_return_conditional_losses while saving (showing 2 of 2). These functions will not be directly callable after loading.\n"
     ]
    },
    {
     "name": "stdout",
     "output_type": "stream",
     "text": [
      "INFO:tensorflow:Assets written to: best_model.pkl/assets\n"
     ]
    },
    {
     "name": "stderr",
     "output_type": "stream",
     "text": [
      "INFO:tensorflow:Assets written to: best_model.pkl/assets\n"
     ]
    },
    {
     "name": "stdout",
     "output_type": "stream",
     "text": [
      "17/17 [==============================] - 10s 592ms/step - loss: 0.0560 - accuracy: 0.9795 - val_loss: 0.0568 - val_accuracy: 0.9829\n",
      "Epoch 113/200\n",
      "17/17 [==============================] - ETA: 0s - loss: 0.0556 - accuracy: 0.9771\n",
      "Epoch 113: val_accuracy did not improve from 0.98292\n",
      "17/17 [==============================] - 3s 197ms/step - loss: 0.0556 - accuracy: 0.9771 - val_loss: 0.0611 - val_accuracy: 0.9788\n",
      "Epoch 114/200\n",
      "17/17 [==============================] - ETA: 0s - loss: 0.0698 - accuracy: 0.9755\n",
      "Epoch 114: val_accuracy did not improve from 0.98292\n",
      "17/17 [==============================] - 3s 206ms/step - loss: 0.0698 - accuracy: 0.9755 - val_loss: 0.0625 - val_accuracy: 0.9776\n",
      "Epoch 115/200\n",
      "17/17 [==============================] - ETA: 0s - loss: 0.0725 - accuracy: 0.9705\n",
      "Epoch 115: val_accuracy did not improve from 0.98292\n",
      "17/17 [==============================] - 3s 200ms/step - loss: 0.0725 - accuracy: 0.9705 - val_loss: 0.0779 - val_accuracy: 0.9729\n",
      "Epoch 116/200\n",
      "17/17 [==============================] - ETA: 0s - loss: 0.0660 - accuracy: 0.9762\n",
      "Epoch 116: val_accuracy improved from 0.98292 to 0.98351, saving model to best_model.pkl\n"
     ]
    },
    {
     "name": "stderr",
     "output_type": "stream",
     "text": [
      "WARNING:absl:Found untraced functions such as lstm_cell_layer_call_fn, lstm_cell_layer_call_and_return_conditional_losses while saving (showing 2 of 2). These functions will not be directly callable after loading.\n"
     ]
    },
    {
     "name": "stdout",
     "output_type": "stream",
     "text": [
      "INFO:tensorflow:Assets written to: best_model.pkl/assets\n"
     ]
    },
    {
     "name": "stderr",
     "output_type": "stream",
     "text": [
      "INFO:tensorflow:Assets written to: best_model.pkl/assets\n"
     ]
    },
    {
     "name": "stdout",
     "output_type": "stream",
     "text": [
      "17/17 [==============================] - 10s 638ms/step - loss: 0.0660 - accuracy: 0.9762 - val_loss: 0.0586 - val_accuracy: 0.9835\n",
      "Epoch 117/200\n",
      "17/17 [==============================] - ETA: 0s - loss: 0.0565 - accuracy: 0.9804\n",
      "Epoch 117: val_accuracy did not improve from 0.98351\n",
      "17/17 [==============================] - 3s 197ms/step - loss: 0.0565 - accuracy: 0.9804 - val_loss: 0.0681 - val_accuracy: 0.9764\n",
      "Epoch 118/200\n",
      "17/17 [==============================] - ETA: 0s - loss: 0.0545 - accuracy: 0.9778\n",
      "Epoch 118: val_accuracy did not improve from 0.98351\n",
      "17/17 [==============================] - 3s 199ms/step - loss: 0.0545 - accuracy: 0.9778 - val_loss: 0.0605 - val_accuracy: 0.9829\n",
      "Epoch 119/200\n",
      "17/17 [==============================] - ETA: 0s - loss: 0.0513 - accuracy: 0.9800\n",
      "Epoch 119: val_accuracy did not improve from 0.98351\n",
      "17/17 [==============================] - 3s 194ms/step - loss: 0.0513 - accuracy: 0.9800 - val_loss: 0.0580 - val_accuracy: 0.9806\n",
      "Epoch 120/200\n",
      "17/17 [==============================] - ETA: 0s - loss: 0.0544 - accuracy: 0.9830\n",
      "Epoch 120: val_accuracy did not improve from 0.98351\n",
      "17/17 [==============================] - 3s 201ms/step - loss: 0.0544 - accuracy: 0.9830 - val_loss: 0.0571 - val_accuracy: 0.9823\n",
      "Epoch 121/200\n",
      "17/17 [==============================] - ETA: 0s - loss: 0.0446 - accuracy: 0.9856\n",
      "Epoch 121: val_accuracy did not improve from 0.98351\n",
      "17/17 [==============================] - 3s 202ms/step - loss: 0.0446 - accuracy: 0.9856 - val_loss: 0.0601 - val_accuracy: 0.9794\n",
      "Epoch 122/200\n",
      "17/17 [==============================] - ETA: 0s - loss: 0.0537 - accuracy: 0.9800\n",
      "Epoch 122: val_accuracy did not improve from 0.98351\n",
      "17/17 [==============================] - 3s 201ms/step - loss: 0.0537 - accuracy: 0.9800 - val_loss: 0.0575 - val_accuracy: 0.9806\n",
      "Epoch 123/200\n",
      "17/17 [==============================] - ETA: 0s - loss: 0.0507 - accuracy: 0.9821\n",
      "Epoch 123: val_accuracy did not improve from 0.98351\n",
      "17/17 [==============================] - 3s 194ms/step - loss: 0.0507 - accuracy: 0.9821 - val_loss: 0.0761 - val_accuracy: 0.9764\n",
      "Epoch 124/200\n",
      "17/17 [==============================] - ETA: 0s - loss: 0.0459 - accuracy: 0.9830\n",
      "Epoch 124: val_accuracy improved from 0.98351 to 0.98469, saving model to best_model.pkl\n"
     ]
    },
    {
     "name": "stderr",
     "output_type": "stream",
     "text": [
      "WARNING:absl:Found untraced functions such as lstm_cell_layer_call_fn, lstm_cell_layer_call_and_return_conditional_losses while saving (showing 2 of 2). These functions will not be directly callable after loading.\n"
     ]
    },
    {
     "name": "stdout",
     "output_type": "stream",
     "text": [
      "INFO:tensorflow:Assets written to: best_model.pkl/assets\n"
     ]
    },
    {
     "name": "stderr",
     "output_type": "stream",
     "text": [
      "INFO:tensorflow:Assets written to: best_model.pkl/assets\n"
     ]
    },
    {
     "name": "stdout",
     "output_type": "stream",
     "text": [
      "17/17 [==============================] - 10s 592ms/step - loss: 0.0459 - accuracy: 0.9830 - val_loss: 0.0651 - val_accuracy: 0.9847\n",
      "Epoch 125/200\n",
      "17/17 [==============================] - ETA: 0s - loss: 0.0502 - accuracy: 0.9800\n",
      "Epoch 125: val_accuracy did not improve from 0.98469\n",
      "17/17 [==============================] - 3s 194ms/step - loss: 0.0502 - accuracy: 0.9800 - val_loss: 0.0679 - val_accuracy: 0.9764\n",
      "Epoch 126/200\n",
      "17/17 [==============================] - ETA: 0s - loss: 0.0556 - accuracy: 0.9776\n",
      "Epoch 126: val_accuracy did not improve from 0.98469\n",
      "17/17 [==============================] - 3s 199ms/step - loss: 0.0556 - accuracy: 0.9776 - val_loss: 0.0597 - val_accuracy: 0.9817\n",
      "Epoch 127/200\n",
      "17/17 [==============================] - ETA: 0s - loss: 0.0465 - accuracy: 0.9844\n",
      "Epoch 127: val_accuracy did not improve from 0.98469\n",
      "17/17 [==============================] - 3s 196ms/step - loss: 0.0465 - accuracy: 0.9844 - val_loss: 0.0644 - val_accuracy: 0.9794\n",
      "Epoch 128/200\n",
      "17/17 [==============================] - ETA: 0s - loss: 0.0607 - accuracy: 0.9760\n",
      "Epoch 128: val_accuracy did not improve from 0.98469\n",
      "17/17 [==============================] - 3s 200ms/step - loss: 0.0607 - accuracy: 0.9760 - val_loss: 0.0644 - val_accuracy: 0.9812\n",
      "Epoch 129/200\n",
      "17/17 [==============================] - ETA: 0s - loss: 0.0607 - accuracy: 0.9776\n",
      "Epoch 129: val_accuracy did not improve from 0.98469\n",
      "17/17 [==============================] - 3s 196ms/step - loss: 0.0607 - accuracy: 0.9776 - val_loss: 0.0719 - val_accuracy: 0.9806\n",
      "Epoch 130/200\n",
      "17/17 [==============================] - ETA: 0s - loss: 0.0457 - accuracy: 0.9856\n",
      "Epoch 130: val_accuracy did not improve from 0.98469\n",
      "17/17 [==============================] - 3s 203ms/step - loss: 0.0457 - accuracy: 0.9856 - val_loss: 0.0591 - val_accuracy: 0.9817\n",
      "Epoch 131/200\n",
      "17/17 [==============================] - ETA: 0s - loss: 0.0532 - accuracy: 0.9811\n",
      "Epoch 131: val_accuracy did not improve from 0.98469\n",
      "17/17 [==============================] - 3s 196ms/step - loss: 0.0532 - accuracy: 0.9811 - val_loss: 0.0621 - val_accuracy: 0.9823\n",
      "Epoch 132/200\n",
      "17/17 [==============================] - ETA: 0s - loss: 0.0509 - accuracy: 0.9840\n",
      "Epoch 132: val_accuracy did not improve from 0.98469\n",
      "17/17 [==============================] - 3s 199ms/step - loss: 0.0509 - accuracy: 0.9840 - val_loss: 0.0591 - val_accuracy: 0.9823\n",
      "Epoch 133/200\n",
      "17/17 [==============================] - ETA: 0s - loss: 0.0436 - accuracy: 0.9854\n",
      "Epoch 133: val_accuracy did not improve from 0.98469\n",
      "17/17 [==============================] - 3s 200ms/step - loss: 0.0436 - accuracy: 0.9854 - val_loss: 0.0714 - val_accuracy: 0.9788\n",
      "Epoch 134/200\n",
      "17/17 [==============================] - ETA: 0s - loss: 0.0396 - accuracy: 0.9849\n",
      "Epoch 134: val_accuracy did not improve from 0.98469\n",
      "17/17 [==============================] - 3s 195ms/step - loss: 0.0396 - accuracy: 0.9849 - val_loss: 0.0675 - val_accuracy: 0.9776\n",
      "Epoch 135/200\n",
      "17/17 [==============================] - ETA: 0s - loss: 0.0482 - accuracy: 0.9842\n",
      "Epoch 135: val_accuracy did not improve from 0.98469\n",
      "17/17 [==============================] - 3s 200ms/step - loss: 0.0482 - accuracy: 0.9842 - val_loss: 0.0701 - val_accuracy: 0.9782\n",
      "Epoch 136/200\n",
      "17/17 [==============================] - ETA: 0s - loss: 0.0506 - accuracy: 0.9814\n",
      "Epoch 136: val_accuracy did not improve from 0.98469\n",
      "17/17 [==============================] - 3s 195ms/step - loss: 0.0506 - accuracy: 0.9814 - val_loss: 0.0685 - val_accuracy: 0.9753\n",
      "Epoch 137/200\n",
      "17/17 [==============================] - ETA: 0s - loss: 0.0493 - accuracy: 0.9811\n",
      "Epoch 137: val_accuracy did not improve from 0.98469\n",
      "17/17 [==============================] - 3s 198ms/step - loss: 0.0493 - accuracy: 0.9811 - val_loss: 0.0595 - val_accuracy: 0.9794\n",
      "Epoch 138/200\n",
      "17/17 [==============================] - ETA: 0s - loss: 0.0445 - accuracy: 0.9819\n",
      "Epoch 138: val_accuracy did not improve from 0.98469\n",
      "17/17 [==============================] - 3s 206ms/step - loss: 0.0445 - accuracy: 0.9819 - val_loss: 0.0573 - val_accuracy: 0.9823\n",
      "Epoch 139/200\n",
      "17/17 [==============================] - ETA: 0s - loss: 0.0455 - accuracy: 0.9830\n",
      "Epoch 139: val_accuracy did not improve from 0.98469\n",
      "17/17 [==============================] - 3s 198ms/step - loss: 0.0455 - accuracy: 0.9830 - val_loss: 0.0549 - val_accuracy: 0.9829\n",
      "Epoch 140/200\n",
      "17/17 [==============================] - ETA: 0s - loss: 0.0418 - accuracy: 0.9840\n",
      "Epoch 140: val_accuracy did not improve from 0.98469\n",
      "17/17 [==============================] - 3s 202ms/step - loss: 0.0418 - accuracy: 0.9840 - val_loss: 0.0642 - val_accuracy: 0.9770\n",
      "Epoch 141/200\n",
      "17/17 [==============================] - ETA: 0s - loss: 0.0397 - accuracy: 0.9877\n",
      "Epoch 141: val_accuracy did not improve from 0.98469\n",
      "17/17 [==============================] - 3s 197ms/step - loss: 0.0397 - accuracy: 0.9877 - val_loss: 0.0543 - val_accuracy: 0.9847\n",
      "Epoch 142/200\n",
      "17/17 [==============================] - ETA: 0s - loss: 0.0391 - accuracy: 0.9877\n",
      "Epoch 142: val_accuracy did not improve from 0.98469\n",
      "17/17 [==============================] - 3s 201ms/step - loss: 0.0391 - accuracy: 0.9877 - val_loss: 0.0705 - val_accuracy: 0.9823\n",
      "Epoch 143/200\n",
      "17/17 [==============================] - ETA: 0s - loss: 0.0474 - accuracy: 0.9814\n",
      "Epoch 143: val_accuracy did not improve from 0.98469\n",
      "17/17 [==============================] - 4s 210ms/step - loss: 0.0474 - accuracy: 0.9814 - val_loss: 0.0604 - val_accuracy: 0.9812\n",
      "Epoch 144/200\n",
      "17/17 [==============================] - ETA: 0s - loss: 0.0520 - accuracy: 0.9802\n",
      "Epoch 144: val_accuracy did not improve from 0.98469\n",
      "17/17 [==============================] - 4s 213ms/step - loss: 0.0520 - accuracy: 0.9802 - val_loss: 0.0617 - val_accuracy: 0.9776\n",
      "Epoch 145/200\n",
      "17/17 [==============================] - ETA: 0s - loss: 0.0438 - accuracy: 0.9837\n",
      "Epoch 145: val_accuracy did not improve from 0.98469\n",
      "17/17 [==============================] - 4s 213ms/step - loss: 0.0438 - accuracy: 0.9837 - val_loss: 0.0635 - val_accuracy: 0.9776\n",
      "Epoch 146/200\n",
      "17/17 [==============================] - ETA: 0s - loss: 0.0395 - accuracy: 0.9866\n",
      "Epoch 146: val_accuracy did not improve from 0.98469\n",
      "17/17 [==============================] - 4s 244ms/step - loss: 0.0395 - accuracy: 0.9866 - val_loss: 0.0717 - val_accuracy: 0.9747\n",
      "Epoch 147/200\n",
      "17/17 [==============================] - ETA: 0s - loss: 0.0528 - accuracy: 0.9819\n",
      "Epoch 147: val_accuracy did not improve from 0.98469\n",
      "17/17 [==============================] - 3s 203ms/step - loss: 0.0528 - accuracy: 0.9819 - val_loss: 0.0922 - val_accuracy: 0.9723\n",
      "Epoch 148/200\n",
      "17/17 [==============================] - ETA: 0s - loss: 0.0549 - accuracy: 0.9811\n",
      "Epoch 148: val_accuracy improved from 0.98469 to 0.98528, saving model to best_model.pkl\n"
     ]
    },
    {
     "name": "stderr",
     "output_type": "stream",
     "text": [
      "WARNING:absl:Found untraced functions such as lstm_cell_layer_call_fn, lstm_cell_layer_call_and_return_conditional_losses while saving (showing 2 of 2). These functions will not be directly callable after loading.\n"
     ]
    },
    {
     "name": "stdout",
     "output_type": "stream",
     "text": [
      "INFO:tensorflow:Assets written to: best_model.pkl/assets\n"
     ]
    },
    {
     "name": "stderr",
     "output_type": "stream",
     "text": [
      "INFO:tensorflow:Assets written to: best_model.pkl/assets\n"
     ]
    },
    {
     "name": "stdout",
     "output_type": "stream",
     "text": [
      "17/17 [==============================] - 10s 622ms/step - loss: 0.0549 - accuracy: 0.9811 - val_loss: 0.0637 - val_accuracy: 0.9853\n",
      "Epoch 149/200\n",
      "17/17 [==============================] - ETA: 0s - loss: 0.0502 - accuracy: 0.9814\n",
      "Epoch 149: val_accuracy did not improve from 0.98528\n",
      "17/17 [==============================] - 3s 191ms/step - loss: 0.0502 - accuracy: 0.9814 - val_loss: 0.0722 - val_accuracy: 0.9782\n",
      "Epoch 150/200\n",
      "17/17 [==============================] - ETA: 0s - loss: 0.0462 - accuracy: 0.9823\n",
      "Epoch 150: val_accuracy did not improve from 0.98528\n",
      "17/17 [==============================] - 4s 209ms/step - loss: 0.0462 - accuracy: 0.9823 - val_loss: 0.0719 - val_accuracy: 0.9800\n",
      "Epoch 151/200\n",
      "17/17 [==============================] - ETA: 0s - loss: 0.0472 - accuracy: 0.9826\n",
      "Epoch 151: val_accuracy did not improve from 0.98528\n",
      "17/17 [==============================] - 4s 262ms/step - loss: 0.0472 - accuracy: 0.9826 - val_loss: 0.0513 - val_accuracy: 0.9823\n",
      "Epoch 152/200\n",
      "17/17 [==============================] - ETA: 0s - loss: 0.0475 - accuracy: 0.9840\n",
      "Epoch 152: val_accuracy improved from 0.98528 to 0.98587, saving model to best_model.pkl\n"
     ]
    },
    {
     "name": "stderr",
     "output_type": "stream",
     "text": [
      "WARNING:absl:Found untraced functions such as lstm_cell_layer_call_fn, lstm_cell_layer_call_and_return_conditional_losses while saving (showing 2 of 2). These functions will not be directly callable after loading.\n"
     ]
    },
    {
     "name": "stdout",
     "output_type": "stream",
     "text": [
      "INFO:tensorflow:Assets written to: best_model.pkl/assets\n"
     ]
    },
    {
     "name": "stderr",
     "output_type": "stream",
     "text": [
      "INFO:tensorflow:Assets written to: best_model.pkl/assets\n"
     ]
    },
    {
     "name": "stdout",
     "output_type": "stream",
     "text": [
      "17/17 [==============================] - 10s 602ms/step - loss: 0.0475 - accuracy: 0.9840 - val_loss: 0.0604 - val_accuracy: 0.9859\n",
      "Epoch 153/200\n",
      "17/17 [==============================] - ETA: 0s - loss: 0.0373 - accuracy: 0.9887\n",
      "Epoch 153: val_accuracy did not improve from 0.98587\n",
      "17/17 [==============================] - 3s 192ms/step - loss: 0.0373 - accuracy: 0.9887 - val_loss: 0.0623 - val_accuracy: 0.9835\n",
      "Epoch 154/200\n",
      "17/17 [==============================] - ETA: 0s - loss: 0.0405 - accuracy: 0.9852\n",
      "Epoch 154: val_accuracy did not improve from 0.98587\n",
      "17/17 [==============================] - 3s 193ms/step - loss: 0.0405 - accuracy: 0.9852 - val_loss: 0.0484 - val_accuracy: 0.9853\n",
      "Epoch 155/200\n",
      "17/17 [==============================] - ETA: 0s - loss: 0.0360 - accuracy: 0.9880\n",
      "Epoch 155: val_accuracy did not improve from 0.98587\n",
      "17/17 [==============================] - 3s 197ms/step - loss: 0.0360 - accuracy: 0.9880 - val_loss: 0.0572 - val_accuracy: 0.9835\n",
      "Epoch 156/200\n",
      "17/17 [==============================] - ETA: 0s - loss: 0.0374 - accuracy: 0.9868\n",
      "Epoch 156: val_accuracy improved from 0.98587 to 0.98704, saving model to best_model.pkl\n"
     ]
    },
    {
     "name": "stderr",
     "output_type": "stream",
     "text": [
      "WARNING:absl:Found untraced functions such as lstm_cell_layer_call_fn, lstm_cell_layer_call_and_return_conditional_losses while saving (showing 2 of 2). These functions will not be directly callable after loading.\n"
     ]
    },
    {
     "name": "stdout",
     "output_type": "stream",
     "text": [
      "INFO:tensorflow:Assets written to: best_model.pkl/assets\n"
     ]
    },
    {
     "name": "stderr",
     "output_type": "stream",
     "text": [
      "INFO:tensorflow:Assets written to: best_model.pkl/assets\n"
     ]
    },
    {
     "name": "stdout",
     "output_type": "stream",
     "text": [
      "17/17 [==============================] - 10s 635ms/step - loss: 0.0374 - accuracy: 0.9868 - val_loss: 0.0567 - val_accuracy: 0.9870\n",
      "Epoch 157/200\n",
      "17/17 [==============================] - ETA: 0s - loss: 0.0303 - accuracy: 0.9903\n",
      "Epoch 157: val_accuracy did not improve from 0.98704\n",
      "17/17 [==============================] - 3s 194ms/step - loss: 0.0303 - accuracy: 0.9903 - val_loss: 0.0521 - val_accuracy: 0.9853\n",
      "Epoch 158/200\n",
      "17/17 [==============================] - ETA: 0s - loss: 0.0382 - accuracy: 0.9868\n",
      "Epoch 158: val_accuracy did not improve from 0.98704\n",
      "17/17 [==============================] - 3s 197ms/step - loss: 0.0382 - accuracy: 0.9868 - val_loss: 0.0605 - val_accuracy: 0.9806\n",
      "Epoch 159/200\n",
      "17/17 [==============================] - ETA: 0s - loss: 0.0322 - accuracy: 0.9892\n",
      "Epoch 159: val_accuracy did not improve from 0.98704\n",
      "17/17 [==============================] - 3s 202ms/step - loss: 0.0322 - accuracy: 0.9892 - val_loss: 0.0606 - val_accuracy: 0.9823\n",
      "Epoch 160/200\n",
      "17/17 [==============================] - ETA: 0s - loss: 0.0431 - accuracy: 0.9823\n",
      "Epoch 160: val_accuracy did not improve from 0.98704\n",
      "17/17 [==============================] - 3s 196ms/step - loss: 0.0431 - accuracy: 0.9823 - val_loss: 0.0496 - val_accuracy: 0.9835\n",
      "Epoch 161/200\n",
      "17/17 [==============================] - ETA: 0s - loss: 0.0358 - accuracy: 0.9861\n",
      "Epoch 161: val_accuracy did not improve from 0.98704\n",
      "17/17 [==============================] - 3s 199ms/step - loss: 0.0358 - accuracy: 0.9861 - val_loss: 0.0577 - val_accuracy: 0.9829\n",
      "Epoch 162/200\n",
      "17/17 [==============================] - ETA: 0s - loss: 0.0405 - accuracy: 0.9844\n",
      "Epoch 162: val_accuracy did not improve from 0.98704\n",
      "17/17 [==============================] - 4s 216ms/step - loss: 0.0405 - accuracy: 0.9844 - val_loss: 0.0658 - val_accuracy: 0.9788\n",
      "Epoch 163/200\n",
      "17/17 [==============================] - ETA: 0s - loss: 0.0390 - accuracy: 0.9861\n",
      "Epoch 163: val_accuracy did not improve from 0.98704\n",
      "17/17 [==============================] - 4s 209ms/step - loss: 0.0390 - accuracy: 0.9861 - val_loss: 0.0565 - val_accuracy: 0.9847\n",
      "Epoch 164/200\n",
      "17/17 [==============================] - ETA: 0s - loss: 0.0364 - accuracy: 0.9856\n",
      "Epoch 164: val_accuracy did not improve from 0.98704\n",
      "17/17 [==============================] - 4s 238ms/step - loss: 0.0364 - accuracy: 0.9856 - val_loss: 0.0607 - val_accuracy: 0.9835\n",
      "Epoch 165/200\n",
      "17/17 [==============================] - ETA: 0s - loss: 0.0443 - accuracy: 0.9849\n",
      "Epoch 165: val_accuracy did not improve from 0.98704\n",
      "17/17 [==============================] - 4s 239ms/step - loss: 0.0443 - accuracy: 0.9849 - val_loss: 0.0551 - val_accuracy: 0.9870\n",
      "Epoch 166/200\n",
      "17/17 [==============================] - ETA: 0s - loss: 0.0356 - accuracy: 0.9856\n",
      "Epoch 166: val_accuracy did not improve from 0.98704\n",
      "17/17 [==============================] - 3s 205ms/step - loss: 0.0356 - accuracy: 0.9856 - val_loss: 0.0771 - val_accuracy: 0.9782\n",
      "Epoch 167/200\n",
      "17/17 [==============================] - ETA: 0s - loss: 0.0407 - accuracy: 0.9840\n",
      "Epoch 167: val_accuracy did not improve from 0.98704\n",
      "17/17 [==============================] - 3s 206ms/step - loss: 0.0407 - accuracy: 0.9840 - val_loss: 0.0571 - val_accuracy: 0.9859\n",
      "Epoch 168/200\n",
      "17/17 [==============================] - ETA: 0s - loss: 0.0476 - accuracy: 0.9821\n",
      "Epoch 168: val_accuracy did not improve from 0.98704\n",
      "17/17 [==============================] - 4s 212ms/step - loss: 0.0476 - accuracy: 0.9821 - val_loss: 0.0569 - val_accuracy: 0.9823\n",
      "Epoch 169/200\n",
      "17/17 [==============================] - ETA: 0s - loss: 0.0388 - accuracy: 0.9870\n",
      "Epoch 169: val_accuracy did not improve from 0.98704\n",
      "17/17 [==============================] - 3s 199ms/step - loss: 0.0388 - accuracy: 0.9870 - val_loss: 0.0604 - val_accuracy: 0.9817\n",
      "Epoch 170/200\n",
      "17/17 [==============================] - ETA: 0s - loss: 0.0353 - accuracy: 0.9880\n",
      "Epoch 170: val_accuracy did not improve from 0.98704\n",
      "17/17 [==============================] - 3s 200ms/step - loss: 0.0353 - accuracy: 0.9880 - val_loss: 0.0498 - val_accuracy: 0.9853\n",
      "Epoch 171/200\n",
      "17/17 [==============================] - ETA: 0s - loss: 0.0383 - accuracy: 0.9866\n",
      "Epoch 171: val_accuracy did not improve from 0.98704\n",
      "17/17 [==============================] - 3s 203ms/step - loss: 0.0383 - accuracy: 0.9866 - val_loss: 0.0508 - val_accuracy: 0.9853\n",
      "Epoch 172/200\n",
      "17/17 [==============================] - ETA: 0s - loss: 0.0326 - accuracy: 0.9908\n",
      "Epoch 172: val_accuracy did not improve from 0.98704\n",
      "17/17 [==============================] - 3s 198ms/step - loss: 0.0326 - accuracy: 0.9908 - val_loss: 0.0554 - val_accuracy: 0.9859\n",
      "Epoch 173/200\n",
      "17/17 [==============================] - ETA: 0s - loss: 0.0387 - accuracy: 0.9854\n",
      "Epoch 173: val_accuracy did not improve from 0.98704\n",
      "17/17 [==============================] - 3s 201ms/step - loss: 0.0387 - accuracy: 0.9854 - val_loss: 0.0489 - val_accuracy: 0.9829\n",
      "Epoch 174/200\n",
      "17/17 [==============================] - ETA: 0s - loss: 0.0331 - accuracy: 0.9873\n",
      "Epoch 174: val_accuracy did not improve from 0.98704\n",
      "17/17 [==============================] - 4s 217ms/step - loss: 0.0331 - accuracy: 0.9873 - val_loss: 0.0500 - val_accuracy: 0.9835\n",
      "Epoch 175/200\n",
      "17/17 [==============================] - ETA: 0s - loss: 0.0488 - accuracy: 0.9823\n",
      "Epoch 175: val_accuracy did not improve from 0.98704\n",
      "17/17 [==============================] - 4s 217ms/step - loss: 0.0488 - accuracy: 0.9823 - val_loss: 0.0660 - val_accuracy: 0.9817\n",
      "Epoch 176/200\n",
      "17/17 [==============================] - ETA: 0s - loss: 0.0355 - accuracy: 0.9877\n",
      "Epoch 176: val_accuracy did not improve from 0.98704\n",
      "17/17 [==============================] - 3s 204ms/step - loss: 0.0355 - accuracy: 0.9877 - val_loss: 0.0708 - val_accuracy: 0.9794\n",
      "Epoch 177/200\n",
      "17/17 [==============================] - ETA: 0s - loss: 0.0311 - accuracy: 0.9889\n",
      "Epoch 177: val_accuracy did not improve from 0.98704\n",
      "17/17 [==============================] - 3s 197ms/step - loss: 0.0311 - accuracy: 0.9889 - val_loss: 0.0617 - val_accuracy: 0.9806\n",
      "Epoch 178/200\n",
      "17/17 [==============================] - ETA: 0s - loss: 0.0307 - accuracy: 0.9887\n",
      "Epoch 178: val_accuracy did not improve from 0.98704\n",
      "17/17 [==============================] - 3s 201ms/step - loss: 0.0307 - accuracy: 0.9887 - val_loss: 0.0661 - val_accuracy: 0.9823\n",
      "Epoch 179/200\n",
      "17/17 [==============================] - ETA: 0s - loss: 0.0434 - accuracy: 0.9847\n",
      "Epoch 179: val_accuracy did not improve from 0.98704\n",
      "17/17 [==============================] - 3s 204ms/step - loss: 0.0434 - accuracy: 0.9847 - val_loss: 0.0666 - val_accuracy: 0.9800\n",
      "Epoch 180/200\n",
      "17/17 [==============================] - ETA: 0s - loss: 0.0414 - accuracy: 0.9852\n",
      "Epoch 180: val_accuracy did not improve from 0.98704\n",
      "17/17 [==============================] - 4s 209ms/step - loss: 0.0414 - accuracy: 0.9852 - val_loss: 0.0495 - val_accuracy: 0.9853\n",
      "Epoch 181/200\n",
      "17/17 [==============================] - ETA: 0s - loss: 0.0280 - accuracy: 0.9906\n",
      "Epoch 181: val_accuracy did not improve from 0.98704\n",
      "17/17 [==============================] - 3s 199ms/step - loss: 0.0280 - accuracy: 0.9906 - val_loss: 0.0577 - val_accuracy: 0.9806\n",
      "Epoch 182/200\n",
      "17/17 [==============================] - ETA: 0s - loss: 0.0303 - accuracy: 0.9889\n",
      "Epoch 182: val_accuracy did not improve from 0.98704\n",
      "17/17 [==============================] - 3s 202ms/step - loss: 0.0303 - accuracy: 0.9889 - val_loss: 0.0642 - val_accuracy: 0.9817\n",
      "Epoch 183/200\n",
      "17/17 [==============================] - ETA: 0s - loss: 0.0327 - accuracy: 0.9901\n",
      "Epoch 183: val_accuracy did not improve from 0.98704\n",
      "17/17 [==============================] - 3s 205ms/step - loss: 0.0327 - accuracy: 0.9901 - val_loss: 0.0741 - val_accuracy: 0.9759\n",
      "Epoch 184/200\n",
      "17/17 [==============================] - ETA: 0s - loss: 0.0343 - accuracy: 0.9875\n",
      "Epoch 184: val_accuracy did not improve from 0.98704\n",
      "17/17 [==============================] - 3s 203ms/step - loss: 0.0343 - accuracy: 0.9875 - val_loss: 0.0568 - val_accuracy: 0.9829\n",
      "Epoch 185/200\n",
      "17/17 [==============================] - ETA: 0s - loss: 0.0368 - accuracy: 0.9882\n",
      "Epoch 185: val_accuracy did not improve from 0.98704\n",
      "17/17 [==============================] - 3s 197ms/step - loss: 0.0368 - accuracy: 0.9882 - val_loss: 0.0474 - val_accuracy: 0.9859\n",
      "Epoch 186/200\n",
      "17/17 [==============================] - ETA: 0s - loss: 0.0386 - accuracy: 0.9852\n",
      "Epoch 186: val_accuracy did not improve from 0.98704\n",
      "17/17 [==============================] - 3s 205ms/step - loss: 0.0386 - accuracy: 0.9852 - val_loss: 0.0485 - val_accuracy: 0.9841\n",
      "Epoch 187/200\n",
      "17/17 [==============================] - ETA: 0s - loss: 0.0356 - accuracy: 0.9859\n",
      "Epoch 187: val_accuracy did not improve from 0.98704\n",
      "17/17 [==============================] - 3s 201ms/step - loss: 0.0356 - accuracy: 0.9859 - val_loss: 0.0441 - val_accuracy: 0.9859\n",
      "Epoch 188/200\n",
      "17/17 [==============================] - ETA: 0s - loss: 0.0307 - accuracy: 0.9889\n",
      "Epoch 188: val_accuracy did not improve from 0.98704\n",
      "17/17 [==============================] - 3s 197ms/step - loss: 0.0307 - accuracy: 0.9889 - val_loss: 0.0449 - val_accuracy: 0.9870\n",
      "Epoch 189/200\n",
      "17/17 [==============================] - ETA: 0s - loss: 0.0351 - accuracy: 0.9877\n",
      "Epoch 189: val_accuracy did not improve from 0.98704\n",
      "17/17 [==============================] - 4s 209ms/step - loss: 0.0351 - accuracy: 0.9877 - val_loss: 0.0634 - val_accuracy: 0.9812\n",
      "Epoch 190/200\n",
      "17/17 [==============================] - ETA: 0s - loss: 0.0417 - accuracy: 0.9840\n",
      "Epoch 190: val_accuracy did not improve from 0.98704\n",
      "17/17 [==============================] - 3s 197ms/step - loss: 0.0417 - accuracy: 0.9840 - val_loss: 0.0695 - val_accuracy: 0.9788\n",
      "Epoch 191/200\n",
      "17/17 [==============================] - ETA: 0s - loss: 0.0326 - accuracy: 0.9885\n",
      "Epoch 191: val_accuracy did not improve from 0.98704\n",
      "17/17 [==============================] - 3s 196ms/step - loss: 0.0326 - accuracy: 0.9885 - val_loss: 0.0526 - val_accuracy: 0.9841\n",
      "Epoch 192/200\n",
      "17/17 [==============================] - ETA: 0s - loss: 0.0342 - accuracy: 0.9877\n",
      "Epoch 192: val_accuracy did not improve from 0.98704\n",
      "17/17 [==============================] - 3s 200ms/step - loss: 0.0342 - accuracy: 0.9877 - val_loss: 0.0640 - val_accuracy: 0.9812\n",
      "Epoch 193/200\n",
      "17/17 [==============================] - ETA: 0s - loss: 0.0346 - accuracy: 0.9887\n",
      "Epoch 193: val_accuracy did not improve from 0.98704\n",
      "17/17 [==============================] - 3s 204ms/step - loss: 0.0346 - accuracy: 0.9887 - val_loss: 0.0569 - val_accuracy: 0.9835\n",
      "Epoch 194/200\n",
      "17/17 [==============================] - ETA: 0s - loss: 0.0297 - accuracy: 0.9889\n",
      "Epoch 194: val_accuracy did not improve from 0.98704\n",
      "17/17 [==============================] - 3s 197ms/step - loss: 0.0297 - accuracy: 0.9889 - val_loss: 0.0526 - val_accuracy: 0.9865\n",
      "Epoch 195/200\n",
      "17/17 [==============================] - ETA: 0s - loss: 0.0304 - accuracy: 0.9885\n",
      "Epoch 195: val_accuracy did not improve from 0.98704\n",
      "17/17 [==============================] - 3s 200ms/step - loss: 0.0304 - accuracy: 0.9885 - val_loss: 0.0493 - val_accuracy: 0.9835\n",
      "Epoch 196/200\n",
      "17/17 [==============================] - ETA: 0s - loss: 0.0322 - accuracy: 0.9889\n",
      "Epoch 196: val_accuracy did not improve from 0.98704\n",
      "17/17 [==============================] - 3s 206ms/step - loss: 0.0322 - accuracy: 0.9889 - val_loss: 0.0620 - val_accuracy: 0.9829\n",
      "Epoch 197/200\n",
      "17/17 [==============================] - ETA: 0s - loss: 0.0368 - accuracy: 0.9868\n",
      "Epoch 197: val_accuracy did not improve from 0.98704\n",
      "17/17 [==============================] - 3s 202ms/step - loss: 0.0368 - accuracy: 0.9868 - val_loss: 0.0551 - val_accuracy: 0.9847\n",
      "Epoch 198/200\n",
      "17/17 [==============================] - ETA: 0s - loss: 0.0316 - accuracy: 0.9889\n",
      "Epoch 198: val_accuracy did not improve from 0.98704\n",
      "17/17 [==============================] - 3s 200ms/step - loss: 0.0316 - accuracy: 0.9889 - val_loss: 0.0618 - val_accuracy: 0.9835\n",
      "Epoch 199/200\n",
      "17/17 [==============================] - ETA: 0s - loss: 0.0315 - accuracy: 0.9885\n",
      "Epoch 199: val_accuracy improved from 0.98704 to 0.98763, saving model to best_model.pkl\n"
     ]
    },
    {
     "name": "stderr",
     "output_type": "stream",
     "text": [
      "WARNING:absl:Found untraced functions such as lstm_cell_layer_call_fn, lstm_cell_layer_call_and_return_conditional_losses while saving (showing 2 of 2). These functions will not be directly callable after loading.\n"
     ]
    },
    {
     "name": "stdout",
     "output_type": "stream",
     "text": [
      "INFO:tensorflow:Assets written to: best_model.pkl/assets\n"
     ]
    },
    {
     "name": "stderr",
     "output_type": "stream",
     "text": [
      "INFO:tensorflow:Assets written to: best_model.pkl/assets\n"
     ]
    },
    {
     "name": "stdout",
     "output_type": "stream",
     "text": [
      "17/17 [==============================] - 10s 600ms/step - loss: 0.0315 - accuracy: 0.9885 - val_loss: 0.0510 - val_accuracy: 0.9876\n",
      "Epoch 200/200\n",
      "17/17 [==============================] - ETA: 0s - loss: 0.0325 - accuracy: 0.9892\n",
      "Epoch 200: val_accuracy did not improve from 0.98763\n",
      "17/17 [==============================] - 3s 202ms/step - loss: 0.0325 - accuracy: 0.9892 - val_loss: 0.0563 - val_accuracy: 0.9859\n"
     ]
    }
   ],
   "source": [
    "adam = Adam(learning_rate=0.001)\n",
    "chk = ModelCheckpoint('best_model.pkl', monitor='val_accuracy', save_best_only=True, mode='max', verbose=1)\n",
    "model.compile(loss='binary_crossentropy', optimizer=adam, metrics=['accuracy'])\n",
    "history = model.fit(X_train, Y_train, epochs=epoch, batch_size=256, callbacks=[chk], validation_data=(X_validation,Y_validation))"
   ]
  },
  {
   "cell_type": "code",
   "execution_count": 17,
   "metadata": {},
   "outputs": [
    {
     "data": {
      "image/png": "[encoded data removed]",
      "text/plain": [
       "<Figure size 800x800 with 2 Axes>"
      ]
     },
     "metadata": {},
     "output_type": "display_data"
    }
   ],
   "source": [
    "\n",
    "\n",
    "import matplotlib.pyplot as plt\n",
    "\n",
    "acc = history.history['accuracy']\n",
    "val_acc = history.history['val_accuracy']\n",
    "\n",
    "loss = history.history['loss']\n",
    "val_loss = history.history['val_loss']\n",
    "\n",
    "epochs_range = range(epoch)\n",
    "\n",
    "plt.figure(figsize=(8, 8))\n",
    "plt.subplot(1, 2, 1)\n",
    "plt.plot(epochs_range, acc, label='Training Accuracy')\n",
    "plt.plot(epochs_range, val_acc, label='Validation Accuracy')\n",
    "plt.legend(loc='lower right')\n",
    "plt.title('Training and Validation Accuracy')\n",
    "\n",
    "\n",
    "plt.subplot(1, 2, 2)\n",
    "plt.plot(epochs_range, loss, label='Training Loss')\n",
    "plt.plot(epochs_range, val_loss, label='Validation Loss')\n",
    "plt.legend(loc='upper right')\n",
    "plt.title('Training and Validation Loss')\n",
    "plt.show()"
   ]
  },
  {
   "cell_type": "code",
   "execution_count": 16,
   "metadata": {
    "ExecuteTime": {
     "end_time": "2019-03-26T23:57:10.869320Z",
     "start_time": "2019-03-26T23:57:10.863336Z"
    }
   },
   "outputs": [
    {
     "name": "stdout",
     "output_type": "stream",
     "text": [
      "80/80 [==============================] - 2s 22ms/step\n",
      "              precision    recall  f1-score   support\n",
      "\n",
      "         0.0       0.99      0.98      0.99       978\n",
      "         1.0       0.99      0.99      0.99      1568\n",
      "\n",
      "    accuracy                           0.99      2546\n",
      "   macro avg       0.99      0.99      0.99      2546\n",
      "weighted avg       0.99      0.99      0.99      2546\n",
      "\n"
     ]
    }
   ],
   "source": [
    "model = load_model('models/best_model.pkl')\n",
    "np.set_printoptions(formatter={'float': lambda x: \"{0:0.3f}\".format(x)})\n",
    "\n",
    "test_preds = (model.predict(X_test) > 0.5).astype(\"int32\")\n",
    "\n",
    "classification_report = metrics.classification_report(Y_test, test_preds)\n",
    "print(classification_report)"
   ]
  }
 ],
 "metadata": {
  "kernelspec": {
   "display_name": "Python 3",
   "language": "python",
   "name": "python3"
  },
  "language_info": {
   "codemirror_mode": {
    "name": "ipython",
    "version": 3
   },
   "file_extension": ".py",
   "mimetype": "text/x-python",
   "name": "python",
   "nbconvert_exporter": "python",
   "pygments_lexer": "ipython3",
   "version": "3.8.10"
  },
  "varInspector": {
   "cols": {
    "lenName": 16,
    "lenType": 16,
    "lenVar": 40
   },
   "kernels_config": {
    "python": {
     "delete_cmd_postfix": "",
     "delete_cmd_prefix": "del ",
     "library": "var_list.py",
     "varRefreshCmd": "print(var_dic_list())"
    },
    "r": {
     "delete_cmd_postfix": ") ",
     "delete_cmd_prefix": "rm(",
     "library": "var_list.r",
     "varRefreshCmd": "cat(var_dic_list()) "
    }
   },
   "types_to_exclude": [
    "module",
    "function",
    "builtin_function_or_method",
    "instance",
    "_Feature"
   ],
   "window_display": false
  },
  "vscode": {
   "interpreter": {
    "hash": "916dbcbb3f70747c44a77c7bcd40155683ae19c65e1c03b4aa3499c5328201f1"
   }
  }
 },
 "nbformat": 4,
 "nbformat_minor": 2
}
