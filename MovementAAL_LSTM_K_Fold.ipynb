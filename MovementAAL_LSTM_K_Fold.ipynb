{
 "cells": [
  {
   "cell_type": "code",
   "execution_count": 1,
   "metadata": {
    "ExecuteTime": {
     "end_time": "2019-03-26T23:57:10.798788Z",
     "start_time": "2019-03-26T23:57:10.069265Z"
    }
   },
   "outputs": [],
   "source": [
    "import pandas as pd\n",
    "import numpy as np\n",
    "%matplotlib inline\n",
    "import matplotlib.pyplot as plt\n",
    "from os import listdir\n",
    "\n",
    "from keras.preprocessing import sequence\n",
    "import tensorflow as tf\n",
    "from keras.models import Sequential\n",
    "from keras.layers import Dense\n",
    "from keras.layers import LSTM\n",
    "from keras.layers import Dropout\n",
    "\n",
    "from keras.optimizers import Adam\n",
    "from keras.models import load_model\n",
    "from keras.callbacks import ModelCheckpoint\n",
    "import random\n",
    "\n",
    "from sklearn.model_selection import train_test_split\n",
    "\n",
    "# scikit-learn k-fold cross-validation\n",
    "from numpy import array\n",
    "from sklearn.model_selection import KFold\n",
    "\n",
    "from sklearn import metrics"
   ]
  },
  {
   "cell_type": "markdown",
   "metadata": {},
   "source": [
    "## Load input data"
   ]
  },
  {
   "cell_type": "code",
   "execution_count": 2,
   "metadata": {},
   "outputs": [],
   "source": [
    "#Hardcoded values\n",
    "timestep = 16\n",
    "k=10"
   ]
  },
  {
   "cell_type": "code",
   "execution_count": 3,
   "metadata": {},
   "outputs": [],
   "source": [
    "path = 'MovementAAL/dataset/MovementAAL_RSS_'\n",
    "\n",
    "sequences = list()\n",
    "file_targets = pd.read_csv('MovementAAL/dataset/MovementAAL_target.csv')\n",
    "\n",
    "targets = list()\n",
    "\n",
    "for i in range(1,315):\n",
    "    file_path = path + str(i) + '.csv'\n",
    "    file = pd.read_csv(file_path, header=0)\n",
    "    for j in range(0, (len(file) - timestep)+1):\n",
    "        arr = file[j:j+timestep]\n",
    "        sequences.append(arr)\n",
    "        targets.append(file_targets.values[:,1][i-1])"
   ]
  },
  {
   "cell_type": "code",
   "execution_count": 4,
   "metadata": {},
   "outputs": [
    {
     "name": "stdout",
     "output_type": "stream",
     "text": [
      "8487\n",
      "8487\n"
     ]
    },
    {
     "data": {
      "text/html": [
       "<div>\n",
       "<style scoped>\n",
       "    .dataframe tbody tr th:only-of-type {\n",
       "        vertical-align: middle;\n",
       "    }\n",
       "\n",
       "    .dataframe tbody tr th {\n",
       "        vertical-align: top;\n",
       "    }\n",
       "\n",
       "    .dataframe thead th {\n",
       "        text-align: right;\n",
       "    }\n",
       "</style>\n",
       "<table border=\"1\" class=\"dataframe\">\n",
       "  <thead>\n",
       "    <tr style=\"text-align: right;\">\n",
       "      <th></th>\n",
       "      <th>RSS_anchor1</th>\n",
       "      <th>RSS_anchor2</th>\n",
       "      <th>RSS_anchor3</th>\n",
       "      <th>RSS_anchor4</th>\n",
       "    </tr>\n",
       "  </thead>\n",
       "  <tbody>\n",
       "    <tr>\n",
       "      <th>0</th>\n",
       "      <td>-0.904760</td>\n",
       "      <td>-0.48</td>\n",
       "      <td>0.285710</td>\n",
       "      <td>0.30</td>\n",
       "    </tr>\n",
       "    <tr>\n",
       "      <th>1</th>\n",
       "      <td>-0.571430</td>\n",
       "      <td>-0.32</td>\n",
       "      <td>0.142860</td>\n",
       "      <td>0.30</td>\n",
       "    </tr>\n",
       "    <tr>\n",
       "      <th>2</th>\n",
       "      <td>-0.380950</td>\n",
       "      <td>-0.28</td>\n",
       "      <td>-0.142860</td>\n",
       "      <td>0.35</td>\n",
       "    </tr>\n",
       "    <tr>\n",
       "      <th>3</th>\n",
       "      <td>-0.285710</td>\n",
       "      <td>-0.20</td>\n",
       "      <td>-0.476190</td>\n",
       "      <td>0.35</td>\n",
       "    </tr>\n",
       "    <tr>\n",
       "      <th>4</th>\n",
       "      <td>-0.142860</td>\n",
       "      <td>-0.20</td>\n",
       "      <td>0.142860</td>\n",
       "      <td>-0.20</td>\n",
       "    </tr>\n",
       "    <tr>\n",
       "      <th>5</th>\n",
       "      <td>-0.142860</td>\n",
       "      <td>-0.20</td>\n",
       "      <td>0.047619</td>\n",
       "      <td>0.00</td>\n",
       "    </tr>\n",
       "    <tr>\n",
       "      <th>6</th>\n",
       "      <td>-0.142860</td>\n",
       "      <td>-0.16</td>\n",
       "      <td>-0.380950</td>\n",
       "      <td>0.20</td>\n",
       "    </tr>\n",
       "    <tr>\n",
       "      <th>7</th>\n",
       "      <td>-0.142860</td>\n",
       "      <td>-0.04</td>\n",
       "      <td>-0.619050</td>\n",
       "      <td>-0.20</td>\n",
       "    </tr>\n",
       "    <tr>\n",
       "      <th>8</th>\n",
       "      <td>-0.095238</td>\n",
       "      <td>-0.08</td>\n",
       "      <td>0.142860</td>\n",
       "      <td>-0.55</td>\n",
       "    </tr>\n",
       "    <tr>\n",
       "      <th>9</th>\n",
       "      <td>-0.047619</td>\n",
       "      <td>0.04</td>\n",
       "      <td>-0.095238</td>\n",
       "      <td>0.05</td>\n",
       "    </tr>\n",
       "    <tr>\n",
       "      <th>10</th>\n",
       "      <td>-0.190480</td>\n",
       "      <td>-0.04</td>\n",
       "      <td>0.095238</td>\n",
       "      <td>0.40</td>\n",
       "    </tr>\n",
       "    <tr>\n",
       "      <th>11</th>\n",
       "      <td>-0.095238</td>\n",
       "      <td>-0.04</td>\n",
       "      <td>-0.142860</td>\n",
       "      <td>0.35</td>\n",
       "    </tr>\n",
       "    <tr>\n",
       "      <th>12</th>\n",
       "      <td>-0.333330</td>\n",
       "      <td>-0.08</td>\n",
       "      <td>-0.285710</td>\n",
       "      <td>-0.20</td>\n",
       "    </tr>\n",
       "    <tr>\n",
       "      <th>13</th>\n",
       "      <td>-0.238100</td>\n",
       "      <td>0.04</td>\n",
       "      <td>0.142860</td>\n",
       "      <td>0.35</td>\n",
       "    </tr>\n",
       "    <tr>\n",
       "      <th>14</th>\n",
       "      <td>0.000000</td>\n",
       "      <td>0.08</td>\n",
       "      <td>0.142860</td>\n",
       "      <td>0.05</td>\n",
       "    </tr>\n",
       "    <tr>\n",
       "      <th>15</th>\n",
       "      <td>-0.095238</td>\n",
       "      <td>0.04</td>\n",
       "      <td>0.095238</td>\n",
       "      <td>0.10</td>\n",
       "    </tr>\n",
       "  </tbody>\n",
       "</table>\n",
       "</div>"
      ],
      "text/plain": [
       "    RSS_anchor1   RSS_anchor2   RSS_anchor3   RSS_anchor4\n",
       "0     -0.904760         -0.48      0.285710          0.30\n",
       "1     -0.571430         -0.32      0.142860          0.30\n",
       "2     -0.380950         -0.28     -0.142860          0.35\n",
       "3     -0.285710         -0.20     -0.476190          0.35\n",
       "4     -0.142860         -0.20      0.142860         -0.20\n",
       "5     -0.142860         -0.20      0.047619          0.00\n",
       "6     -0.142860         -0.16     -0.380950          0.20\n",
       "7     -0.142860         -0.04     -0.619050         -0.20\n",
       "8     -0.095238         -0.08      0.142860         -0.55\n",
       "9     -0.047619          0.04     -0.095238          0.05\n",
       "10    -0.190480         -0.04      0.095238          0.40\n",
       "11    -0.095238         -0.04     -0.142860          0.35\n",
       "12    -0.333330         -0.08     -0.285710         -0.20\n",
       "13    -0.238100          0.04      0.142860          0.35\n",
       "14     0.000000          0.08      0.142860          0.05\n",
       "15    -0.095238          0.04      0.095238          0.10"
      ]
     },
     "execution_count": 4,
     "metadata": {},
     "output_type": "execute_result"
    }
   ],
   "source": [
    "print(len(sequences))\n",
    "print(len(targets))\n",
    "sequences[0]"
   ]
  },
  {
   "cell_type": "code",
   "execution_count": 5,
   "metadata": {},
   "outputs": [],
   "source": [
    "groups = pd.read_csv('MovementAAL/groups/MovementAAL_DatasetGroup.csv', header=0)\n",
    "groups = groups.values[:,1]"
   ]
  },
  {
   "cell_type": "code",
   "execution_count": 6,
   "metadata": {},
   "outputs": [
    {
     "data": {
      "text/plain": [
       "count    8487.0\n",
       "mean       16.0\n",
       "std         0.0\n",
       "min        16.0\n",
       "25%        16.0\n",
       "50%        16.0\n",
       "75%        16.0\n",
       "max        16.0\n",
       "dtype: float64"
      ]
     },
     "execution_count": 6,
     "metadata": {},
     "output_type": "execute_result"
    }
   ],
   "source": [
    "len_sequences = []\n",
    "for one_seq in sequences:\n",
    "    len_sequences.append(len(one_seq))\n",
    "pd.Series(len_sequences).describe()\n"
   ]
  },
  {
   "cell_type": "code",
   "execution_count": 7,
   "metadata": {},
   "outputs": [
    {
     "name": "stdout",
     "output_type": "stream",
     "text": [
      "KFold(n_splits=10, random_state=None, shuffle=False)\n"
     ]
    }
   ],
   "source": [
    "accuracy_tab = list()\n",
    "\n",
    "#k-folder cross validation\n",
    "kfold = KFold(n_splits=k)\n",
    "kfold.get_n_splits(sequences)\n",
    "\n",
    "print(kfold)"
   ]
  },
  {
   "cell_type": "code",
   "execution_count": 8,
   "metadata": {},
   "outputs": [
    {
     "name": "stdout",
     "output_type": "stream",
     "text": [
      "Epoch 1/20\n",
      "30/30 [==============================] - ETA: 0s - loss: 0.6052 - accuracy: 0.6867\n",
      "Epoch 1: accuracy improved from -inf to 0.68670, saving model to best_model1.pkl\n"
     ]
    },
    {
     "name": "stderr",
     "output_type": "stream",
     "text": [
      "WARNING:absl:Found untraced functions such as lstm_cell_layer_call_fn, lstm_cell_layer_call_and_return_conditional_losses while saving (showing 2 of 2). These functions will not be directly callable after loading.\n"
     ]
    },
    {
     "name": "stdout",
     "output_type": "stream",
     "text": [
      "INFO:tensorflow:Assets written to: best_model1.pkl\\assets\n"
     ]
    },
    {
     "name": "stderr",
     "output_type": "stream",
     "text": [
      "INFO:tensorflow:Assets written to: best_model1.pkl\\assets\n"
     ]
    },
    {
     "name": "stdout",
     "output_type": "stream",
     "text": [
      "30/30 [==============================] - 12s 308ms/step - loss: 0.6052 - accuracy: 0.6867\n",
      "Epoch 2/20\n",
      "30/30 [==============================] - ETA: 0s - loss: 0.5117 - accuracy: 0.7533\n",
      "Epoch 2: accuracy improved from 0.68670 to 0.75334, saving model to best_model1.pkl\n"
     ]
    },
    {
     "name": "stderr",
     "output_type": "stream",
     "text": [
      "WARNING:absl:Found untraced functions such as lstm_cell_layer_call_fn, lstm_cell_layer_call_and_return_conditional_losses while saving (showing 2 of 2). These functions will not be directly callable after loading.\n"
     ]
    },
    {
     "name": "stdout",
     "output_type": "stream",
     "text": [
      "INFO:tensorflow:Assets written to: best_model1.pkl\\assets\n"
     ]
    },
    {
     "name": "stderr",
     "output_type": "stream",
     "text": [
      "INFO:tensorflow:Assets written to: best_model1.pkl\\assets\n"
     ]
    },
    {
     "name": "stdout",
     "output_type": "stream",
     "text": [
      "30/30 [==============================] - 14s 479ms/step - loss: 0.5117 - accuracy: 0.7533\n",
      "Epoch 3/20\n",
      "30/30 [==============================] - ETA: 0s - loss: 0.4476 - accuracy: 0.7886\n",
      "Epoch 3: accuracy improved from 0.75334 to 0.78856, saving model to best_model1.pkl\n"
     ]
    },
    {
     "name": "stderr",
     "output_type": "stream",
     "text": [
      "WARNING:absl:Found untraced functions such as lstm_cell_layer_call_fn, lstm_cell_layer_call_and_return_conditional_losses while saving (showing 2 of 2). These functions will not be directly callable after loading.\n"
     ]
    },
    {
     "name": "stdout",
     "output_type": "stream",
     "text": [
      "INFO:tensorflow:Assets written to: best_model1.pkl\\assets\n"
     ]
    },
    {
     "name": "stderr",
     "output_type": "stream",
     "text": [
      "INFO:tensorflow:Assets written to: best_model1.pkl\\assets\n"
     ]
    },
    {
     "name": "stdout",
     "output_type": "stream",
     "text": [
      "30/30 [==============================] - 10s 345ms/step - loss: 0.4476 - accuracy: 0.7886\n",
      "Epoch 4/20\n",
      "30/30 [==============================] - ETA: 0s - loss: 0.4198 - accuracy: 0.7973\n",
      "Epoch 4: accuracy improved from 0.78856 to 0.79733, saving model to best_model1.pkl\n"
     ]
    },
    {
     "name": "stderr",
     "output_type": "stream",
     "text": [
      "WARNING:absl:Found untraced functions such as lstm_cell_layer_call_fn, lstm_cell_layer_call_and_return_conditional_losses while saving (showing 2 of 2). These functions will not be directly callable after loading.\n"
     ]
    },
    {
     "name": "stdout",
     "output_type": "stream",
     "text": [
      "INFO:tensorflow:Assets written to: best_model1.pkl\\assets\n"
     ]
    },
    {
     "name": "stderr",
     "output_type": "stream",
     "text": [
      "INFO:tensorflow:Assets written to: best_model1.pkl\\assets\n"
     ]
    },
    {
     "name": "stdout",
     "output_type": "stream",
     "text": [
      "30/30 [==============================] - 9s 288ms/step - loss: 0.4198 - accuracy: 0.7973\n",
      "Epoch 5/20\n",
      "30/30 [==============================] - ETA: 0s - loss: 0.3907 - accuracy: 0.8200\n",
      "Epoch 5: accuracy improved from 0.79733 to 0.81998, saving model to best_model1.pkl\n"
     ]
    },
    {
     "name": "stderr",
     "output_type": "stream",
     "text": [
      "WARNING:absl:Found untraced functions such as lstm_cell_layer_call_fn, lstm_cell_layer_call_and_return_conditional_losses while saving (showing 2 of 2). These functions will not be directly callable after loading.\n"
     ]
    },
    {
     "name": "stdout",
     "output_type": "stream",
     "text": [
      "INFO:tensorflow:Assets written to: best_model1.pkl\\assets\n"
     ]
    },
    {
     "name": "stderr",
     "output_type": "stream",
     "text": [
      "INFO:tensorflow:Assets written to: best_model1.pkl\\assets\n"
     ]
    },
    {
     "name": "stdout",
     "output_type": "stream",
     "text": [
      "30/30 [==============================] - 9s 289ms/step - loss: 0.3907 - accuracy: 0.8200\n",
      "Epoch 6/20\n",
      "30/30 [==============================] - ETA: 0s - loss: 0.3677 - accuracy: 0.8310\n",
      "Epoch 6: accuracy improved from 0.81998 to 0.83098, saving model to best_model1.pkl\n"
     ]
    },
    {
     "name": "stderr",
     "output_type": "stream",
     "text": [
      "WARNING:absl:Found untraced functions such as lstm_cell_layer_call_fn, lstm_cell_layer_call_and_return_conditional_losses while saving (showing 2 of 2). These functions will not be directly callable after loading.\n"
     ]
    },
    {
     "name": "stdout",
     "output_type": "stream",
     "text": [
      "INFO:tensorflow:Assets written to: best_model1.pkl\\assets\n"
     ]
    },
    {
     "name": "stderr",
     "output_type": "stream",
     "text": [
      "INFO:tensorflow:Assets written to: best_model1.pkl\\assets\n"
     ]
    },
    {
     "name": "stdout",
     "output_type": "stream",
     "text": [
      "30/30 [==============================] - 8s 280ms/step - loss: 0.3677 - accuracy: 0.8310\n",
      "Epoch 7/20\n",
      "30/30 [==============================] - ETA: 0s - loss: 0.3493 - accuracy: 0.8348\n",
      "Epoch 7: accuracy improved from 0.83098 to 0.83477, saving model to best_model1.pkl\n"
     ]
    },
    {
     "name": "stderr",
     "output_type": "stream",
     "text": [
      "WARNING:absl:Found untraced functions such as lstm_cell_layer_call_fn, lstm_cell_layer_call_and_return_conditional_losses while saving (showing 2 of 2). These functions will not be directly callable after loading.\n"
     ]
    },
    {
     "name": "stdout",
     "output_type": "stream",
     "text": [
      "INFO:tensorflow:Assets written to: best_model1.pkl\\assets\n"
     ]
    },
    {
     "name": "stderr",
     "output_type": "stream",
     "text": [
      "INFO:tensorflow:Assets written to: best_model1.pkl\\assets\n"
     ]
    },
    {
     "name": "stdout",
     "output_type": "stream",
     "text": [
      "30/30 [==============================] - 9s 290ms/step - loss: 0.3493 - accuracy: 0.8348\n",
      "Epoch 8/20\n",
      "30/30 [==============================] - ETA: 0s - loss: 0.3342 - accuracy: 0.8467\n",
      "Epoch 8: accuracy improved from 0.83477 to 0.84669, saving model to best_model1.pkl\n"
     ]
    },
    {
     "name": "stderr",
     "output_type": "stream",
     "text": [
      "WARNING:absl:Found untraced functions such as lstm_cell_layer_call_fn, lstm_cell_layer_call_and_return_conditional_losses while saving (showing 2 of 2). These functions will not be directly callable after loading.\n"
     ]
    },
    {
     "name": "stdout",
     "output_type": "stream",
     "text": [
      "INFO:tensorflow:Assets written to: best_model1.pkl\\assets\n"
     ]
    },
    {
     "name": "stderr",
     "output_type": "stream",
     "text": [
      "INFO:tensorflow:Assets written to: best_model1.pkl\\assets\n"
     ]
    },
    {
     "name": "stdout",
     "output_type": "stream",
     "text": [
      "30/30 [==============================] - 9s 291ms/step - loss: 0.3342 - accuracy: 0.8467\n",
      "Epoch 9/20\n",
      "30/30 [==============================] - ETA: 0s - loss: 0.3245 - accuracy: 0.8447\n",
      "Epoch 9: accuracy did not improve from 0.84669\n",
      "30/30 [==============================] - 4s 128ms/step - loss: 0.3245 - accuracy: 0.8447\n",
      "Epoch 10/20\n",
      "30/30 [==============================] - ETA: 0s - loss: 0.3173 - accuracy: 0.8532\n",
      "Epoch 10: accuracy improved from 0.84669 to 0.85323, saving model to best_model1.pkl\n"
     ]
    },
    {
     "name": "stderr",
     "output_type": "stream",
     "text": [
      "WARNING:absl:Found untraced functions such as lstm_cell_layer_call_fn, lstm_cell_layer_call_and_return_conditional_losses while saving (showing 2 of 2). These functions will not be directly callable after loading.\n"
     ]
    },
    {
     "name": "stdout",
     "output_type": "stream",
     "text": [
      "INFO:tensorflow:Assets written to: best_model1.pkl\\assets\n"
     ]
    },
    {
     "name": "stderr",
     "output_type": "stream",
     "text": [
      "INFO:tensorflow:Assets written to: best_model1.pkl\\assets\n"
     ]
    },
    {
     "name": "stdout",
     "output_type": "stream",
     "text": [
      "30/30 [==============================] - 9s 302ms/step - loss: 0.3173 - accuracy: 0.8532\n",
      "Epoch 11/20\n",
      "30/30 [==============================] - ETA: 0s - loss: 0.3000 - accuracy: 0.8627\n",
      "Epoch 11: accuracy improved from 0.85323 to 0.86266, saving model to best_model1.pkl\n"
     ]
    },
    {
     "name": "stderr",
     "output_type": "stream",
     "text": [
      "WARNING:absl:Found untraced functions such as lstm_cell_layer_call_fn, lstm_cell_layer_call_and_return_conditional_losses while saving (showing 2 of 2). These functions will not be directly callable after loading.\n"
     ]
    },
    {
     "name": "stdout",
     "output_type": "stream",
     "text": [
      "INFO:tensorflow:Assets written to: best_model1.pkl\\assets\n"
     ]
    },
    {
     "name": "stderr",
     "output_type": "stream",
     "text": [
      "INFO:tensorflow:Assets written to: best_model1.pkl\\assets\n"
     ]
    },
    {
     "name": "stdout",
     "output_type": "stream",
     "text": [
      "30/30 [==============================] - 8s 287ms/step - loss: 0.3000 - accuracy: 0.8627\n",
      "Epoch 12/20\n",
      "30/30 [==============================] - ETA: 0s - loss: 0.2957 - accuracy: 0.8627\n",
      "Epoch 12: accuracy did not improve from 0.86266\n",
      "30/30 [==============================] - 4s 123ms/step - loss: 0.2957 - accuracy: 0.8627\n",
      "Epoch 13/20\n",
      "30/30 [==============================] - ETA: 0s - loss: 0.2776 - accuracy: 0.8771\n",
      "Epoch 13: accuracy improved from 0.86266 to 0.87706, saving model to best_model1.pkl\n"
     ]
    },
    {
     "name": "stderr",
     "output_type": "stream",
     "text": [
      "WARNING:absl:Found untraced functions such as lstm_cell_layer_call_fn, lstm_cell_layer_call_and_return_conditional_losses while saving (showing 2 of 2). These functions will not be directly callable after loading.\n"
     ]
    },
    {
     "name": "stdout",
     "output_type": "stream",
     "text": [
      "INFO:tensorflow:Assets written to: best_model1.pkl\\assets\n"
     ]
    },
    {
     "name": "stderr",
     "output_type": "stream",
     "text": [
      "INFO:tensorflow:Assets written to: best_model1.pkl\\assets\n"
     ]
    },
    {
     "name": "stdout",
     "output_type": "stream",
     "text": [
      "30/30 [==============================] - 9s 296ms/step - loss: 0.2776 - accuracy: 0.8771\n",
      "Epoch 14/20\n",
      "30/30 [==============================] - ETA: 0s - loss: 0.2844 - accuracy: 0.8712\n",
      "Epoch 14: accuracy did not improve from 0.87706\n",
      "30/30 [==============================] - 4s 125ms/step - loss: 0.2844 - accuracy: 0.8712\n",
      "Epoch 15/20\n",
      "30/30 [==============================] - ETA: 0s - loss: 0.2643 - accuracy: 0.8805\n",
      "Epoch 15: accuracy improved from 0.87706 to 0.88047, saving model to best_model1.pkl\n"
     ]
    },
    {
     "name": "stderr",
     "output_type": "stream",
     "text": [
      "WARNING:absl:Found untraced functions such as lstm_cell_layer_call_fn, lstm_cell_layer_call_and_return_conditional_losses while saving (showing 2 of 2). These functions will not be directly callable after loading.\n"
     ]
    },
    {
     "name": "stdout",
     "output_type": "stream",
     "text": [
      "INFO:tensorflow:Assets written to: best_model1.pkl\\assets\n"
     ]
    },
    {
     "name": "stderr",
     "output_type": "stream",
     "text": [
      "INFO:tensorflow:Assets written to: best_model1.pkl\\assets\n"
     ]
    },
    {
     "name": "stdout",
     "output_type": "stream",
     "text": [
      "30/30 [==============================] - 9s 293ms/step - loss: 0.2643 - accuracy: 0.8805\n",
      "Epoch 16/20\n",
      "30/30 [==============================] - ETA: 0s - loss: 0.2470 - accuracy: 0.8905\n",
      "Epoch 16: accuracy improved from 0.88047 to 0.89055, saving model to best_model1.pkl\n"
     ]
    },
    {
     "name": "stderr",
     "output_type": "stream",
     "text": [
      "WARNING:absl:Found untraced functions such as lstm_cell_layer_call_fn, lstm_cell_layer_call_and_return_conditional_losses while saving (showing 2 of 2). These functions will not be directly callable after loading.\n"
     ]
    },
    {
     "name": "stdout",
     "output_type": "stream",
     "text": [
      "INFO:tensorflow:Assets written to: best_model1.pkl\\assets\n"
     ]
    },
    {
     "name": "stderr",
     "output_type": "stream",
     "text": [
      "INFO:tensorflow:Assets written to: best_model1.pkl\\assets\n"
     ]
    },
    {
     "name": "stdout",
     "output_type": "stream",
     "text": [
      "30/30 [==============================] - 10s 334ms/step - loss: 0.2470 - accuracy: 0.8905\n",
      "Epoch 17/20\n",
      "30/30 [==============================] - ETA: 0s - loss: 0.2321 - accuracy: 0.8991\n",
      "Epoch 17: accuracy improved from 0.89055 to 0.89906, saving model to best_model1.pkl\n"
     ]
    },
    {
     "name": "stderr",
     "output_type": "stream",
     "text": [
      "WARNING:absl:Found untraced functions such as lstm_cell_layer_call_fn, lstm_cell_layer_call_and_return_conditional_losses while saving (showing 2 of 2). These functions will not be directly callable after loading.\n"
     ]
    },
    {
     "name": "stdout",
     "output_type": "stream",
     "text": [
      "INFO:tensorflow:Assets written to: best_model1.pkl\\assets\n"
     ]
    },
    {
     "name": "stderr",
     "output_type": "stream",
     "text": [
      "INFO:tensorflow:Assets written to: best_model1.pkl\\assets\n"
     ]
    },
    {
     "name": "stdout",
     "output_type": "stream",
     "text": [
      "30/30 [==============================] - 10s 326ms/step - loss: 0.2321 - accuracy: 0.8991\n",
      "Epoch 18/20\n",
      "30/30 [==============================] - ETA: 0s - loss: 0.2274 - accuracy: 0.9042\n",
      "Epoch 18: accuracy improved from 0.89906 to 0.90416, saving model to best_model1.pkl\n"
     ]
    },
    {
     "name": "stderr",
     "output_type": "stream",
     "text": [
      "WARNING:absl:Found untraced functions such as lstm_cell_layer_call_fn, lstm_cell_layer_call_and_return_conditional_losses while saving (showing 2 of 2). These functions will not be directly callable after loading.\n"
     ]
    },
    {
     "name": "stdout",
     "output_type": "stream",
     "text": [
      "INFO:tensorflow:Assets written to: best_model1.pkl\\assets\n"
     ]
    },
    {
     "name": "stderr",
     "output_type": "stream",
     "text": [
      "INFO:tensorflow:Assets written to: best_model1.pkl\\assets\n"
     ]
    },
    {
     "name": "stdout",
     "output_type": "stream",
     "text": [
      "30/30 [==============================] - 10s 324ms/step - loss: 0.2274 - accuracy: 0.9042\n",
      "Epoch 19/20\n",
      "30/30 [==============================] - ETA: 0s - loss: 0.2124 - accuracy: 0.9099\n",
      "Epoch 19: accuracy improved from 0.90416 to 0.90992, saving model to best_model1.pkl\n"
     ]
    },
    {
     "name": "stderr",
     "output_type": "stream",
     "text": [
      "WARNING:absl:Found untraced functions such as lstm_cell_layer_call_fn, lstm_cell_layer_call_and_return_conditional_losses while saving (showing 2 of 2). These functions will not be directly callable after loading.\n"
     ]
    },
    {
     "name": "stdout",
     "output_type": "stream",
     "text": [
      "INFO:tensorflow:Assets written to: best_model1.pkl\\assets\n"
     ]
    },
    {
     "name": "stderr",
     "output_type": "stream",
     "text": [
      "INFO:tensorflow:Assets written to: best_model1.pkl\\assets\n"
     ]
    },
    {
     "name": "stdout",
     "output_type": "stream",
     "text": [
      "30/30 [==============================] - 11s 375ms/step - loss: 0.2124 - accuracy: 0.9099\n",
      "Epoch 20/20\n",
      "30/30 [==============================] - ETA: 0s - loss: 0.2035 - accuracy: 0.9116\n",
      "Epoch 20: accuracy improved from 0.90992 to 0.91163, saving model to best_model1.pkl\n"
     ]
    },
    {
     "name": "stderr",
     "output_type": "stream",
     "text": [
      "WARNING:absl:Found untraced functions such as lstm_cell_layer_call_fn, lstm_cell_layer_call_and_return_conditional_losses while saving (showing 2 of 2). These functions will not be directly callable after loading.\n"
     ]
    },
    {
     "name": "stdout",
     "output_type": "stream",
     "text": [
      "INFO:tensorflow:Assets written to: best_model1.pkl\\assets\n"
     ]
    },
    {
     "name": "stderr",
     "output_type": "stream",
     "text": [
      "INFO:tensorflow:Assets written to: best_model1.pkl\\assets\n"
     ]
    },
    {
     "name": "stdout",
     "output_type": "stream",
     "text": [
      "30/30 [==============================] - 10s 325ms/step - loss: 0.2035 - accuracy: 0.9116\n",
      "27/27 [==============================] - 1s 18ms/step\n",
      "Epoch 1/20\n",
      "30/30 [==============================] - ETA: 0s - loss: 0.6085 - accuracy: 0.6871\n",
      "Epoch 1: accuracy improved from -inf to 0.68709, saving model to best_model2.pkl\n"
     ]
    },
    {
     "name": "stderr",
     "output_type": "stream",
     "text": [
      "WARNING:absl:Found untraced functions such as lstm_cell_2_layer_call_fn, lstm_cell_2_layer_call_and_return_conditional_losses while saving (showing 2 of 2). These functions will not be directly callable after loading.\n"
     ]
    },
    {
     "name": "stdout",
     "output_type": "stream",
     "text": [
      "INFO:tensorflow:Assets written to: best_model2.pkl\\assets\n"
     ]
    },
    {
     "name": "stderr",
     "output_type": "stream",
     "text": [
      "INFO:tensorflow:Assets written to: best_model2.pkl\\assets\n"
     ]
    },
    {
     "name": "stdout",
     "output_type": "stream",
     "text": [
      "30/30 [==============================] - 11s 290ms/step - loss: 0.6085 - accuracy: 0.6871\n",
      "Epoch 2/20\n",
      "30/30 [==============================] - ETA: 0s - loss: 0.5230 - accuracy: 0.7571\n",
      "Epoch 2: accuracy improved from 0.68709 to 0.75714, saving model to best_model2.pkl\n"
     ]
    },
    {
     "name": "stderr",
     "output_type": "stream",
     "text": [
      "WARNING:absl:Found untraced functions such as lstm_cell_2_layer_call_fn, lstm_cell_2_layer_call_and_return_conditional_losses while saving (showing 2 of 2). These functions will not be directly callable after loading.\n"
     ]
    },
    {
     "name": "stdout",
     "output_type": "stream",
     "text": [
      "INFO:tensorflow:Assets written to: best_model2.pkl\\assets\n"
     ]
    },
    {
     "name": "stderr",
     "output_type": "stream",
     "text": [
      "INFO:tensorflow:Assets written to: best_model2.pkl\\assets\n"
     ]
    },
    {
     "name": "stdout",
     "output_type": "stream",
     "text": [
      "30/30 [==============================] - 16s 556ms/step - loss: 0.5230 - accuracy: 0.7571\n",
      "Epoch 3/20\n",
      "30/30 [==============================] - ETA: 0s - loss: 0.4572 - accuracy: 0.7865\n",
      "Epoch 3: accuracy improved from 0.75714 to 0.78646, saving model to best_model2.pkl\n"
     ]
    },
    {
     "name": "stderr",
     "output_type": "stream",
     "text": [
      "WARNING:absl:Found untraced functions such as lstm_cell_2_layer_call_fn, lstm_cell_2_layer_call_and_return_conditional_losses while saving (showing 2 of 2). These functions will not be directly callable after loading.\n"
     ]
    },
    {
     "name": "stdout",
     "output_type": "stream",
     "text": [
      "INFO:tensorflow:Assets written to: best_model2.pkl\\assets\n"
     ]
    },
    {
     "name": "stderr",
     "output_type": "stream",
     "text": [
      "INFO:tensorflow:Assets written to: best_model2.pkl\\assets\n"
     ]
    },
    {
     "name": "stdout",
     "output_type": "stream",
     "text": [
      "30/30 [==============================] - 12s 416ms/step - loss: 0.4572 - accuracy: 0.7865\n",
      "Epoch 4/20\n",
      "30/30 [==============================] - ETA: 0s - loss: 0.4150 - accuracy: 0.8100\n",
      "Epoch 4: accuracy improved from 0.78646 to 0.81003, saving model to best_model2.pkl\n"
     ]
    },
    {
     "name": "stderr",
     "output_type": "stream",
     "text": [
      "WARNING:absl:Found untraced functions such as lstm_cell_2_layer_call_fn, lstm_cell_2_layer_call_and_return_conditional_losses while saving (showing 2 of 2). These functions will not be directly callable after loading.\n"
     ]
    },
    {
     "name": "stdout",
     "output_type": "stream",
     "text": [
      "INFO:tensorflow:Assets written to: best_model2.pkl\\assets\n"
     ]
    },
    {
     "name": "stderr",
     "output_type": "stream",
     "text": [
      "INFO:tensorflow:Assets written to: best_model2.pkl\\assets\n"
     ]
    },
    {
     "name": "stdout",
     "output_type": "stream",
     "text": [
      "30/30 [==============================] - 10s 336ms/step - loss: 0.4150 - accuracy: 0.8100\n",
      "Epoch 5/20\n",
      "30/30 [==============================] - ETA: 0s - loss: 0.3842 - accuracy: 0.8316\n",
      "Epoch 5: accuracy improved from 0.81003 to 0.83163, saving model to best_model2.pkl\n"
     ]
    },
    {
     "name": "stderr",
     "output_type": "stream",
     "text": [
      "WARNING:absl:Found untraced functions such as lstm_cell_2_layer_call_fn, lstm_cell_2_layer_call_and_return_conditional_losses while saving (showing 2 of 2). These functions will not be directly callable after loading.\n"
     ]
    },
    {
     "name": "stdout",
     "output_type": "stream",
     "text": [
      "INFO:tensorflow:Assets written to: best_model2.pkl\\assets\n"
     ]
    },
    {
     "name": "stderr",
     "output_type": "stream",
     "text": [
      "INFO:tensorflow:Assets written to: best_model2.pkl\\assets\n"
     ]
    },
    {
     "name": "stdout",
     "output_type": "stream",
     "text": [
      "30/30 [==============================] - 12s 401ms/step - loss: 0.3842 - accuracy: 0.8316\n",
      "Epoch 6/20\n",
      "30/30 [==============================] - ETA: 0s - loss: 0.3530 - accuracy: 0.8383\n",
      "Epoch 6: accuracy improved from 0.83163 to 0.83831, saving model to best_model2.pkl\n"
     ]
    },
    {
     "name": "stderr",
     "output_type": "stream",
     "text": [
      "WARNING:absl:Found untraced functions such as lstm_cell_2_layer_call_fn, lstm_cell_2_layer_call_and_return_conditional_losses while saving (showing 2 of 2). These functions will not be directly callable after loading.\n"
     ]
    },
    {
     "name": "stdout",
     "output_type": "stream",
     "text": [
      "INFO:tensorflow:Assets written to: best_model2.pkl\\assets\n"
     ]
    },
    {
     "name": "stderr",
     "output_type": "stream",
     "text": [
      "INFO:tensorflow:Assets written to: best_model2.pkl\\assets\n"
     ]
    },
    {
     "name": "stdout",
     "output_type": "stream",
     "text": [
      "30/30 [==============================] - 9s 316ms/step - loss: 0.3530 - accuracy: 0.8383\n",
      "Epoch 7/20\n",
      "30/30 [==============================] - ETA: 0s - loss: 0.3447 - accuracy: 0.8456\n",
      "Epoch 7: accuracy improved from 0.83831 to 0.84564, saving model to best_model2.pkl\n"
     ]
    },
    {
     "name": "stderr",
     "output_type": "stream",
     "text": [
      "WARNING:absl:Found untraced functions such as lstm_cell_2_layer_call_fn, lstm_cell_2_layer_call_and_return_conditional_losses while saving (showing 2 of 2). These functions will not be directly callable after loading.\n"
     ]
    },
    {
     "name": "stdout",
     "output_type": "stream",
     "text": [
      "INFO:tensorflow:Assets written to: best_model2.pkl\\assets\n"
     ]
    },
    {
     "name": "stderr",
     "output_type": "stream",
     "text": [
      "INFO:tensorflow:Assets written to: best_model2.pkl\\assets\n"
     ]
    },
    {
     "name": "stdout",
     "output_type": "stream",
     "text": [
      "30/30 [==============================] - 9s 298ms/step - loss: 0.3447 - accuracy: 0.8456\n",
      "Epoch 8/20\n",
      "30/30 [==============================] - ETA: 0s - loss: 0.3259 - accuracy: 0.8477\n",
      "Epoch 8: accuracy improved from 0.84564 to 0.84773, saving model to best_model2.pkl\n"
     ]
    },
    {
     "name": "stderr",
     "output_type": "stream",
     "text": [
      "WARNING:absl:Found untraced functions such as lstm_cell_2_layer_call_fn, lstm_cell_2_layer_call_and_return_conditional_losses while saving (showing 2 of 2). These functions will not be directly callable after loading.\n"
     ]
    },
    {
     "name": "stdout",
     "output_type": "stream",
     "text": [
      "INFO:tensorflow:Assets written to: best_model2.pkl\\assets\n"
     ]
    },
    {
     "name": "stderr",
     "output_type": "stream",
     "text": [
      "INFO:tensorflow:Assets written to: best_model2.pkl\\assets\n"
     ]
    },
    {
     "name": "stdout",
     "output_type": "stream",
     "text": [
      "30/30 [==============================] - 9s 316ms/step - loss: 0.3259 - accuracy: 0.8477\n",
      "Epoch 9/20\n",
      "30/30 [==============================] - ETA: 0s - loss: 0.3215 - accuracy: 0.8527\n",
      "Epoch 9: accuracy improved from 0.84773 to 0.85271, saving model to best_model2.pkl\n"
     ]
    },
    {
     "name": "stderr",
     "output_type": "stream",
     "text": [
      "WARNING:absl:Found untraced functions such as lstm_cell_2_layer_call_fn, lstm_cell_2_layer_call_and_return_conditional_losses while saving (showing 2 of 2). These functions will not be directly callable after loading.\n"
     ]
    },
    {
     "name": "stdout",
     "output_type": "stream",
     "text": [
      "INFO:tensorflow:Assets written to: best_model2.pkl\\assets\n"
     ]
    },
    {
     "name": "stderr",
     "output_type": "stream",
     "text": [
      "INFO:tensorflow:Assets written to: best_model2.pkl\\assets\n"
     ]
    },
    {
     "name": "stdout",
     "output_type": "stream",
     "text": [
      "30/30 [==============================] - 9s 296ms/step - loss: 0.3215 - accuracy: 0.8527\n",
      "Epoch 10/20\n",
      "30/30 [==============================] - ETA: 0s - loss: 0.3104 - accuracy: 0.8586\n",
      "Epoch 10: accuracy improved from 0.85271 to 0.85860, saving model to best_model2.pkl\n"
     ]
    },
    {
     "name": "stderr",
     "output_type": "stream",
     "text": [
      "WARNING:absl:Found untraced functions such as lstm_cell_2_layer_call_fn, lstm_cell_2_layer_call_and_return_conditional_losses while saving (showing 2 of 2). These functions will not be directly callable after loading.\n"
     ]
    },
    {
     "name": "stdout",
     "output_type": "stream",
     "text": [
      "INFO:tensorflow:Assets written to: best_model2.pkl\\assets\n"
     ]
    },
    {
     "name": "stderr",
     "output_type": "stream",
     "text": [
      "INFO:tensorflow:Assets written to: best_model2.pkl\\assets\n"
     ]
    },
    {
     "name": "stdout",
     "output_type": "stream",
     "text": [
      "30/30 [==============================] - 9s 319ms/step - loss: 0.3104 - accuracy: 0.8586\n",
      "Epoch 11/20\n",
      "30/30 [==============================] - ETA: 0s - loss: 0.2950 - accuracy: 0.8697\n",
      "Epoch 11: accuracy improved from 0.85860 to 0.86973, saving model to best_model2.pkl\n"
     ]
    },
    {
     "name": "stderr",
     "output_type": "stream",
     "text": [
      "WARNING:absl:Found untraced functions such as lstm_cell_2_layer_call_fn, lstm_cell_2_layer_call_and_return_conditional_losses while saving (showing 2 of 2). These functions will not be directly callable after loading.\n"
     ]
    },
    {
     "name": "stdout",
     "output_type": "stream",
     "text": [
      "INFO:tensorflow:Assets written to: best_model2.pkl\\assets\n"
     ]
    },
    {
     "name": "stderr",
     "output_type": "stream",
     "text": [
      "INFO:tensorflow:Assets written to: best_model2.pkl\\assets\n"
     ]
    },
    {
     "name": "stdout",
     "output_type": "stream",
     "text": [
      "30/30 [==============================] - 9s 309ms/step - loss: 0.2950 - accuracy: 0.8697\n",
      "Epoch 12/20\n",
      "30/30 [==============================] - ETA: 0s - loss: 0.2776 - accuracy: 0.8752\n",
      "Epoch 12: accuracy improved from 0.86973 to 0.87523, saving model to best_model2.pkl\n"
     ]
    },
    {
     "name": "stderr",
     "output_type": "stream",
     "text": [
      "WARNING:absl:Found untraced functions such as lstm_cell_2_layer_call_fn, lstm_cell_2_layer_call_and_return_conditional_losses while saving (showing 2 of 2). These functions will not be directly callable after loading.\n"
     ]
    },
    {
     "name": "stdout",
     "output_type": "stream",
     "text": [
      "INFO:tensorflow:Assets written to: best_model2.pkl\\assets\n"
     ]
    },
    {
     "name": "stderr",
     "output_type": "stream",
     "text": [
      "INFO:tensorflow:Assets written to: best_model2.pkl\\assets\n"
     ]
    },
    {
     "name": "stdout",
     "output_type": "stream",
     "text": [
      "30/30 [==============================] - 9s 305ms/step - loss: 0.2776 - accuracy: 0.8752\n",
      "Epoch 13/20\n",
      "30/30 [==============================] - ETA: 0s - loss: 0.2715 - accuracy: 0.8839\n",
      "Epoch 13: accuracy improved from 0.87523 to 0.88387, saving model to best_model2.pkl\n"
     ]
    },
    {
     "name": "stderr",
     "output_type": "stream",
     "text": [
      "WARNING:absl:Found untraced functions such as lstm_cell_2_layer_call_fn, lstm_cell_2_layer_call_and_return_conditional_losses while saving (showing 2 of 2). These functions will not be directly callable after loading.\n"
     ]
    },
    {
     "name": "stdout",
     "output_type": "stream",
     "text": [
      "INFO:tensorflow:Assets written to: best_model2.pkl\\assets\n"
     ]
    },
    {
     "name": "stderr",
     "output_type": "stream",
     "text": [
      "INFO:tensorflow:Assets written to: best_model2.pkl\\assets\n"
     ]
    },
    {
     "name": "stdout",
     "output_type": "stream",
     "text": [
      "30/30 [==============================] - 9s 312ms/step - loss: 0.2715 - accuracy: 0.8839\n",
      "Epoch 14/20\n",
      "30/30 [==============================] - ETA: 0s - loss: 0.2704 - accuracy: 0.8822\n",
      "Epoch 14: accuracy did not improve from 0.88387\n",
      "30/30 [==============================] - 4s 139ms/step - loss: 0.2704 - accuracy: 0.8822\n",
      "Epoch 15/20\n",
      "30/30 [==============================] - ETA: 0s - loss: 0.2435 - accuracy: 0.8924\n",
      "Epoch 15: accuracy improved from 0.88387 to 0.89238, saving model to best_model2.pkl\n"
     ]
    },
    {
     "name": "stderr",
     "output_type": "stream",
     "text": [
      "WARNING:absl:Found untraced functions such as lstm_cell_2_layer_call_fn, lstm_cell_2_layer_call_and_return_conditional_losses while saving (showing 2 of 2). These functions will not be directly callable after loading.\n"
     ]
    },
    {
     "name": "stdout",
     "output_type": "stream",
     "text": [
      "INFO:tensorflow:Assets written to: best_model2.pkl\\assets\n"
     ]
    },
    {
     "name": "stderr",
     "output_type": "stream",
     "text": [
      "INFO:tensorflow:Assets written to: best_model2.pkl\\assets\n"
     ]
    },
    {
     "name": "stdout",
     "output_type": "stream",
     "text": [
      "30/30 [==============================] - 9s 297ms/step - loss: 0.2435 - accuracy: 0.8924\n",
      "Epoch 16/20\n",
      "30/30 [==============================] - ETA: 0s - loss: 0.2403 - accuracy: 0.8950\n",
      "Epoch 16: accuracy improved from 0.89238 to 0.89500, saving model to best_model2.pkl\n"
     ]
    },
    {
     "name": "stderr",
     "output_type": "stream",
     "text": [
      "WARNING:absl:Found untraced functions such as lstm_cell_2_layer_call_fn, lstm_cell_2_layer_call_and_return_conditional_losses while saving (showing 2 of 2). These functions will not be directly callable after loading.\n"
     ]
    },
    {
     "name": "stdout",
     "output_type": "stream",
     "text": [
      "INFO:tensorflow:Assets written to: best_model2.pkl\\assets\n"
     ]
    },
    {
     "name": "stderr",
     "output_type": "stream",
     "text": [
      "INFO:tensorflow:Assets written to: best_model2.pkl\\assets\n"
     ]
    },
    {
     "name": "stdout",
     "output_type": "stream",
     "text": [
      "30/30 [==============================] - 9s 314ms/step - loss: 0.2403 - accuracy: 0.8950\n",
      "Epoch 17/20\n",
      "30/30 [==============================] - ETA: 0s - loss: 0.2276 - accuracy: 0.9072\n",
      "Epoch 17: accuracy improved from 0.89500 to 0.90717, saving model to best_model2.pkl\n"
     ]
    },
    {
     "name": "stderr",
     "output_type": "stream",
     "text": [
      "WARNING:absl:Found untraced functions such as lstm_cell_2_layer_call_fn, lstm_cell_2_layer_call_and_return_conditional_losses while saving (showing 2 of 2). These functions will not be directly callable after loading.\n"
     ]
    },
    {
     "name": "stdout",
     "output_type": "stream",
     "text": [
      "INFO:tensorflow:Assets written to: best_model2.pkl\\assets\n"
     ]
    },
    {
     "name": "stderr",
     "output_type": "stream",
     "text": [
      "INFO:tensorflow:Assets written to: best_model2.pkl\\assets\n"
     ]
    },
    {
     "name": "stdout",
     "output_type": "stream",
     "text": [
      "30/30 [==============================] - 9s 306ms/step - loss: 0.2276 - accuracy: 0.9072\n",
      "Epoch 18/20\n",
      "30/30 [==============================] - ETA: 0s - loss: 0.2180 - accuracy: 0.9099\n",
      "Epoch 18: accuracy improved from 0.90717 to 0.90992, saving model to best_model2.pkl\n"
     ]
    },
    {
     "name": "stderr",
     "output_type": "stream",
     "text": [
      "WARNING:absl:Found untraced functions such as lstm_cell_2_layer_call_fn, lstm_cell_2_layer_call_and_return_conditional_losses while saving (showing 2 of 2). These functions will not be directly callable after loading.\n"
     ]
    },
    {
     "name": "stdout",
     "output_type": "stream",
     "text": [
      "INFO:tensorflow:Assets written to: best_model2.pkl\\assets\n"
     ]
    },
    {
     "name": "stderr",
     "output_type": "stream",
     "text": [
      "INFO:tensorflow:Assets written to: best_model2.pkl\\assets\n"
     ]
    },
    {
     "name": "stdout",
     "output_type": "stream",
     "text": [
      "30/30 [==============================] - 9s 305ms/step - loss: 0.2180 - accuracy: 0.9099\n",
      "Epoch 19/20\n",
      "30/30 [==============================] - ETA: 0s - loss: 0.2107 - accuracy: 0.9121\n",
      "Epoch 19: accuracy improved from 0.90992 to 0.91215, saving model to best_model2.pkl\n"
     ]
    },
    {
     "name": "stderr",
     "output_type": "stream",
     "text": [
      "WARNING:absl:Found untraced functions such as lstm_cell_2_layer_call_fn, lstm_cell_2_layer_call_and_return_conditional_losses while saving (showing 2 of 2). These functions will not be directly callable after loading.\n"
     ]
    },
    {
     "name": "stdout",
     "output_type": "stream",
     "text": [
      "INFO:tensorflow:Assets written to: best_model2.pkl\\assets\n"
     ]
    },
    {
     "name": "stderr",
     "output_type": "stream",
     "text": [
      "INFO:tensorflow:Assets written to: best_model2.pkl\\assets\n"
     ]
    },
    {
     "name": "stdout",
     "output_type": "stream",
     "text": [
      "30/30 [==============================] - 10s 327ms/step - loss: 0.2107 - accuracy: 0.9121\n",
      "Epoch 20/20\n",
      "30/30 [==============================] - ETA: 0s - loss: 0.1996 - accuracy: 0.9180\n",
      "Epoch 20: accuracy improved from 0.91215 to 0.91804, saving model to best_model2.pkl\n"
     ]
    },
    {
     "name": "stderr",
     "output_type": "stream",
     "text": [
      "WARNING:absl:Found untraced functions such as lstm_cell_2_layer_call_fn, lstm_cell_2_layer_call_and_return_conditional_losses while saving (showing 2 of 2). These functions will not be directly callable after loading.\n"
     ]
    },
    {
     "name": "stdout",
     "output_type": "stream",
     "text": [
      "INFO:tensorflow:Assets written to: best_model2.pkl\\assets\n"
     ]
    },
    {
     "name": "stderr",
     "output_type": "stream",
     "text": [
      "INFO:tensorflow:Assets written to: best_model2.pkl\\assets\n"
     ]
    },
    {
     "name": "stdout",
     "output_type": "stream",
     "text": [
      "30/30 [==============================] - 9s 307ms/step - loss: 0.1996 - accuracy: 0.9180\n",
      "27/27 [==============================] - 1s 20ms/step\n",
      "Epoch 1/20\n",
      "30/30 [==============================] - ETA: 0s - loss: 0.6075 - accuracy: 0.6808\n",
      "Epoch 1: accuracy improved from -inf to 0.68081, saving model to best_model3.pkl\n"
     ]
    },
    {
     "name": "stderr",
     "output_type": "stream",
     "text": [
      "WARNING:absl:Found untraced functions such as lstm_cell_4_layer_call_fn, lstm_cell_4_layer_call_and_return_conditional_losses while saving (showing 2 of 2). These functions will not be directly callable after loading.\n"
     ]
    },
    {
     "name": "stdout",
     "output_type": "stream",
     "text": [
      "INFO:tensorflow:Assets written to: best_model3.pkl\\assets\n"
     ]
    },
    {
     "name": "stderr",
     "output_type": "stream",
     "text": [
      "INFO:tensorflow:Assets written to: best_model3.pkl\\assets\n"
     ]
    },
    {
     "name": "stdout",
     "output_type": "stream",
     "text": [
      "30/30 [==============================] - 11s 306ms/step - loss: 0.6075 - accuracy: 0.6808\n",
      "Epoch 2/20\n",
      "30/30 [==============================] - ETA: 0s - loss: 0.5135 - accuracy: 0.7532\n",
      "Epoch 2: accuracy improved from 0.68081 to 0.75321, saving model to best_model3.pkl\n"
     ]
    },
    {
     "name": "stderr",
     "output_type": "stream",
     "text": [
      "WARNING:absl:Found untraced functions such as lstm_cell_4_layer_call_fn, lstm_cell_4_layer_call_and_return_conditional_losses while saving (showing 2 of 2). These functions will not be directly callable after loading.\n"
     ]
    },
    {
     "name": "stdout",
     "output_type": "stream",
     "text": [
      "INFO:tensorflow:Assets written to: best_model3.pkl\\assets\n"
     ]
    },
    {
     "name": "stderr",
     "output_type": "stream",
     "text": [
      "INFO:tensorflow:Assets written to: best_model3.pkl\\assets\n"
     ]
    },
    {
     "name": "stdout",
     "output_type": "stream",
     "text": [
      "30/30 [==============================] - 14s 485ms/step - loss: 0.5135 - accuracy: 0.7532\n",
      "Epoch 3/20\n",
      "30/30 [==============================] - ETA: 0s - loss: 0.4444 - accuracy: 0.7841\n",
      "Epoch 3: accuracy improved from 0.75321 to 0.78411, saving model to best_model3.pkl\n"
     ]
    },
    {
     "name": "stderr",
     "output_type": "stream",
     "text": [
      "WARNING:absl:Found untraced functions such as lstm_cell_4_layer_call_fn, lstm_cell_4_layer_call_and_return_conditional_losses while saving (showing 2 of 2). These functions will not be directly callable after loading.\n"
     ]
    },
    {
     "name": "stdout",
     "output_type": "stream",
     "text": [
      "INFO:tensorflow:Assets written to: best_model3.pkl\\assets\n"
     ]
    },
    {
     "name": "stderr",
     "output_type": "stream",
     "text": [
      "INFO:tensorflow:Assets written to: best_model3.pkl\\assets\n"
     ]
    },
    {
     "name": "stdout",
     "output_type": "stream",
     "text": [
      "30/30 [==============================] - 9s 319ms/step - loss: 0.4444 - accuracy: 0.7841\n",
      "Epoch 4/20\n",
      "30/30 [==============================] - ETA: 0s - loss: 0.3924 - accuracy: 0.8155\n",
      "Epoch 4: accuracy improved from 0.78411 to 0.81553, saving model to best_model3.pkl\n"
     ]
    },
    {
     "name": "stderr",
     "output_type": "stream",
     "text": [
      "WARNING:absl:Found untraced functions such as lstm_cell_4_layer_call_fn, lstm_cell_4_layer_call_and_return_conditional_losses while saving (showing 2 of 2). These functions will not be directly callable after loading.\n"
     ]
    },
    {
     "name": "stdout",
     "output_type": "stream",
     "text": [
      "INFO:tensorflow:Assets written to: best_model3.pkl\\assets\n"
     ]
    },
    {
     "name": "stderr",
     "output_type": "stream",
     "text": [
      "INFO:tensorflow:Assets written to: best_model3.pkl\\assets\n"
     ]
    },
    {
     "name": "stdout",
     "output_type": "stream",
     "text": [
      "30/30 [==============================] - 9s 307ms/step - loss: 0.3924 - accuracy: 0.8155\n",
      "Epoch 5/20\n",
      "30/30 [==============================] - ETA: 0s - loss: 0.3764 - accuracy: 0.8223\n",
      "Epoch 5: accuracy improved from 0.81553 to 0.82234, saving model to best_model3.pkl\n"
     ]
    },
    {
     "name": "stderr",
     "output_type": "stream",
     "text": [
      "WARNING:absl:Found untraced functions such as lstm_cell_4_layer_call_fn, lstm_cell_4_layer_call_and_return_conditional_losses while saving (showing 2 of 2). These functions will not be directly callable after loading.\n"
     ]
    },
    {
     "name": "stdout",
     "output_type": "stream",
     "text": [
      "INFO:tensorflow:Assets written to: best_model3.pkl\\assets\n"
     ]
    },
    {
     "name": "stderr",
     "output_type": "stream",
     "text": [
      "INFO:tensorflow:Assets written to: best_model3.pkl\\assets\n"
     ]
    },
    {
     "name": "stdout",
     "output_type": "stream",
     "text": [
      "30/30 [==============================] - 9s 318ms/step - loss: 0.3764 - accuracy: 0.8223\n",
      "Epoch 6/20\n",
      "30/30 [==============================] - ETA: 0s - loss: 0.3525 - accuracy: 0.8397\n",
      "Epoch 6: accuracy improved from 0.82234 to 0.83975, saving model to best_model3.pkl\n"
     ]
    },
    {
     "name": "stderr",
     "output_type": "stream",
     "text": [
      "WARNING:absl:Found untraced functions such as lstm_cell_4_layer_call_fn, lstm_cell_4_layer_call_and_return_conditional_losses while saving (showing 2 of 2). These functions will not be directly callable after loading.\n"
     ]
    },
    {
     "name": "stdout",
     "output_type": "stream",
     "text": [
      "INFO:tensorflow:Assets written to: best_model3.pkl\\assets\n"
     ]
    },
    {
     "name": "stderr",
     "output_type": "stream",
     "text": [
      "INFO:tensorflow:Assets written to: best_model3.pkl\\assets\n"
     ]
    },
    {
     "name": "stdout",
     "output_type": "stream",
     "text": [
      "30/30 [==============================] - 9s 304ms/step - loss: 0.3525 - accuracy: 0.8397\n",
      "Epoch 7/20\n",
      "30/30 [==============================] - ETA: 0s - loss: 0.3430 - accuracy: 0.8452\n",
      "Epoch 7: accuracy improved from 0.83975 to 0.84525, saving model to best_model3.pkl\n"
     ]
    },
    {
     "name": "stderr",
     "output_type": "stream",
     "text": [
      "WARNING:absl:Found untraced functions such as lstm_cell_4_layer_call_fn, lstm_cell_4_layer_call_and_return_conditional_losses while saving (showing 2 of 2). These functions will not be directly callable after loading.\n"
     ]
    },
    {
     "name": "stdout",
     "output_type": "stream",
     "text": [
      "INFO:tensorflow:Assets written to: best_model3.pkl\\assets\n"
     ]
    },
    {
     "name": "stderr",
     "output_type": "stream",
     "text": [
      "INFO:tensorflow:Assets written to: best_model3.pkl\\assets\n"
     ]
    },
    {
     "name": "stdout",
     "output_type": "stream",
     "text": [
      "30/30 [==============================] - 9s 319ms/step - loss: 0.3430 - accuracy: 0.8452\n",
      "Epoch 8/20\n",
      "30/30 [==============================] - ETA: 0s - loss: 0.3354 - accuracy: 0.8405\n",
      "Epoch 8: accuracy did not improve from 0.84525\n",
      "30/30 [==============================] - 4s 144ms/step - loss: 0.3354 - accuracy: 0.8405\n",
      "Epoch 9/20\n",
      "30/30 [==============================] - ETA: 0s - loss: 0.3164 - accuracy: 0.8524\n",
      "Epoch 9: accuracy improved from 0.84525 to 0.85245, saving model to best_model3.pkl\n"
     ]
    },
    {
     "name": "stderr",
     "output_type": "stream",
     "text": [
      "WARNING:absl:Found untraced functions such as lstm_cell_4_layer_call_fn, lstm_cell_4_layer_call_and_return_conditional_losses while saving (showing 2 of 2). These functions will not be directly callable after loading.\n"
     ]
    },
    {
     "name": "stdout",
     "output_type": "stream",
     "text": [
      "INFO:tensorflow:Assets written to: best_model3.pkl\\assets\n"
     ]
    },
    {
     "name": "stderr",
     "output_type": "stream",
     "text": [
      "INFO:tensorflow:Assets written to: best_model3.pkl\\assets\n"
     ]
    },
    {
     "name": "stdout",
     "output_type": "stream",
     "text": [
      "30/30 [==============================] - 9s 309ms/step - loss: 0.3164 - accuracy: 0.8524\n",
      "Epoch 10/20\n",
      "30/30 [==============================] - ETA: 0s - loss: 0.3014 - accuracy: 0.8611\n",
      "Epoch 10: accuracy improved from 0.85245 to 0.86109, saving model to best_model3.pkl\n"
     ]
    },
    {
     "name": "stderr",
     "output_type": "stream",
     "text": [
      "WARNING:absl:Found untraced functions such as lstm_cell_4_layer_call_fn, lstm_cell_4_layer_call_and_return_conditional_losses while saving (showing 2 of 2). These functions will not be directly callable after loading.\n"
     ]
    },
    {
     "name": "stdout",
     "output_type": "stream",
     "text": [
      "INFO:tensorflow:Assets written to: best_model3.pkl\\assets\n"
     ]
    },
    {
     "name": "stderr",
     "output_type": "stream",
     "text": [
      "INFO:tensorflow:Assets written to: best_model3.pkl\\assets\n"
     ]
    },
    {
     "name": "stdout",
     "output_type": "stream",
     "text": [
      "30/30 [==============================] - 10s 328ms/step - loss: 0.3014 - accuracy: 0.8611\n",
      "Epoch 11/20\n",
      "30/30 [==============================] - ETA: 0s - loss: 0.2926 - accuracy: 0.8614\n",
      "Epoch 11: accuracy improved from 0.86109 to 0.86135, saving model to best_model3.pkl\n"
     ]
    },
    {
     "name": "stderr",
     "output_type": "stream",
     "text": [
      "WARNING:absl:Found untraced functions such as lstm_cell_4_layer_call_fn, lstm_cell_4_layer_call_and_return_conditional_losses while saving (showing 2 of 2). These functions will not be directly callable after loading.\n"
     ]
    },
    {
     "name": "stdout",
     "output_type": "stream",
     "text": [
      "INFO:tensorflow:Assets written to: best_model3.pkl\\assets\n"
     ]
    },
    {
     "name": "stderr",
     "output_type": "stream",
     "text": [
      "INFO:tensorflow:Assets written to: best_model3.pkl\\assets\n"
     ]
    },
    {
     "name": "stdout",
     "output_type": "stream",
     "text": [
      "30/30 [==============================] - 9s 312ms/step - loss: 0.2926 - accuracy: 0.8614\n",
      "Epoch 12/20\n",
      "30/30 [==============================] - ETA: 0s - loss: 0.2784 - accuracy: 0.8744\n",
      "Epoch 12: accuracy improved from 0.86135 to 0.87444, saving model to best_model3.pkl\n"
     ]
    },
    {
     "name": "stderr",
     "output_type": "stream",
     "text": [
      "WARNING:absl:Found untraced functions such as lstm_cell_4_layer_call_fn, lstm_cell_4_layer_call_and_return_conditional_losses while saving (showing 2 of 2). These functions will not be directly callable after loading.\n"
     ]
    },
    {
     "name": "stdout",
     "output_type": "stream",
     "text": [
      "INFO:tensorflow:Assets written to: best_model3.pkl\\assets\n"
     ]
    },
    {
     "name": "stderr",
     "output_type": "stream",
     "text": [
      "INFO:tensorflow:Assets written to: best_model3.pkl\\assets\n"
     ]
    },
    {
     "name": "stdout",
     "output_type": "stream",
     "text": [
      "30/30 [==============================] - 9s 319ms/step - loss: 0.2784 - accuracy: 0.8744\n",
      "Epoch 13/20\n",
      "30/30 [==============================] - ETA: 0s - loss: 0.2615 - accuracy: 0.8802\n",
      "Epoch 13: accuracy improved from 0.87444 to 0.88020, saving model to best_model3.pkl\n"
     ]
    },
    {
     "name": "stderr",
     "output_type": "stream",
     "text": [
      "WARNING:absl:Found untraced functions such as lstm_cell_4_layer_call_fn, lstm_cell_4_layer_call_and_return_conditional_losses while saving (showing 2 of 2). These functions will not be directly callable after loading.\n"
     ]
    },
    {
     "name": "stdout",
     "output_type": "stream",
     "text": [
      "INFO:tensorflow:Assets written to: best_model3.pkl\\assets\n"
     ]
    },
    {
     "name": "stderr",
     "output_type": "stream",
     "text": [
      "INFO:tensorflow:Assets written to: best_model3.pkl\\assets\n"
     ]
    },
    {
     "name": "stdout",
     "output_type": "stream",
     "text": [
      "30/30 [==============================] - 9s 318ms/step - loss: 0.2615 - accuracy: 0.8802\n",
      "Epoch 14/20\n",
      "30/30 [==============================] - ETA: 0s - loss: 0.2633 - accuracy: 0.8815\n",
      "Epoch 14: accuracy improved from 0.88020 to 0.88151, saving model to best_model3.pkl\n"
     ]
    },
    {
     "name": "stderr",
     "output_type": "stream",
     "text": [
      "WARNING:absl:Found untraced functions such as lstm_cell_4_layer_call_fn, lstm_cell_4_layer_call_and_return_conditional_losses while saving (showing 2 of 2). These functions will not be directly callable after loading.\n"
     ]
    },
    {
     "name": "stdout",
     "output_type": "stream",
     "text": [
      "INFO:tensorflow:Assets written to: best_model3.pkl\\assets\n"
     ]
    },
    {
     "name": "stderr",
     "output_type": "stream",
     "text": [
      "INFO:tensorflow:Assets written to: best_model3.pkl\\assets\n"
     ]
    },
    {
     "name": "stdout",
     "output_type": "stream",
     "text": [
      "30/30 [==============================] - 9s 322ms/step - loss: 0.2633 - accuracy: 0.8815\n",
      "Epoch 15/20\n",
      "30/30 [==============================] - ETA: 0s - loss: 0.2498 - accuracy: 0.8895\n",
      "Epoch 15: accuracy improved from 0.88151 to 0.88950, saving model to best_model3.pkl\n"
     ]
    },
    {
     "name": "stderr",
     "output_type": "stream",
     "text": [
      "WARNING:absl:Found untraced functions such as lstm_cell_4_layer_call_fn, lstm_cell_4_layer_call_and_return_conditional_losses while saving (showing 2 of 2). These functions will not be directly callable after loading.\n"
     ]
    },
    {
     "name": "stdout",
     "output_type": "stream",
     "text": [
      "INFO:tensorflow:Assets written to: best_model3.pkl\\assets\n"
     ]
    },
    {
     "name": "stderr",
     "output_type": "stream",
     "text": [
      "INFO:tensorflow:Assets written to: best_model3.pkl\\assets\n"
     ]
    },
    {
     "name": "stdout",
     "output_type": "stream",
     "text": [
      "30/30 [==============================] - 9s 316ms/step - loss: 0.2498 - accuracy: 0.8895\n",
      "Epoch 16/20\n",
      "30/30 [==============================] - ETA: 0s - loss: 0.2511 - accuracy: 0.8924\n",
      "Epoch 16: accuracy improved from 0.88950 to 0.89238, saving model to best_model3.pkl\n"
     ]
    },
    {
     "name": "stderr",
     "output_type": "stream",
     "text": [
      "WARNING:absl:Found untraced functions such as lstm_cell_4_layer_call_fn, lstm_cell_4_layer_call_and_return_conditional_losses while saving (showing 2 of 2). These functions will not be directly callable after loading.\n"
     ]
    },
    {
     "name": "stdout",
     "output_type": "stream",
     "text": [
      "INFO:tensorflow:Assets written to: best_model3.pkl\\assets\n"
     ]
    },
    {
     "name": "stderr",
     "output_type": "stream",
     "text": [
      "INFO:tensorflow:Assets written to: best_model3.pkl\\assets\n"
     ]
    },
    {
     "name": "stdout",
     "output_type": "stream",
     "text": [
      "30/30 [==============================] - 9s 302ms/step - loss: 0.2511 - accuracy: 0.8924\n",
      "Epoch 17/20\n",
      "30/30 [==============================] - ETA: 0s - loss: 0.2352 - accuracy: 0.8949\n",
      "Epoch 17: accuracy improved from 0.89238 to 0.89487, saving model to best_model3.pkl\n"
     ]
    },
    {
     "name": "stderr",
     "output_type": "stream",
     "text": [
      "WARNING:absl:Found untraced functions such as lstm_cell_4_layer_call_fn, lstm_cell_4_layer_call_and_return_conditional_losses while saving (showing 2 of 2). These functions will not be directly callable after loading.\n"
     ]
    },
    {
     "name": "stdout",
     "output_type": "stream",
     "text": [
      "INFO:tensorflow:Assets written to: best_model3.pkl\\assets\n"
     ]
    },
    {
     "name": "stderr",
     "output_type": "stream",
     "text": [
      "INFO:tensorflow:Assets written to: best_model3.pkl\\assets\n"
     ]
    },
    {
     "name": "stdout",
     "output_type": "stream",
     "text": [
      "30/30 [==============================] - 9s 322ms/step - loss: 0.2352 - accuracy: 0.8949\n",
      "Epoch 18/20\n",
      "30/30 [==============================] - ETA: 0s - loss: 0.2335 - accuracy: 0.8953\n",
      "Epoch 18: accuracy improved from 0.89487 to 0.89526, saving model to best_model3.pkl\n"
     ]
    },
    {
     "name": "stderr",
     "output_type": "stream",
     "text": [
      "WARNING:absl:Found untraced functions such as lstm_cell_4_layer_call_fn, lstm_cell_4_layer_call_and_return_conditional_losses while saving (showing 2 of 2). These functions will not be directly callable after loading.\n"
     ]
    },
    {
     "name": "stdout",
     "output_type": "stream",
     "text": [
      "INFO:tensorflow:Assets written to: best_model3.pkl\\assets\n"
     ]
    },
    {
     "name": "stderr",
     "output_type": "stream",
     "text": [
      "INFO:tensorflow:Assets written to: best_model3.pkl\\assets\n"
     ]
    },
    {
     "name": "stdout",
     "output_type": "stream",
     "text": [
      "30/30 [==============================] - 9s 309ms/step - loss: 0.2335 - accuracy: 0.8953\n",
      "Epoch 19/20\n",
      "30/30 [==============================] - ETA: 0s - loss: 0.2232 - accuracy: 0.9060\n",
      "Epoch 19: accuracy improved from 0.89526 to 0.90600, saving model to best_model3.pkl\n"
     ]
    },
    {
     "name": "stderr",
     "output_type": "stream",
     "text": [
      "WARNING:absl:Found untraced functions such as lstm_cell_4_layer_call_fn, lstm_cell_4_layer_call_and_return_conditional_losses while saving (showing 2 of 2). These functions will not be directly callable after loading.\n"
     ]
    },
    {
     "name": "stdout",
     "output_type": "stream",
     "text": [
      "INFO:tensorflow:Assets written to: best_model3.pkl\\assets\n"
     ]
    },
    {
     "name": "stderr",
     "output_type": "stream",
     "text": [
      "INFO:tensorflow:Assets written to: best_model3.pkl\\assets\n"
     ]
    },
    {
     "name": "stdout",
     "output_type": "stream",
     "text": [
      "30/30 [==============================] - 9s 322ms/step - loss: 0.2232 - accuracy: 0.9060\n",
      "Epoch 20/20\n",
      "30/30 [==============================] - ETA: 0s - loss: 0.2127 - accuracy: 0.9076\n",
      "Epoch 20: accuracy improved from 0.90600 to 0.90757, saving model to best_model3.pkl\n"
     ]
    },
    {
     "name": "stderr",
     "output_type": "stream",
     "text": [
      "WARNING:absl:Found untraced functions such as lstm_cell_4_layer_call_fn, lstm_cell_4_layer_call_and_return_conditional_losses while saving (showing 2 of 2). These functions will not be directly callable after loading.\n"
     ]
    },
    {
     "name": "stdout",
     "output_type": "stream",
     "text": [
      "INFO:tensorflow:Assets written to: best_model3.pkl\\assets\n"
     ]
    },
    {
     "name": "stderr",
     "output_type": "stream",
     "text": [
      "INFO:tensorflow:Assets written to: best_model3.pkl\\assets\n"
     ]
    },
    {
     "name": "stdout",
     "output_type": "stream",
     "text": [
      "30/30 [==============================] - 9s 311ms/step - loss: 0.2127 - accuracy: 0.9076\n",
      "27/27 [==============================] - 1s 22ms/step\n",
      "Epoch 1/20\n",
      "30/30 [==============================] - ETA: 0s - loss: 0.5809 - accuracy: 0.7129\n",
      "Epoch 1: accuracy improved from -inf to 0.71288, saving model to best_model4.pkl\n"
     ]
    },
    {
     "name": "stderr",
     "output_type": "stream",
     "text": [
      "WARNING:absl:Found untraced functions such as lstm_cell_6_layer_call_fn, lstm_cell_6_layer_call_and_return_conditional_losses while saving (showing 2 of 2). These functions will not be directly callable after loading.\n"
     ]
    },
    {
     "name": "stdout",
     "output_type": "stream",
     "text": [
      "INFO:tensorflow:Assets written to: best_model4.pkl\\assets\n"
     ]
    },
    {
     "name": "stderr",
     "output_type": "stream",
     "text": [
      "INFO:tensorflow:Assets written to: best_model4.pkl\\assets\n"
     ]
    },
    {
     "name": "stdout",
     "output_type": "stream",
     "text": [
      "30/30 [==============================] - 11s 304ms/step - loss: 0.5809 - accuracy: 0.7129\n",
      "Epoch 2/20\n",
      "30/30 [==============================] - ETA: 0s - loss: 0.4973 - accuracy: 0.7748\n",
      "Epoch 2: accuracy improved from 0.71288 to 0.77481, saving model to best_model4.pkl\n"
     ]
    },
    {
     "name": "stderr",
     "output_type": "stream",
     "text": [
      "WARNING:absl:Found untraced functions such as lstm_cell_6_layer_call_fn, lstm_cell_6_layer_call_and_return_conditional_losses while saving (showing 2 of 2). These functions will not be directly callable after loading.\n"
     ]
    },
    {
     "name": "stdout",
     "output_type": "stream",
     "text": [
      "INFO:tensorflow:Assets written to: best_model4.pkl\\assets\n"
     ]
    },
    {
     "name": "stderr",
     "output_type": "stream",
     "text": [
      "INFO:tensorflow:Assets written to: best_model4.pkl\\assets\n"
     ]
    },
    {
     "name": "stdout",
     "output_type": "stream",
     "text": [
      "30/30 [==============================] - 15s 501ms/step - loss: 0.4973 - accuracy: 0.7748\n",
      "Epoch 3/20\n",
      "30/30 [==============================] - ETA: 0s - loss: 0.4550 - accuracy: 0.7920\n",
      "Epoch 3: accuracy improved from 0.77481 to 0.79196, saving model to best_model4.pkl\n"
     ]
    },
    {
     "name": "stderr",
     "output_type": "stream",
     "text": [
      "WARNING:absl:Found untraced functions such as lstm_cell_6_layer_call_fn, lstm_cell_6_layer_call_and_return_conditional_losses while saving (showing 2 of 2). These functions will not be directly callable after loading.\n"
     ]
    },
    {
     "name": "stdout",
     "output_type": "stream",
     "text": [
      "INFO:tensorflow:Assets written to: best_model4.pkl\\assets\n"
     ]
    },
    {
     "name": "stderr",
     "output_type": "stream",
     "text": [
      "INFO:tensorflow:Assets written to: best_model4.pkl\\assets\n"
     ]
    },
    {
     "name": "stdout",
     "output_type": "stream",
     "text": [
      "30/30 [==============================] - 9s 311ms/step - loss: 0.4550 - accuracy: 0.7920\n",
      "Epoch 4/20\n",
      "30/30 [==============================] - ETA: 0s - loss: 0.4234 - accuracy: 0.8037\n",
      "Epoch 4: accuracy improved from 0.79196 to 0.80374, saving model to best_model4.pkl\n"
     ]
    },
    {
     "name": "stderr",
     "output_type": "stream",
     "text": [
      "WARNING:absl:Found untraced functions such as lstm_cell_6_layer_call_fn, lstm_cell_6_layer_call_and_return_conditional_losses while saving (showing 2 of 2). These functions will not be directly callable after loading.\n"
     ]
    },
    {
     "name": "stdout",
     "output_type": "stream",
     "text": [
      "INFO:tensorflow:Assets written to: best_model4.pkl\\assets\n"
     ]
    },
    {
     "name": "stderr",
     "output_type": "stream",
     "text": [
      "INFO:tensorflow:Assets written to: best_model4.pkl\\assets\n"
     ]
    },
    {
     "name": "stdout",
     "output_type": "stream",
     "text": [
      "30/30 [==============================] - 10s 330ms/step - loss: 0.4234 - accuracy: 0.8037\n",
      "Epoch 5/20\n",
      "30/30 [==============================] - ETA: 0s - loss: 0.3918 - accuracy: 0.8180\n",
      "Epoch 5: accuracy improved from 0.80374 to 0.81802, saving model to best_model4.pkl\n"
     ]
    },
    {
     "name": "stderr",
     "output_type": "stream",
     "text": [
      "WARNING:absl:Found untraced functions such as lstm_cell_6_layer_call_fn, lstm_cell_6_layer_call_and_return_conditional_losses while saving (showing 2 of 2). These functions will not be directly callable after loading.\n"
     ]
    },
    {
     "name": "stdout",
     "output_type": "stream",
     "text": [
      "INFO:tensorflow:Assets written to: best_model4.pkl\\assets\n"
     ]
    },
    {
     "name": "stderr",
     "output_type": "stream",
     "text": [
      "INFO:tensorflow:Assets written to: best_model4.pkl\\assets\n"
     ]
    },
    {
     "name": "stdout",
     "output_type": "stream",
     "text": [
      "30/30 [==============================] - 9s 312ms/step - loss: 0.3918 - accuracy: 0.8180\n",
      "Epoch 6/20\n",
      "30/30 [==============================] - ETA: 0s - loss: 0.3685 - accuracy: 0.8256\n",
      "Epoch 6: accuracy improved from 0.81802 to 0.82561, saving model to best_model4.pkl\n"
     ]
    },
    {
     "name": "stderr",
     "output_type": "stream",
     "text": [
      "WARNING:absl:Found untraced functions such as lstm_cell_6_layer_call_fn, lstm_cell_6_layer_call_and_return_conditional_losses while saving (showing 2 of 2). These functions will not be directly callable after loading.\n"
     ]
    },
    {
     "name": "stdout",
     "output_type": "stream",
     "text": [
      "INFO:tensorflow:Assets written to: best_model4.pkl\\assets\n"
     ]
    },
    {
     "name": "stderr",
     "output_type": "stream",
     "text": [
      "INFO:tensorflow:Assets written to: best_model4.pkl\\assets\n"
     ]
    },
    {
     "name": "stdout",
     "output_type": "stream",
     "text": [
      "30/30 [==============================] - 11s 379ms/step - loss: 0.3685 - accuracy: 0.8256\n",
      "Epoch 7/20\n",
      "30/30 [==============================] - ETA: 0s - loss: 0.3425 - accuracy: 0.8362\n",
      "Epoch 7: accuracy improved from 0.82561 to 0.83621, saving model to best_model4.pkl\n"
     ]
    },
    {
     "name": "stderr",
     "output_type": "stream",
     "text": [
      "WARNING:absl:Found untraced functions such as lstm_cell_6_layer_call_fn, lstm_cell_6_layer_call_and_return_conditional_losses while saving (showing 2 of 2). These functions will not be directly callable after loading.\n"
     ]
    },
    {
     "name": "stdout",
     "output_type": "stream",
     "text": [
      "INFO:tensorflow:Assets written to: best_model4.pkl\\assets\n"
     ]
    },
    {
     "name": "stderr",
     "output_type": "stream",
     "text": [
      "INFO:tensorflow:Assets written to: best_model4.pkl\\assets\n"
     ]
    },
    {
     "name": "stdout",
     "output_type": "stream",
     "text": [
      "30/30 [==============================] - 9s 314ms/step - loss: 0.3425 - accuracy: 0.8362\n",
      "Epoch 8/20\n",
      "30/30 [==============================] - ETA: 0s - loss: 0.3360 - accuracy: 0.8362\n",
      "Epoch 8: accuracy did not improve from 0.83621\n",
      "30/30 [==============================] - 4s 148ms/step - loss: 0.3360 - accuracy: 0.8362\n",
      "Epoch 9/20\n",
      "30/30 [==============================] - ETA: 0s - loss: 0.3194 - accuracy: 0.8475\n",
      "Epoch 9: accuracy improved from 0.83621 to 0.84747, saving model to best_model4.pkl\n"
     ]
    },
    {
     "name": "stderr",
     "output_type": "stream",
     "text": [
      "WARNING:absl:Found untraced functions such as lstm_cell_6_layer_call_fn, lstm_cell_6_layer_call_and_return_conditional_losses while saving (showing 2 of 2). These functions will not be directly callable after loading.\n"
     ]
    },
    {
     "name": "stdout",
     "output_type": "stream",
     "text": [
      "INFO:tensorflow:Assets written to: best_model4.pkl\\assets\n"
     ]
    },
    {
     "name": "stderr",
     "output_type": "stream",
     "text": [
      "INFO:tensorflow:Assets written to: best_model4.pkl\\assets\n"
     ]
    },
    {
     "name": "stdout",
     "output_type": "stream",
     "text": [
      "30/30 [==============================] - 9s 321ms/step - loss: 0.3194 - accuracy: 0.8475\n",
      "Epoch 10/20\n",
      "30/30 [==============================] - ETA: 0s - loss: 0.3137 - accuracy: 0.8497\n",
      "Epoch 10: accuracy improved from 0.84747 to 0.84970, saving model to best_model4.pkl\n"
     ]
    },
    {
     "name": "stderr",
     "output_type": "stream",
     "text": [
      "WARNING:absl:Found untraced functions such as lstm_cell_6_layer_call_fn, lstm_cell_6_layer_call_and_return_conditional_losses while saving (showing 2 of 2). These functions will not be directly callable after loading.\n"
     ]
    },
    {
     "name": "stdout",
     "output_type": "stream",
     "text": [
      "INFO:tensorflow:Assets written to: best_model4.pkl\\assets\n"
     ]
    },
    {
     "name": "stderr",
     "output_type": "stream",
     "text": [
      "INFO:tensorflow:Assets written to: best_model4.pkl\\assets\n"
     ]
    },
    {
     "name": "stdout",
     "output_type": "stream",
     "text": [
      "30/30 [==============================] - 9s 314ms/step - loss: 0.3137 - accuracy: 0.8497\n",
      "Epoch 11/20\n",
      "30/30 [==============================] - ETA: 0s - loss: 0.3078 - accuracy: 0.8528\n",
      "Epoch 11: accuracy improved from 0.84970 to 0.85284, saving model to best_model4.pkl\n"
     ]
    },
    {
     "name": "stderr",
     "output_type": "stream",
     "text": [
      "WARNING:absl:Found untraced functions such as lstm_cell_6_layer_call_fn, lstm_cell_6_layer_call_and_return_conditional_losses while saving (showing 2 of 2). These functions will not be directly callable after loading.\n"
     ]
    },
    {
     "name": "stdout",
     "output_type": "stream",
     "text": [
      "INFO:tensorflow:Assets written to: best_model4.pkl\\assets\n"
     ]
    },
    {
     "name": "stderr",
     "output_type": "stream",
     "text": [
      "INFO:tensorflow:Assets written to: best_model4.pkl\\assets\n"
     ]
    },
    {
     "name": "stdout",
     "output_type": "stream",
     "text": [
      "30/30 [==============================] - 11s 372ms/step - loss: 0.3078 - accuracy: 0.8528\n",
      "Epoch 12/20\n",
      "30/30 [==============================] - ETA: 0s - loss: 0.3003 - accuracy: 0.8564\n",
      "Epoch 12: accuracy improved from 0.85284 to 0.85638, saving model to best_model4.pkl\n"
     ]
    },
    {
     "name": "stderr",
     "output_type": "stream",
     "text": [
      "WARNING:absl:Found untraced functions such as lstm_cell_6_layer_call_fn, lstm_cell_6_layer_call_and_return_conditional_losses while saving (showing 2 of 2). These functions will not be directly callable after loading.\n"
     ]
    },
    {
     "name": "stdout",
     "output_type": "stream",
     "text": [
      "INFO:tensorflow:Assets written to: best_model4.pkl\\assets\n"
     ]
    },
    {
     "name": "stderr",
     "output_type": "stream",
     "text": [
      "INFO:tensorflow:Assets written to: best_model4.pkl\\assets\n"
     ]
    },
    {
     "name": "stdout",
     "output_type": "stream",
     "text": [
      "30/30 [==============================] - 10s 327ms/step - loss: 0.3003 - accuracy: 0.8564\n",
      "Epoch 13/20\n",
      "30/30 [==============================] - ETA: 0s - loss: 0.2895 - accuracy: 0.8636\n",
      "Epoch 13: accuracy improved from 0.85638 to 0.86358, saving model to best_model4.pkl\n"
     ]
    },
    {
     "name": "stderr",
     "output_type": "stream",
     "text": [
      "WARNING:absl:Found untraced functions such as lstm_cell_6_layer_call_fn, lstm_cell_6_layer_call_and_return_conditional_losses while saving (showing 2 of 2). These functions will not be directly callable after loading.\n"
     ]
    },
    {
     "name": "stdout",
     "output_type": "stream",
     "text": [
      "INFO:tensorflow:Assets written to: best_model4.pkl\\assets\n"
     ]
    },
    {
     "name": "stderr",
     "output_type": "stream",
     "text": [
      "INFO:tensorflow:Assets written to: best_model4.pkl\\assets\n"
     ]
    },
    {
     "name": "stdout",
     "output_type": "stream",
     "text": [
      "30/30 [==============================] - 10s 338ms/step - loss: 0.2895 - accuracy: 0.8636\n",
      "Epoch 14/20\n",
      "30/30 [==============================] - ETA: 0s - loss: 0.2823 - accuracy: 0.8678\n",
      "Epoch 14: accuracy improved from 0.86358 to 0.86777, saving model to best_model4.pkl\n"
     ]
    },
    {
     "name": "stderr",
     "output_type": "stream",
     "text": [
      "WARNING:absl:Found untraced functions such as lstm_cell_6_layer_call_fn, lstm_cell_6_layer_call_and_return_conditional_losses while saving (showing 2 of 2). These functions will not be directly callable after loading.\n"
     ]
    },
    {
     "name": "stdout",
     "output_type": "stream",
     "text": [
      "INFO:tensorflow:Assets written to: best_model4.pkl\\assets\n"
     ]
    },
    {
     "name": "stderr",
     "output_type": "stream",
     "text": [
      "INFO:tensorflow:Assets written to: best_model4.pkl\\assets\n"
     ]
    },
    {
     "name": "stdout",
     "output_type": "stream",
     "text": [
      "30/30 [==============================] - 10s 324ms/step - loss: 0.2823 - accuracy: 0.8678\n",
      "Epoch 15/20\n",
      "30/30 [==============================] - ETA: 0s - loss: 0.2743 - accuracy: 0.8714\n",
      "Epoch 15: accuracy improved from 0.86777 to 0.87143, saving model to best_model4.pkl\n"
     ]
    },
    {
     "name": "stderr",
     "output_type": "stream",
     "text": [
      "WARNING:absl:Found untraced functions such as lstm_cell_6_layer_call_fn, lstm_cell_6_layer_call_and_return_conditional_losses while saving (showing 2 of 2). These functions will not be directly callable after loading.\n"
     ]
    },
    {
     "name": "stdout",
     "output_type": "stream",
     "text": [
      "INFO:tensorflow:Assets written to: best_model4.pkl\\assets\n"
     ]
    },
    {
     "name": "stderr",
     "output_type": "stream",
     "text": [
      "INFO:tensorflow:Assets written to: best_model4.pkl\\assets\n"
     ]
    },
    {
     "name": "stdout",
     "output_type": "stream",
     "text": [
      "30/30 [==============================] - 9s 317ms/step - loss: 0.2743 - accuracy: 0.8714\n",
      "Epoch 16/20\n",
      "30/30 [==============================] - ETA: 0s - loss: 0.2709 - accuracy: 0.8778\n",
      "Epoch 16: accuracy improved from 0.87143 to 0.87785, saving model to best_model4.pkl\n"
     ]
    },
    {
     "name": "stderr",
     "output_type": "stream",
     "text": [
      "WARNING:absl:Found untraced functions such as lstm_cell_6_layer_call_fn, lstm_cell_6_layer_call_and_return_conditional_losses while saving (showing 2 of 2). These functions will not be directly callable after loading.\n"
     ]
    },
    {
     "name": "stdout",
     "output_type": "stream",
     "text": [
      "INFO:tensorflow:Assets written to: best_model4.pkl\\assets\n"
     ]
    },
    {
     "name": "stderr",
     "output_type": "stream",
     "text": [
      "INFO:tensorflow:Assets written to: best_model4.pkl\\assets\n"
     ]
    },
    {
     "name": "stdout",
     "output_type": "stream",
     "text": [
      "30/30 [==============================] - 10s 326ms/step - loss: 0.2709 - accuracy: 0.8778\n",
      "Epoch 17/20\n",
      "30/30 [==============================] - ETA: 0s - loss: 0.2583 - accuracy: 0.8835\n",
      "Epoch 17: accuracy improved from 0.87785 to 0.88348, saving model to best_model4.pkl\n"
     ]
    },
    {
     "name": "stderr",
     "output_type": "stream",
     "text": [
      "WARNING:absl:Found untraced functions such as lstm_cell_6_layer_call_fn, lstm_cell_6_layer_call_and_return_conditional_losses while saving (showing 2 of 2). These functions will not be directly callable after loading.\n"
     ]
    },
    {
     "name": "stdout",
     "output_type": "stream",
     "text": [
      "INFO:tensorflow:Assets written to: best_model4.pkl\\assets\n"
     ]
    },
    {
     "name": "stderr",
     "output_type": "stream",
     "text": [
      "INFO:tensorflow:Assets written to: best_model4.pkl\\assets\n"
     ]
    },
    {
     "name": "stdout",
     "output_type": "stream",
     "text": [
      "30/30 [==============================] - 9s 309ms/step - loss: 0.2583 - accuracy: 0.8835\n",
      "Epoch 18/20\n",
      "30/30 [==============================] - ETA: 0s - loss: 0.2580 - accuracy: 0.8843\n",
      "Epoch 18: accuracy improved from 0.88348 to 0.88426, saving model to best_model4.pkl\n"
     ]
    },
    {
     "name": "stderr",
     "output_type": "stream",
     "text": [
      "WARNING:absl:Found untraced functions such as lstm_cell_6_layer_call_fn, lstm_cell_6_layer_call_and_return_conditional_losses while saving (showing 2 of 2). These functions will not be directly callable after loading.\n"
     ]
    },
    {
     "name": "stdout",
     "output_type": "stream",
     "text": [
      "INFO:tensorflow:Assets written to: best_model4.pkl\\assets\n"
     ]
    },
    {
     "name": "stderr",
     "output_type": "stream",
     "text": [
      "INFO:tensorflow:Assets written to: best_model4.pkl\\assets\n"
     ]
    },
    {
     "name": "stdout",
     "output_type": "stream",
     "text": [
      "30/30 [==============================] - 9s 321ms/step - loss: 0.2580 - accuracy: 0.8843\n",
      "Epoch 19/20\n",
      "30/30 [==============================] - ETA: 0s - loss: 0.2452 - accuracy: 0.8942\n",
      "Epoch 19: accuracy improved from 0.88426 to 0.89421, saving model to best_model4.pkl\n"
     ]
    },
    {
     "name": "stderr",
     "output_type": "stream",
     "text": [
      "WARNING:absl:Found untraced functions such as lstm_cell_6_layer_call_fn, lstm_cell_6_layer_call_and_return_conditional_losses while saving (showing 2 of 2). These functions will not be directly callable after loading.\n"
     ]
    },
    {
     "name": "stdout",
     "output_type": "stream",
     "text": [
      "INFO:tensorflow:Assets written to: best_model4.pkl\\assets\n"
     ]
    },
    {
     "name": "stderr",
     "output_type": "stream",
     "text": [
      "INFO:tensorflow:Assets written to: best_model4.pkl\\assets\n"
     ]
    },
    {
     "name": "stdout",
     "output_type": "stream",
     "text": [
      "30/30 [==============================] - 10s 339ms/step - loss: 0.2452 - accuracy: 0.8942\n",
      "Epoch 20/20\n",
      "30/30 [==============================] - ETA: 0s - loss: 0.2304 - accuracy: 0.8996\n",
      "Epoch 20: accuracy improved from 0.89421 to 0.89958, saving model to best_model4.pkl\n"
     ]
    },
    {
     "name": "stderr",
     "output_type": "stream",
     "text": [
      "WARNING:absl:Found untraced functions such as lstm_cell_6_layer_call_fn, lstm_cell_6_layer_call_and_return_conditional_losses while saving (showing 2 of 2). These functions will not be directly callable after loading.\n"
     ]
    },
    {
     "name": "stdout",
     "output_type": "stream",
     "text": [
      "INFO:tensorflow:Assets written to: best_model4.pkl\\assets\n"
     ]
    },
    {
     "name": "stderr",
     "output_type": "stream",
     "text": [
      "INFO:tensorflow:Assets written to: best_model4.pkl\\assets\n"
     ]
    },
    {
     "name": "stdout",
     "output_type": "stream",
     "text": [
      "30/30 [==============================] - 9s 308ms/step - loss: 0.2304 - accuracy: 0.8996\n",
      "27/27 [==============================] - 1s 20ms/step\n",
      "Epoch 1/20\n",
      "30/30 [==============================] - ETA: 0s - loss: 0.6132 - accuracy: 0.6541\n",
      "Epoch 1: accuracy improved from -inf to 0.65410, saving model to best_model5.pkl\n"
     ]
    },
    {
     "name": "stderr",
     "output_type": "stream",
     "text": [
      "WARNING:absl:Found untraced functions such as lstm_cell_8_layer_call_fn, lstm_cell_8_layer_call_and_return_conditional_losses while saving (showing 2 of 2). These functions will not be directly callable after loading.\n"
     ]
    },
    {
     "name": "stdout",
     "output_type": "stream",
     "text": [
      "INFO:tensorflow:Assets written to: best_model5.pkl\\assets\n"
     ]
    },
    {
     "name": "stderr",
     "output_type": "stream",
     "text": [
      "INFO:tensorflow:Assets written to: best_model5.pkl\\assets\n"
     ]
    },
    {
     "name": "stdout",
     "output_type": "stream",
     "text": [
      "30/30 [==============================] - 12s 314ms/step - loss: 0.6132 - accuracy: 0.6541\n",
      "Epoch 2/20\n",
      "30/30 [==============================] - ETA: 0s - loss: 0.5411 - accuracy: 0.7299\n",
      "Epoch 2: accuracy improved from 0.65410 to 0.72990, saving model to best_model5.pkl\n"
     ]
    },
    {
     "name": "stderr",
     "output_type": "stream",
     "text": [
      "WARNING:absl:Found untraced functions such as lstm_cell_8_layer_call_fn, lstm_cell_8_layer_call_and_return_conditional_losses while saving (showing 2 of 2). These functions will not be directly callable after loading.\n"
     ]
    },
    {
     "name": "stdout",
     "output_type": "stream",
     "text": [
      "INFO:tensorflow:Assets written to: best_model5.pkl\\assets\n"
     ]
    },
    {
     "name": "stderr",
     "output_type": "stream",
     "text": [
      "INFO:tensorflow:Assets written to: best_model5.pkl\\assets\n"
     ]
    },
    {
     "name": "stdout",
     "output_type": "stream",
     "text": [
      "30/30 [==============================] - 14s 460ms/step - loss: 0.5411 - accuracy: 0.7299\n",
      "Epoch 3/20\n",
      "30/30 [==============================] - ETA: 0s - loss: 0.4762 - accuracy: 0.7715\n",
      "Epoch 3: accuracy improved from 0.72990 to 0.77154, saving model to best_model5.pkl\n"
     ]
    },
    {
     "name": "stderr",
     "output_type": "stream",
     "text": [
      "WARNING:absl:Found untraced functions such as lstm_cell_8_layer_call_fn, lstm_cell_8_layer_call_and_return_conditional_losses while saving (showing 2 of 2). These functions will not be directly callable after loading.\n"
     ]
    },
    {
     "name": "stdout",
     "output_type": "stream",
     "text": [
      "INFO:tensorflow:Assets written to: best_model5.pkl\\assets\n"
     ]
    },
    {
     "name": "stderr",
     "output_type": "stream",
     "text": [
      "INFO:tensorflow:Assets written to: best_model5.pkl\\assets\n"
     ]
    },
    {
     "name": "stdout",
     "output_type": "stream",
     "text": [
      "30/30 [==============================] - 11s 366ms/step - loss: 0.4762 - accuracy: 0.7715\n",
      "Epoch 4/20\n",
      "30/30 [==============================] - ETA: 0s - loss: 0.4203 - accuracy: 0.8049\n",
      "Epoch 4: accuracy improved from 0.77154 to 0.80492, saving model to best_model5.pkl\n"
     ]
    },
    {
     "name": "stderr",
     "output_type": "stream",
     "text": [
      "WARNING:absl:Found untraced functions such as lstm_cell_8_layer_call_fn, lstm_cell_8_layer_call_and_return_conditional_losses while saving (showing 2 of 2). These functions will not be directly callable after loading.\n"
     ]
    },
    {
     "name": "stdout",
     "output_type": "stream",
     "text": [
      "INFO:tensorflow:Assets written to: best_model5.pkl\\assets\n"
     ]
    },
    {
     "name": "stderr",
     "output_type": "stream",
     "text": [
      "INFO:tensorflow:Assets written to: best_model5.pkl\\assets\n"
     ]
    },
    {
     "name": "stdout",
     "output_type": "stream",
     "text": [
      "30/30 [==============================] - 9s 319ms/step - loss: 0.4203 - accuracy: 0.8049\n",
      "Epoch 5/20\n",
      "30/30 [==============================] - ETA: 0s - loss: 0.3968 - accuracy: 0.8162\n",
      "Epoch 5: accuracy improved from 0.80492 to 0.81618, saving model to best_model5.pkl\n"
     ]
    },
    {
     "name": "stderr",
     "output_type": "stream",
     "text": [
      "WARNING:absl:Found untraced functions such as lstm_cell_8_layer_call_fn, lstm_cell_8_layer_call_and_return_conditional_losses while saving (showing 2 of 2). These functions will not be directly callable after loading.\n"
     ]
    },
    {
     "name": "stdout",
     "output_type": "stream",
     "text": [
      "INFO:tensorflow:Assets written to: best_model5.pkl\\assets\n"
     ]
    },
    {
     "name": "stderr",
     "output_type": "stream",
     "text": [
      "INFO:tensorflow:Assets written to: best_model5.pkl\\assets\n"
     ]
    },
    {
     "name": "stdout",
     "output_type": "stream",
     "text": [
      "30/30 [==============================] - 10s 322ms/step - loss: 0.3968 - accuracy: 0.8162\n",
      "Epoch 6/20\n",
      "30/30 [==============================] - ETA: 0s - loss: 0.3798 - accuracy: 0.8223\n",
      "Epoch 6: accuracy improved from 0.81618 to 0.82234, saving model to best_model5.pkl\n"
     ]
    },
    {
     "name": "stderr",
     "output_type": "stream",
     "text": [
      "WARNING:absl:Found untraced functions such as lstm_cell_8_layer_call_fn, lstm_cell_8_layer_call_and_return_conditional_losses while saving (showing 2 of 2). These functions will not be directly callable after loading.\n"
     ]
    },
    {
     "name": "stdout",
     "output_type": "stream",
     "text": [
      "INFO:tensorflow:Assets written to: best_model5.pkl\\assets\n"
     ]
    },
    {
     "name": "stderr",
     "output_type": "stream",
     "text": [
      "INFO:tensorflow:Assets written to: best_model5.pkl\\assets\n"
     ]
    },
    {
     "name": "stdout",
     "output_type": "stream",
     "text": [
      "30/30 [==============================] - 9s 309ms/step - loss: 0.3798 - accuracy: 0.8223\n",
      "Epoch 7/20\n",
      "30/30 [==============================] - ETA: 0s - loss: 0.3778 - accuracy: 0.8246\n",
      "Epoch 7: accuracy improved from 0.82234 to 0.82456, saving model to best_model5.pkl\n"
     ]
    },
    {
     "name": "stderr",
     "output_type": "stream",
     "text": [
      "WARNING:absl:Found untraced functions such as lstm_cell_8_layer_call_fn, lstm_cell_8_layer_call_and_return_conditional_losses while saving (showing 2 of 2). These functions will not be directly callable after loading.\n"
     ]
    },
    {
     "name": "stdout",
     "output_type": "stream",
     "text": [
      "INFO:tensorflow:Assets written to: best_model5.pkl\\assets\n"
     ]
    },
    {
     "name": "stderr",
     "output_type": "stream",
     "text": [
      "INFO:tensorflow:Assets written to: best_model5.pkl\\assets\n"
     ]
    },
    {
     "name": "stdout",
     "output_type": "stream",
     "text": [
      "30/30 [==============================] - 10s 326ms/step - loss: 0.3778 - accuracy: 0.8246\n",
      "Epoch 8/20\n",
      "30/30 [==============================] - ETA: 0s - loss: 0.3600 - accuracy: 0.8319\n",
      "Epoch 8: accuracy improved from 0.82456 to 0.83189, saving model to best_model5.pkl\n"
     ]
    },
    {
     "name": "stderr",
     "output_type": "stream",
     "text": [
      "WARNING:absl:Found untraced functions such as lstm_cell_8_layer_call_fn, lstm_cell_8_layer_call_and_return_conditional_losses while saving (showing 2 of 2). These functions will not be directly callable after loading.\n"
     ]
    },
    {
     "name": "stdout",
     "output_type": "stream",
     "text": [
      "INFO:tensorflow:Assets written to: best_model5.pkl\\assets\n"
     ]
    },
    {
     "name": "stderr",
     "output_type": "stream",
     "text": [
      "INFO:tensorflow:Assets written to: best_model5.pkl\\assets\n"
     ]
    },
    {
     "name": "stdout",
     "output_type": "stream",
     "text": [
      "30/30 [==============================] - 9s 309ms/step - loss: 0.3600 - accuracy: 0.8319\n",
      "Epoch 9/20\n",
      "30/30 [==============================] - ETA: 0s - loss: 0.3422 - accuracy: 0.8375\n",
      "Epoch 9: accuracy improved from 0.83189 to 0.83752, saving model to best_model5.pkl\n"
     ]
    },
    {
     "name": "stderr",
     "output_type": "stream",
     "text": [
      "WARNING:absl:Found untraced functions such as lstm_cell_8_layer_call_fn, lstm_cell_8_layer_call_and_return_conditional_losses while saving (showing 2 of 2). These functions will not be directly callable after loading.\n"
     ]
    },
    {
     "name": "stdout",
     "output_type": "stream",
     "text": [
      "INFO:tensorflow:Assets written to: best_model5.pkl\\assets\n"
     ]
    },
    {
     "name": "stderr",
     "output_type": "stream",
     "text": [
      "INFO:tensorflow:Assets written to: best_model5.pkl\\assets\n"
     ]
    },
    {
     "name": "stdout",
     "output_type": "stream",
     "text": [
      "30/30 [==============================] - 9s 320ms/step - loss: 0.3422 - accuracy: 0.8375\n",
      "Epoch 10/20\n",
      "30/30 [==============================] - ETA: 0s - loss: 0.3452 - accuracy: 0.8435\n",
      "Epoch 10: accuracy improved from 0.83752 to 0.84355, saving model to best_model5.pkl\n"
     ]
    },
    {
     "name": "stderr",
     "output_type": "stream",
     "text": [
      "WARNING:absl:Found untraced functions such as lstm_cell_8_layer_call_fn, lstm_cell_8_layer_call_and_return_conditional_losses while saving (showing 2 of 2). These functions will not be directly callable after loading.\n"
     ]
    },
    {
     "name": "stdout",
     "output_type": "stream",
     "text": [
      "INFO:tensorflow:Assets written to: best_model5.pkl\\assets\n"
     ]
    },
    {
     "name": "stderr",
     "output_type": "stream",
     "text": [
      "INFO:tensorflow:Assets written to: best_model5.pkl\\assets\n"
     ]
    },
    {
     "name": "stdout",
     "output_type": "stream",
     "text": [
      "30/30 [==============================] - 9s 308ms/step - loss: 0.3452 - accuracy: 0.8435\n",
      "Epoch 11/20\n",
      "30/30 [==============================] - ETA: 0s - loss: 0.3207 - accuracy: 0.8490\n",
      "Epoch 11: accuracy improved from 0.84355 to 0.84904, saving model to best_model5.pkl\n"
     ]
    },
    {
     "name": "stderr",
     "output_type": "stream",
     "text": [
      "WARNING:absl:Found untraced functions such as lstm_cell_8_layer_call_fn, lstm_cell_8_layer_call_and_return_conditional_losses while saving (showing 2 of 2). These functions will not be directly callable after loading.\n"
     ]
    },
    {
     "name": "stdout",
     "output_type": "stream",
     "text": [
      "INFO:tensorflow:Assets written to: best_model5.pkl\\assets\n"
     ]
    },
    {
     "name": "stderr",
     "output_type": "stream",
     "text": [
      "INFO:tensorflow:Assets written to: best_model5.pkl\\assets\n"
     ]
    },
    {
     "name": "stdout",
     "output_type": "stream",
     "text": [
      "30/30 [==============================] - 10s 334ms/step - loss: 0.3207 - accuracy: 0.8490\n",
      "Epoch 12/20\n",
      "30/30 [==============================] - ETA: 0s - loss: 0.3151 - accuracy: 0.8510\n",
      "Epoch 12: accuracy improved from 0.84904 to 0.85101, saving model to best_model5.pkl\n"
     ]
    },
    {
     "name": "stderr",
     "output_type": "stream",
     "text": [
      "WARNING:absl:Found untraced functions such as lstm_cell_8_layer_call_fn, lstm_cell_8_layer_call_and_return_conditional_losses while saving (showing 2 of 2). These functions will not be directly callable after loading.\n"
     ]
    },
    {
     "name": "stdout",
     "output_type": "stream",
     "text": [
      "INFO:tensorflow:Assets written to: best_model5.pkl\\assets\n"
     ]
    },
    {
     "name": "stderr",
     "output_type": "stream",
     "text": [
      "INFO:tensorflow:Assets written to: best_model5.pkl\\assets\n"
     ]
    },
    {
     "name": "stdout",
     "output_type": "stream",
     "text": [
      "30/30 [==============================] - 9s 313ms/step - loss: 0.3151 - accuracy: 0.8510\n",
      "Epoch 13/20\n",
      "30/30 [==============================] - ETA: 0s - loss: 0.2993 - accuracy: 0.8623\n",
      "Epoch 13: accuracy improved from 0.85101 to 0.86227, saving model to best_model5.pkl\n"
     ]
    },
    {
     "name": "stderr",
     "output_type": "stream",
     "text": [
      "WARNING:absl:Found untraced functions such as lstm_cell_8_layer_call_fn, lstm_cell_8_layer_call_and_return_conditional_losses while saving (showing 2 of 2). These functions will not be directly callable after loading.\n"
     ]
    },
    {
     "name": "stdout",
     "output_type": "stream",
     "text": [
      "INFO:tensorflow:Assets written to: best_model5.pkl\\assets\n"
     ]
    },
    {
     "name": "stderr",
     "output_type": "stream",
     "text": [
      "INFO:tensorflow:Assets written to: best_model5.pkl\\assets\n"
     ]
    },
    {
     "name": "stdout",
     "output_type": "stream",
     "text": [
      "30/30 [==============================] - 9s 304ms/step - loss: 0.2993 - accuracy: 0.8623\n",
      "Epoch 14/20\n",
      "30/30 [==============================] - ETA: 0s - loss: 0.2940 - accuracy: 0.8686\n",
      "Epoch 14: accuracy improved from 0.86227 to 0.86855, saving model to best_model5.pkl\n"
     ]
    },
    {
     "name": "stderr",
     "output_type": "stream",
     "text": [
      "WARNING:absl:Found untraced functions such as lstm_cell_8_layer_call_fn, lstm_cell_8_layer_call_and_return_conditional_losses while saving (showing 2 of 2). These functions will not be directly callable after loading.\n"
     ]
    },
    {
     "name": "stdout",
     "output_type": "stream",
     "text": [
      "INFO:tensorflow:Assets written to: best_model5.pkl\\assets\n"
     ]
    },
    {
     "name": "stderr",
     "output_type": "stream",
     "text": [
      "INFO:tensorflow:Assets written to: best_model5.pkl\\assets\n"
     ]
    },
    {
     "name": "stdout",
     "output_type": "stream",
     "text": [
      "30/30 [==============================] - 9s 322ms/step - loss: 0.2940 - accuracy: 0.8686\n",
      "Epoch 15/20\n",
      "30/30 [==============================] - ETA: 0s - loss: 0.2767 - accuracy: 0.8710\n",
      "Epoch 15: accuracy improved from 0.86855 to 0.87104, saving model to best_model5.pkl\n"
     ]
    },
    {
     "name": "stderr",
     "output_type": "stream",
     "text": [
      "WARNING:absl:Found untraced functions such as lstm_cell_8_layer_call_fn, lstm_cell_8_layer_call_and_return_conditional_losses while saving (showing 2 of 2). These functions will not be directly callable after loading.\n"
     ]
    },
    {
     "name": "stdout",
     "output_type": "stream",
     "text": [
      "INFO:tensorflow:Assets written to: best_model5.pkl\\assets\n"
     ]
    },
    {
     "name": "stderr",
     "output_type": "stream",
     "text": [
      "INFO:tensorflow:Assets written to: best_model5.pkl\\assets\n"
     ]
    },
    {
     "name": "stdout",
     "output_type": "stream",
     "text": [
      "30/30 [==============================] - 9s 309ms/step - loss: 0.2767 - accuracy: 0.8710\n",
      "Epoch 16/20\n",
      "30/30 [==============================] - ETA: 0s - loss: 0.2748 - accuracy: 0.8772\n",
      "Epoch 16: accuracy improved from 0.87104 to 0.87719, saving model to best_model5.pkl\n"
     ]
    },
    {
     "name": "stderr",
     "output_type": "stream",
     "text": [
      "WARNING:absl:Found untraced functions such as lstm_cell_8_layer_call_fn, lstm_cell_8_layer_call_and_return_conditional_losses while saving (showing 2 of 2). These functions will not be directly callable after loading.\n"
     ]
    },
    {
     "name": "stdout",
     "output_type": "stream",
     "text": [
      "INFO:tensorflow:Assets written to: best_model5.pkl\\assets\n"
     ]
    },
    {
     "name": "stderr",
     "output_type": "stream",
     "text": [
      "INFO:tensorflow:Assets written to: best_model5.pkl\\assets\n"
     ]
    },
    {
     "name": "stdout",
     "output_type": "stream",
     "text": [
      "30/30 [==============================] - 9s 308ms/step - loss: 0.2748 - accuracy: 0.8772\n",
      "Epoch 17/20\n",
      "30/30 [==============================] - ETA: 0s - loss: 0.2613 - accuracy: 0.8835\n",
      "Epoch 17: accuracy improved from 0.87719 to 0.88348, saving model to best_model5.pkl\n"
     ]
    },
    {
     "name": "stderr",
     "output_type": "stream",
     "text": [
      "WARNING:absl:Found untraced functions such as lstm_cell_8_layer_call_fn, lstm_cell_8_layer_call_and_return_conditional_losses while saving (showing 2 of 2). These functions will not be directly callable after loading.\n"
     ]
    },
    {
     "name": "stdout",
     "output_type": "stream",
     "text": [
      "INFO:tensorflow:Assets written to: best_model5.pkl\\assets\n"
     ]
    },
    {
     "name": "stderr",
     "output_type": "stream",
     "text": [
      "INFO:tensorflow:Assets written to: best_model5.pkl\\assets\n"
     ]
    },
    {
     "name": "stdout",
     "output_type": "stream",
     "text": [
      "30/30 [==============================] - 10s 331ms/step - loss: 0.2613 - accuracy: 0.8835\n",
      "Epoch 18/20\n",
      "30/30 [==============================] - ETA: 0s - loss: 0.2606 - accuracy: 0.8814\n",
      "Epoch 18: accuracy did not improve from 0.88348\n",
      "30/30 [==============================] - 4s 137ms/step - loss: 0.2606 - accuracy: 0.8814\n",
      "Epoch 19/20\n",
      "30/30 [==============================] - ETA: 0s - loss: 0.2452 - accuracy: 0.8911\n",
      "Epoch 19: accuracy improved from 0.88348 to 0.89107, saving model to best_model5.pkl\n"
     ]
    },
    {
     "name": "stderr",
     "output_type": "stream",
     "text": [
      "WARNING:absl:Found untraced functions such as lstm_cell_8_layer_call_fn, lstm_cell_8_layer_call_and_return_conditional_losses while saving (showing 2 of 2). These functions will not be directly callable after loading.\n"
     ]
    },
    {
     "name": "stdout",
     "output_type": "stream",
     "text": [
      "INFO:tensorflow:Assets written to: best_model5.pkl\\assets\n"
     ]
    },
    {
     "name": "stderr",
     "output_type": "stream",
     "text": [
      "INFO:tensorflow:Assets written to: best_model5.pkl\\assets\n"
     ]
    },
    {
     "name": "stdout",
     "output_type": "stream",
     "text": [
      "30/30 [==============================] - 9s 306ms/step - loss: 0.2452 - accuracy: 0.8911\n",
      "Epoch 20/20\n",
      "30/30 [==============================] - ETA: 0s - loss: 0.2361 - accuracy: 0.8943\n",
      "Epoch 20: accuracy improved from 0.89107 to 0.89434, saving model to best_model5.pkl\n"
     ]
    },
    {
     "name": "stderr",
     "output_type": "stream",
     "text": [
      "WARNING:absl:Found untraced functions such as lstm_cell_8_layer_call_fn, lstm_cell_8_layer_call_and_return_conditional_losses while saving (showing 2 of 2). These functions will not be directly callable after loading.\n"
     ]
    },
    {
     "name": "stdout",
     "output_type": "stream",
     "text": [
      "INFO:tensorflow:Assets written to: best_model5.pkl\\assets\n"
     ]
    },
    {
     "name": "stderr",
     "output_type": "stream",
     "text": [
      "INFO:tensorflow:Assets written to: best_model5.pkl\\assets\n"
     ]
    },
    {
     "name": "stdout",
     "output_type": "stream",
     "text": [
      "30/30 [==============================] - 9s 303ms/step - loss: 0.2361 - accuracy: 0.8943\n",
      "27/27 [==============================] - 1s 20ms/step\n",
      "Epoch 1/20\n",
      "30/30 [==============================] - ETA: 0s - loss: 0.6029 - accuracy: 0.6884\n",
      "Epoch 1: accuracy improved from -inf to 0.68840, saving model to best_model6.pkl\n"
     ]
    },
    {
     "name": "stderr",
     "output_type": "stream",
     "text": [
      "WARNING:absl:Found untraced functions such as lstm_cell_10_layer_call_fn, lstm_cell_10_layer_call_and_return_conditional_losses while saving (showing 2 of 2). These functions will not be directly callable after loading.\n"
     ]
    },
    {
     "name": "stdout",
     "output_type": "stream",
     "text": [
      "INFO:tensorflow:Assets written to: best_model6.pkl\\assets\n"
     ]
    },
    {
     "name": "stderr",
     "output_type": "stream",
     "text": [
      "INFO:tensorflow:Assets written to: best_model6.pkl\\assets\n"
     ]
    },
    {
     "name": "stdout",
     "output_type": "stream",
     "text": [
      "30/30 [==============================] - 11s 297ms/step - loss: 0.6029 - accuracy: 0.6884\n",
      "Epoch 2/20\n",
      "30/30 [==============================] - ETA: 0s - loss: 0.5451 - accuracy: 0.7317\n",
      "Epoch 2: accuracy improved from 0.68840 to 0.73174, saving model to best_model6.pkl\n"
     ]
    },
    {
     "name": "stderr",
     "output_type": "stream",
     "text": [
      "WARNING:absl:Found untraced functions such as lstm_cell_10_layer_call_fn, lstm_cell_10_layer_call_and_return_conditional_losses while saving (showing 2 of 2). These functions will not be directly callable after loading.\n"
     ]
    },
    {
     "name": "stdout",
     "output_type": "stream",
     "text": [
      "INFO:tensorflow:Assets written to: best_model6.pkl\\assets\n"
     ]
    },
    {
     "name": "stderr",
     "output_type": "stream",
     "text": [
      "INFO:tensorflow:Assets written to: best_model6.pkl\\assets\n"
     ]
    },
    {
     "name": "stdout",
     "output_type": "stream",
     "text": [
      "30/30 [==============================] - 13s 450ms/step - loss: 0.5451 - accuracy: 0.7317\n",
      "Epoch 3/20\n",
      "30/30 [==============================] - ETA: 0s - loss: 0.4973 - accuracy: 0.7625\n",
      "Epoch 3: accuracy improved from 0.73174 to 0.76250, saving model to best_model6.pkl\n"
     ]
    },
    {
     "name": "stderr",
     "output_type": "stream",
     "text": [
      "WARNING:absl:Found untraced functions such as lstm_cell_10_layer_call_fn, lstm_cell_10_layer_call_and_return_conditional_losses while saving (showing 2 of 2). These functions will not be directly callable after loading.\n"
     ]
    },
    {
     "name": "stdout",
     "output_type": "stream",
     "text": [
      "INFO:tensorflow:Assets written to: best_model6.pkl\\assets\n"
     ]
    },
    {
     "name": "stderr",
     "output_type": "stream",
     "text": [
      "INFO:tensorflow:Assets written to: best_model6.pkl\\assets\n"
     ]
    },
    {
     "name": "stdout",
     "output_type": "stream",
     "text": [
      "30/30 [==============================] - 9s 320ms/step - loss: 0.4973 - accuracy: 0.7625\n",
      "Epoch 4/20\n",
      "30/30 [==============================] - ETA: 0s - loss: 0.4340 - accuracy: 0.7892\n",
      "Epoch 4: accuracy improved from 0.76250 to 0.78921, saving model to best_model6.pkl\n"
     ]
    },
    {
     "name": "stderr",
     "output_type": "stream",
     "text": [
      "WARNING:absl:Found untraced functions such as lstm_cell_10_layer_call_fn, lstm_cell_10_layer_call_and_return_conditional_losses while saving (showing 2 of 2). These functions will not be directly callable after loading.\n"
     ]
    },
    {
     "name": "stdout",
     "output_type": "stream",
     "text": [
      "INFO:tensorflow:Assets written to: best_model6.pkl\\assets\n"
     ]
    },
    {
     "name": "stderr",
     "output_type": "stream",
     "text": [
      "INFO:tensorflow:Assets written to: best_model6.pkl\\assets\n"
     ]
    },
    {
     "name": "stdout",
     "output_type": "stream",
     "text": [
      "30/30 [==============================] - 10s 328ms/step - loss: 0.4340 - accuracy: 0.7892\n",
      "Epoch 5/20\n",
      "30/30 [==============================] - ETA: 0s - loss: 0.3867 - accuracy: 0.8150\n",
      "Epoch 5: accuracy improved from 0.78921 to 0.81500, saving model to best_model6.pkl\n"
     ]
    },
    {
     "name": "stderr",
     "output_type": "stream",
     "text": [
      "WARNING:absl:Found untraced functions such as lstm_cell_10_layer_call_fn, lstm_cell_10_layer_call_and_return_conditional_losses while saving (showing 2 of 2). These functions will not be directly callable after loading.\n"
     ]
    },
    {
     "name": "stdout",
     "output_type": "stream",
     "text": [
      "INFO:tensorflow:Assets written to: best_model6.pkl\\assets\n"
     ]
    },
    {
     "name": "stderr",
     "output_type": "stream",
     "text": [
      "INFO:tensorflow:Assets written to: best_model6.pkl\\assets\n"
     ]
    },
    {
     "name": "stdout",
     "output_type": "stream",
     "text": [
      "30/30 [==============================] - 9s 311ms/step - loss: 0.3867 - accuracy: 0.8150\n",
      "Epoch 6/20\n",
      "30/30 [==============================] - ETA: 0s - loss: 0.3763 - accuracy: 0.8219\n",
      "Epoch 6: accuracy improved from 0.81500 to 0.82194, saving model to best_model6.pkl\n"
     ]
    },
    {
     "name": "stderr",
     "output_type": "stream",
     "text": [
      "WARNING:absl:Found untraced functions such as lstm_cell_10_layer_call_fn, lstm_cell_10_layer_call_and_return_conditional_losses while saving (showing 2 of 2). These functions will not be directly callable after loading.\n"
     ]
    },
    {
     "name": "stdout",
     "output_type": "stream",
     "text": [
      "INFO:tensorflow:Assets written to: best_model6.pkl\\assets\n"
     ]
    },
    {
     "name": "stderr",
     "output_type": "stream",
     "text": [
      "INFO:tensorflow:Assets written to: best_model6.pkl\\assets\n"
     ]
    },
    {
     "name": "stdout",
     "output_type": "stream",
     "text": [
      "30/30 [==============================] - 10s 324ms/step - loss: 0.3763 - accuracy: 0.8219\n",
      "Epoch 7/20\n",
      "30/30 [==============================] - ETA: 0s - loss: 0.3595 - accuracy: 0.8297\n",
      "Epoch 7: accuracy improved from 0.82194 to 0.82967, saving model to best_model6.pkl\n"
     ]
    },
    {
     "name": "stderr",
     "output_type": "stream",
     "text": [
      "WARNING:absl:Found untraced functions such as lstm_cell_10_layer_call_fn, lstm_cell_10_layer_call_and_return_conditional_losses while saving (showing 2 of 2). These functions will not be directly callable after loading.\n"
     ]
    },
    {
     "name": "stdout",
     "output_type": "stream",
     "text": [
      "INFO:tensorflow:Assets written to: best_model6.pkl\\assets\n"
     ]
    },
    {
     "name": "stderr",
     "output_type": "stream",
     "text": [
      "INFO:tensorflow:Assets written to: best_model6.pkl\\assets\n"
     ]
    },
    {
     "name": "stdout",
     "output_type": "stream",
     "text": [
      "30/30 [==============================] - 9s 313ms/step - loss: 0.3595 - accuracy: 0.8297\n",
      "Epoch 8/20\n",
      "30/30 [==============================] - ETA: 0s - loss: 0.3518 - accuracy: 0.8383\n",
      "Epoch 8: accuracy improved from 0.82967 to 0.83831, saving model to best_model6.pkl\n"
     ]
    },
    {
     "name": "stderr",
     "output_type": "stream",
     "text": [
      "WARNING:absl:Found untraced functions such as lstm_cell_10_layer_call_fn, lstm_cell_10_layer_call_and_return_conditional_losses while saving (showing 2 of 2). These functions will not be directly callable after loading.\n"
     ]
    },
    {
     "name": "stdout",
     "output_type": "stream",
     "text": [
      "INFO:tensorflow:Assets written to: best_model6.pkl\\assets\n"
     ]
    },
    {
     "name": "stderr",
     "output_type": "stream",
     "text": [
      "INFO:tensorflow:Assets written to: best_model6.pkl\\assets\n"
     ]
    },
    {
     "name": "stdout",
     "output_type": "stream",
     "text": [
      "30/30 [==============================] - 10s 325ms/step - loss: 0.3518 - accuracy: 0.8383\n",
      "Epoch 9/20\n",
      "30/30 [==============================] - ETA: 0s - loss: 0.3383 - accuracy: 0.8387\n",
      "Epoch 9: accuracy improved from 0.83831 to 0.83870, saving model to best_model6.pkl\n"
     ]
    },
    {
     "name": "stderr",
     "output_type": "stream",
     "text": [
      "WARNING:absl:Found untraced functions such as lstm_cell_10_layer_call_fn, lstm_cell_10_layer_call_and_return_conditional_losses while saving (showing 2 of 2). These functions will not be directly callable after loading.\n"
     ]
    },
    {
     "name": "stdout",
     "output_type": "stream",
     "text": [
      "INFO:tensorflow:Assets written to: best_model6.pkl\\assets\n"
     ]
    },
    {
     "name": "stderr",
     "output_type": "stream",
     "text": [
      "INFO:tensorflow:Assets written to: best_model6.pkl\\assets\n"
     ]
    },
    {
     "name": "stdout",
     "output_type": "stream",
     "text": [
      "30/30 [==============================] - 9s 314ms/step - loss: 0.3383 - accuracy: 0.8387\n",
      "Epoch 10/20\n",
      "30/30 [==============================] - ETA: 0s - loss: 0.3286 - accuracy: 0.8449\n",
      "Epoch 10: accuracy improved from 0.83870 to 0.84485, saving model to best_model6.pkl\n"
     ]
    },
    {
     "name": "stderr",
     "output_type": "stream",
     "text": [
      "WARNING:absl:Found untraced functions such as lstm_cell_10_layer_call_fn, lstm_cell_10_layer_call_and_return_conditional_losses while saving (showing 2 of 2). These functions will not be directly callable after loading.\n"
     ]
    },
    {
     "name": "stdout",
     "output_type": "stream",
     "text": [
      "INFO:tensorflow:Assets written to: best_model6.pkl\\assets\n"
     ]
    },
    {
     "name": "stderr",
     "output_type": "stream",
     "text": [
      "INFO:tensorflow:Assets written to: best_model6.pkl\\assets\n"
     ]
    },
    {
     "name": "stdout",
     "output_type": "stream",
     "text": [
      "30/30 [==============================] - 9s 321ms/step - loss: 0.3286 - accuracy: 0.8449\n",
      "Epoch 11/20\n",
      "30/30 [==============================] - ETA: 0s - loss: 0.3217 - accuracy: 0.8488\n",
      "Epoch 11: accuracy improved from 0.84485 to 0.84878, saving model to best_model6.pkl\n"
     ]
    },
    {
     "name": "stderr",
     "output_type": "stream",
     "text": [
      "WARNING:absl:Found untraced functions such as lstm_cell_10_layer_call_fn, lstm_cell_10_layer_call_and_return_conditional_losses while saving (showing 2 of 2). These functions will not be directly callable after loading.\n"
     ]
    },
    {
     "name": "stdout",
     "output_type": "stream",
     "text": [
      "INFO:tensorflow:Assets written to: best_model6.pkl\\assets\n"
     ]
    },
    {
     "name": "stderr",
     "output_type": "stream",
     "text": [
      "INFO:tensorflow:Assets written to: best_model6.pkl\\assets\n"
     ]
    },
    {
     "name": "stdout",
     "output_type": "stream",
     "text": [
      "30/30 [==============================] - 9s 307ms/step - loss: 0.3217 - accuracy: 0.8488\n",
      "Epoch 12/20\n",
      "30/30 [==============================] - ETA: 0s - loss: 0.3073 - accuracy: 0.8530\n",
      "Epoch 12: accuracy improved from 0.84878 to 0.85297, saving model to best_model6.pkl\n"
     ]
    },
    {
     "name": "stderr",
     "output_type": "stream",
     "text": [
      "WARNING:absl:Found untraced functions such as lstm_cell_10_layer_call_fn, lstm_cell_10_layer_call_and_return_conditional_losses while saving (showing 2 of 2). These functions will not be directly callable after loading.\n"
     ]
    },
    {
     "name": "stdout",
     "output_type": "stream",
     "text": [
      "INFO:tensorflow:Assets written to: best_model6.pkl\\assets\n"
     ]
    },
    {
     "name": "stderr",
     "output_type": "stream",
     "text": [
      "INFO:tensorflow:Assets written to: best_model6.pkl\\assets\n"
     ]
    },
    {
     "name": "stdout",
     "output_type": "stream",
     "text": [
      "30/30 [==============================] - 10s 323ms/step - loss: 0.3073 - accuracy: 0.8530\n",
      "Epoch 13/20\n",
      "30/30 [==============================] - ETA: 0s - loss: 0.2928 - accuracy: 0.8667\n",
      "Epoch 13: accuracy improved from 0.85297 to 0.86672, saving model to best_model6.pkl\n"
     ]
    },
    {
     "name": "stderr",
     "output_type": "stream",
     "text": [
      "WARNING:absl:Found untraced functions such as lstm_cell_10_layer_call_fn, lstm_cell_10_layer_call_and_return_conditional_losses while saving (showing 2 of 2). These functions will not be directly callable after loading.\n"
     ]
    },
    {
     "name": "stdout",
     "output_type": "stream",
     "text": [
      "INFO:tensorflow:Assets written to: best_model6.pkl\\assets\n"
     ]
    },
    {
     "name": "stderr",
     "output_type": "stream",
     "text": [
      "INFO:tensorflow:Assets written to: best_model6.pkl\\assets\n"
     ]
    },
    {
     "name": "stdout",
     "output_type": "stream",
     "text": [
      "30/30 [==============================] - 9s 310ms/step - loss: 0.2928 - accuracy: 0.8667\n",
      "Epoch 14/20\n",
      "30/30 [==============================] - ETA: 0s - loss: 0.2900 - accuracy: 0.8646\n",
      "Epoch 14: accuracy did not improve from 0.86672\n",
      "30/30 [==============================] - 4s 145ms/step - loss: 0.2900 - accuracy: 0.8646\n",
      "Epoch 15/20\n",
      "30/30 [==============================] - ETA: 0s - loss: 0.2829 - accuracy: 0.8705\n",
      "Epoch 15: accuracy improved from 0.86672 to 0.87052, saving model to best_model6.pkl\n"
     ]
    },
    {
     "name": "stderr",
     "output_type": "stream",
     "text": [
      "WARNING:absl:Found untraced functions such as lstm_cell_10_layer_call_fn, lstm_cell_10_layer_call_and_return_conditional_losses while saving (showing 2 of 2). These functions will not be directly callable after loading.\n"
     ]
    },
    {
     "name": "stdout",
     "output_type": "stream",
     "text": [
      "INFO:tensorflow:Assets written to: best_model6.pkl\\assets\n"
     ]
    },
    {
     "name": "stderr",
     "output_type": "stream",
     "text": [
      "INFO:tensorflow:Assets written to: best_model6.pkl\\assets\n"
     ]
    },
    {
     "name": "stdout",
     "output_type": "stream",
     "text": [
      "30/30 [==============================] - 9s 321ms/step - loss: 0.2829 - accuracy: 0.8705\n",
      "Epoch 16/20\n",
      "30/30 [==============================] - ETA: 0s - loss: 0.2661 - accuracy: 0.8780\n",
      "Epoch 16: accuracy improved from 0.87052 to 0.87798, saving model to best_model6.pkl\n"
     ]
    },
    {
     "name": "stderr",
     "output_type": "stream",
     "text": [
      "WARNING:absl:Found untraced functions such as lstm_cell_10_layer_call_fn, lstm_cell_10_layer_call_and_return_conditional_losses while saving (showing 2 of 2). These functions will not be directly callable after loading.\n"
     ]
    },
    {
     "name": "stdout",
     "output_type": "stream",
     "text": [
      "INFO:tensorflow:Assets written to: best_model6.pkl\\assets\n"
     ]
    },
    {
     "name": "stderr",
     "output_type": "stream",
     "text": [
      "INFO:tensorflow:Assets written to: best_model6.pkl\\assets\n"
     ]
    },
    {
     "name": "stdout",
     "output_type": "stream",
     "text": [
      "30/30 [==============================] - 10s 334ms/step - loss: 0.2661 - accuracy: 0.8780\n",
      "Epoch 17/20\n",
      "30/30 [==============================] - ETA: 0s - loss: 0.2555 - accuracy: 0.8833\n",
      "Epoch 17: accuracy improved from 0.87798 to 0.88335, saving model to best_model6.pkl\n"
     ]
    },
    {
     "name": "stderr",
     "output_type": "stream",
     "text": [
      "WARNING:absl:Found untraced functions such as lstm_cell_10_layer_call_fn, lstm_cell_10_layer_call_and_return_conditional_losses while saving (showing 2 of 2). These functions will not be directly callable after loading.\n"
     ]
    },
    {
     "name": "stdout",
     "output_type": "stream",
     "text": [
      "INFO:tensorflow:Assets written to: best_model6.pkl\\assets\n"
     ]
    },
    {
     "name": "stderr",
     "output_type": "stream",
     "text": [
      "INFO:tensorflow:Assets written to: best_model6.pkl\\assets\n"
     ]
    },
    {
     "name": "stdout",
     "output_type": "stream",
     "text": [
      "30/30 [==============================] - 10s 333ms/step - loss: 0.2555 - accuracy: 0.8833\n",
      "Epoch 18/20\n",
      "30/30 [==============================] - ETA: 0s - loss: 0.2355 - accuracy: 0.8974\n",
      "Epoch 18: accuracy improved from 0.88335 to 0.89736, saving model to best_model6.pkl\n"
     ]
    },
    {
     "name": "stderr",
     "output_type": "stream",
     "text": [
      "WARNING:absl:Found untraced functions such as lstm_cell_10_layer_call_fn, lstm_cell_10_layer_call_and_return_conditional_losses while saving (showing 2 of 2). These functions will not be directly callable after loading.\n"
     ]
    },
    {
     "name": "stdout",
     "output_type": "stream",
     "text": [
      "INFO:tensorflow:Assets written to: best_model6.pkl\\assets\n"
     ]
    },
    {
     "name": "stderr",
     "output_type": "stream",
     "text": [
      "INFO:tensorflow:Assets written to: best_model6.pkl\\assets\n"
     ]
    },
    {
     "name": "stdout",
     "output_type": "stream",
     "text": [
      "30/30 [==============================] - 9s 319ms/step - loss: 0.2355 - accuracy: 0.8974\n",
      "Epoch 19/20\n",
      "30/30 [==============================] - ETA: 0s - loss: 0.2231 - accuracy: 0.9005\n",
      "Epoch 19: accuracy improved from 0.89736 to 0.90050, saving model to best_model6.pkl\n"
     ]
    },
    {
     "name": "stderr",
     "output_type": "stream",
     "text": [
      "WARNING:absl:Found untraced functions such as lstm_cell_10_layer_call_fn, lstm_cell_10_layer_call_and_return_conditional_losses while saving (showing 2 of 2). These functions will not be directly callable after loading.\n"
     ]
    },
    {
     "name": "stdout",
     "output_type": "stream",
     "text": [
      "INFO:tensorflow:Assets written to: best_model6.pkl\\assets\n"
     ]
    },
    {
     "name": "stderr",
     "output_type": "stream",
     "text": [
      "INFO:tensorflow:Assets written to: best_model6.pkl\\assets\n"
     ]
    },
    {
     "name": "stdout",
     "output_type": "stream",
     "text": [
      "30/30 [==============================] - 9s 307ms/step - loss: 0.2231 - accuracy: 0.9005\n",
      "Epoch 20/20\n",
      "30/30 [==============================] - ETA: 0s - loss: 0.2179 - accuracy: 0.9090\n",
      "Epoch 20: accuracy improved from 0.90050 to 0.90901, saving model to best_model6.pkl\n"
     ]
    },
    {
     "name": "stderr",
     "output_type": "stream",
     "text": [
      "WARNING:absl:Found untraced functions such as lstm_cell_10_layer_call_fn, lstm_cell_10_layer_call_and_return_conditional_losses while saving (showing 2 of 2). These functions will not be directly callable after loading.\n"
     ]
    },
    {
     "name": "stdout",
     "output_type": "stream",
     "text": [
      "INFO:tensorflow:Assets written to: best_model6.pkl\\assets\n"
     ]
    },
    {
     "name": "stderr",
     "output_type": "stream",
     "text": [
      "INFO:tensorflow:Assets written to: best_model6.pkl\\assets\n"
     ]
    },
    {
     "name": "stdout",
     "output_type": "stream",
     "text": [
      "30/30 [==============================] - 10s 335ms/step - loss: 0.2179 - accuracy: 0.9090\n",
      "27/27 [==============================] - 1s 24ms/step\n",
      "Epoch 1/20\n",
      "30/30 [==============================] - ETA: 0s - loss: 0.6052 - accuracy: 0.6846\n",
      "Epoch 1: accuracy improved from -inf to 0.68460, saving model to best_model7.pkl\n"
     ]
    },
    {
     "name": "stderr",
     "output_type": "stream",
     "text": [
      "WARNING:absl:Found untraced functions such as lstm_cell_12_layer_call_fn, lstm_cell_12_layer_call_and_return_conditional_losses while saving (showing 2 of 2). These functions will not be directly callable after loading.\n"
     ]
    },
    {
     "name": "stdout",
     "output_type": "stream",
     "text": [
      "INFO:tensorflow:Assets written to: best_model7.pkl\\assets\n"
     ]
    },
    {
     "name": "stderr",
     "output_type": "stream",
     "text": [
      "INFO:tensorflow:Assets written to: best_model7.pkl\\assets\n"
     ]
    },
    {
     "name": "stdout",
     "output_type": "stream",
     "text": [
      "30/30 [==============================] - 12s 318ms/step - loss: 0.6052 - accuracy: 0.6846\n",
      "Epoch 2/20\n",
      "30/30 [==============================] - ETA: 0s - loss: 0.5368 - accuracy: 0.7439\n",
      "Epoch 2: accuracy improved from 0.68460 to 0.74391, saving model to best_model7.pkl\n"
     ]
    },
    {
     "name": "stderr",
     "output_type": "stream",
     "text": [
      "WARNING:absl:Found untraced functions such as lstm_cell_12_layer_call_fn, lstm_cell_12_layer_call_and_return_conditional_losses while saving (showing 2 of 2). These functions will not be directly callable after loading.\n"
     ]
    },
    {
     "name": "stdout",
     "output_type": "stream",
     "text": [
      "INFO:tensorflow:Assets written to: best_model7.pkl\\assets\n"
     ]
    },
    {
     "name": "stderr",
     "output_type": "stream",
     "text": [
      "INFO:tensorflow:Assets written to: best_model7.pkl\\assets\n"
     ]
    },
    {
     "name": "stdout",
     "output_type": "stream",
     "text": [
      "30/30 [==============================] - 13s 453ms/step - loss: 0.5368 - accuracy: 0.7439\n",
      "Epoch 3/20\n",
      "30/30 [==============================] - ETA: 0s - loss: 0.4756 - accuracy: 0.7749\n",
      "Epoch 3: accuracy improved from 0.74391 to 0.77494, saving model to best_model7.pkl\n"
     ]
    },
    {
     "name": "stderr",
     "output_type": "stream",
     "text": [
      "WARNING:absl:Found untraced functions such as lstm_cell_12_layer_call_fn, lstm_cell_12_layer_call_and_return_conditional_losses while saving (showing 2 of 2). These functions will not be directly callable after loading.\n"
     ]
    },
    {
     "name": "stdout",
     "output_type": "stream",
     "text": [
      "INFO:tensorflow:Assets written to: best_model7.pkl\\assets\n"
     ]
    },
    {
     "name": "stderr",
     "output_type": "stream",
     "text": [
      "INFO:tensorflow:Assets written to: best_model7.pkl\\assets\n"
     ]
    },
    {
     "name": "stdout",
     "output_type": "stream",
     "text": [
      "30/30 [==============================] - 10s 326ms/step - loss: 0.4756 - accuracy: 0.7749\n",
      "Epoch 4/20\n",
      "30/30 [==============================] - ETA: 0s - loss: 0.4158 - accuracy: 0.8049\n",
      "Epoch 4: accuracy improved from 0.77494 to 0.80492, saving model to best_model7.pkl\n"
     ]
    },
    {
     "name": "stderr",
     "output_type": "stream",
     "text": [
      "WARNING:absl:Found untraced functions such as lstm_cell_12_layer_call_fn, lstm_cell_12_layer_call_and_return_conditional_losses while saving (showing 2 of 2). These functions will not be directly callable after loading.\n"
     ]
    },
    {
     "name": "stdout",
     "output_type": "stream",
     "text": [
      "INFO:tensorflow:Assets written to: best_model7.pkl\\assets\n"
     ]
    },
    {
     "name": "stderr",
     "output_type": "stream",
     "text": [
      "INFO:tensorflow:Assets written to: best_model7.pkl\\assets\n"
     ]
    },
    {
     "name": "stdout",
     "output_type": "stream",
     "text": [
      "30/30 [==============================] - 9s 311ms/step - loss: 0.4158 - accuracy: 0.8049\n",
      "Epoch 5/20\n",
      "30/30 [==============================] - ETA: 0s - loss: 0.3629 - accuracy: 0.8331\n",
      "Epoch 5: accuracy improved from 0.80492 to 0.83307, saving model to best_model7.pkl\n"
     ]
    },
    {
     "name": "stderr",
     "output_type": "stream",
     "text": [
      "WARNING:absl:Found untraced functions such as lstm_cell_12_layer_call_fn, lstm_cell_12_layer_call_and_return_conditional_losses while saving (showing 2 of 2). These functions will not be directly callable after loading.\n"
     ]
    },
    {
     "name": "stdout",
     "output_type": "stream",
     "text": [
      "INFO:tensorflow:Assets written to: best_model7.pkl\\assets\n"
     ]
    },
    {
     "name": "stderr",
     "output_type": "stream",
     "text": [
      "INFO:tensorflow:Assets written to: best_model7.pkl\\assets\n"
     ]
    },
    {
     "name": "stdout",
     "output_type": "stream",
     "text": [
      "30/30 [==============================] - 10s 325ms/step - loss: 0.3629 - accuracy: 0.8331\n",
      "Epoch 6/20\n",
      "30/30 [==============================] - ETA: 0s - loss: 0.3367 - accuracy: 0.8450\n",
      "Epoch 6: accuracy improved from 0.83307 to 0.84499, saving model to best_model7.pkl\n"
     ]
    },
    {
     "name": "stderr",
     "output_type": "stream",
     "text": [
      "WARNING:absl:Found untraced functions such as lstm_cell_12_layer_call_fn, lstm_cell_12_layer_call_and_return_conditional_losses while saving (showing 2 of 2). These functions will not be directly callable after loading.\n"
     ]
    },
    {
     "name": "stdout",
     "output_type": "stream",
     "text": [
      "INFO:tensorflow:Assets written to: best_model7.pkl\\assets\n"
     ]
    },
    {
     "name": "stderr",
     "output_type": "stream",
     "text": [
      "INFO:tensorflow:Assets written to: best_model7.pkl\\assets\n"
     ]
    },
    {
     "name": "stdout",
     "output_type": "stream",
     "text": [
      "30/30 [==============================] - 9s 310ms/step - loss: 0.3367 - accuracy: 0.8450\n",
      "Epoch 7/20\n",
      "30/30 [==============================] - ETA: 0s - loss: 0.3246 - accuracy: 0.8521\n",
      "Epoch 7: accuracy improved from 0.84499 to 0.85206, saving model to best_model7.pkl\n"
     ]
    },
    {
     "name": "stderr",
     "output_type": "stream",
     "text": [
      "WARNING:absl:Found untraced functions such as lstm_cell_12_layer_call_fn, lstm_cell_12_layer_call_and_return_conditional_losses while saving (showing 2 of 2). These functions will not be directly callable after loading.\n"
     ]
    },
    {
     "name": "stdout",
     "output_type": "stream",
     "text": [
      "INFO:tensorflow:Assets written to: best_model7.pkl\\assets\n"
     ]
    },
    {
     "name": "stderr",
     "output_type": "stream",
     "text": [
      "INFO:tensorflow:Assets written to: best_model7.pkl\\assets\n"
     ]
    },
    {
     "name": "stdout",
     "output_type": "stream",
     "text": [
      "30/30 [==============================] - 10s 323ms/step - loss: 0.3246 - accuracy: 0.8521\n",
      "Epoch 8/20\n",
      "30/30 [==============================] - ETA: 0s - loss: 0.3086 - accuracy: 0.8602\n",
      "Epoch 8: accuracy improved from 0.85206 to 0.86017, saving model to best_model7.pkl\n"
     ]
    },
    {
     "name": "stderr",
     "output_type": "stream",
     "text": [
      "WARNING:absl:Found untraced functions such as lstm_cell_12_layer_call_fn, lstm_cell_12_layer_call_and_return_conditional_losses while saving (showing 2 of 2). These functions will not be directly callable after loading.\n"
     ]
    },
    {
     "name": "stdout",
     "output_type": "stream",
     "text": [
      "INFO:tensorflow:Assets written to: best_model7.pkl\\assets\n"
     ]
    },
    {
     "name": "stderr",
     "output_type": "stream",
     "text": [
      "INFO:tensorflow:Assets written to: best_model7.pkl\\assets\n"
     ]
    },
    {
     "name": "stdout",
     "output_type": "stream",
     "text": [
      "30/30 [==============================] - 9s 313ms/step - loss: 0.3086 - accuracy: 0.8602\n",
      "Epoch 9/20\n",
      "30/30 [==============================] - ETA: 0s - loss: 0.2914 - accuracy: 0.8679\n",
      "Epoch 9: accuracy improved from 0.86017 to 0.86790, saving model to best_model7.pkl\n"
     ]
    },
    {
     "name": "stderr",
     "output_type": "stream",
     "text": [
      "WARNING:absl:Found untraced functions such as lstm_cell_12_layer_call_fn, lstm_cell_12_layer_call_and_return_conditional_losses while saving (showing 2 of 2). These functions will not be directly callable after loading.\n"
     ]
    },
    {
     "name": "stdout",
     "output_type": "stream",
     "text": [
      "INFO:tensorflow:Assets written to: best_model7.pkl\\assets\n"
     ]
    },
    {
     "name": "stderr",
     "output_type": "stream",
     "text": [
      "INFO:tensorflow:Assets written to: best_model7.pkl\\assets\n"
     ]
    },
    {
     "name": "stdout",
     "output_type": "stream",
     "text": [
      "30/30 [==============================] - 10s 323ms/step - loss: 0.2914 - accuracy: 0.8679\n",
      "Epoch 10/20\n",
      "30/30 [==============================] - ETA: 0s - loss: 0.2857 - accuracy: 0.8730\n",
      "Epoch 10: accuracy improved from 0.86790 to 0.87300, saving model to best_model7.pkl\n"
     ]
    },
    {
     "name": "stderr",
     "output_type": "stream",
     "text": [
      "WARNING:absl:Found untraced functions such as lstm_cell_12_layer_call_fn, lstm_cell_12_layer_call_and_return_conditional_losses while saving (showing 2 of 2). These functions will not be directly callable after loading.\n"
     ]
    },
    {
     "name": "stdout",
     "output_type": "stream",
     "text": [
      "INFO:tensorflow:Assets written to: best_model7.pkl\\assets\n"
     ]
    },
    {
     "name": "stderr",
     "output_type": "stream",
     "text": [
      "INFO:tensorflow:Assets written to: best_model7.pkl\\assets\n"
     ]
    },
    {
     "name": "stdout",
     "output_type": "stream",
     "text": [
      "30/30 [==============================] - 9s 312ms/step - loss: 0.2857 - accuracy: 0.8730\n",
      "Epoch 11/20\n",
      "30/30 [==============================] - ETA: 0s - loss: 0.2754 - accuracy: 0.8696\n",
      "Epoch 11: accuracy did not improve from 0.87300\n",
      "30/30 [==============================] - 4s 145ms/step - loss: 0.2754 - accuracy: 0.8696\n",
      "Epoch 12/20\n",
      "30/30 [==============================] - ETA: 0s - loss: 0.2667 - accuracy: 0.8752\n",
      "Epoch 12: accuracy improved from 0.87300 to 0.87523, saving model to best_model7.pkl\n"
     ]
    },
    {
     "name": "stderr",
     "output_type": "stream",
     "text": [
      "WARNING:absl:Found untraced functions such as lstm_cell_12_layer_call_fn, lstm_cell_12_layer_call_and_return_conditional_losses while saving (showing 2 of 2). These functions will not be directly callable after loading.\n"
     ]
    },
    {
     "name": "stdout",
     "output_type": "stream",
     "text": [
      "INFO:tensorflow:Assets written to: best_model7.pkl\\assets\n"
     ]
    },
    {
     "name": "stderr",
     "output_type": "stream",
     "text": [
      "INFO:tensorflow:Assets written to: best_model7.pkl\\assets\n"
     ]
    },
    {
     "name": "stdout",
     "output_type": "stream",
     "text": [
      "30/30 [==============================] - 9s 317ms/step - loss: 0.2667 - accuracy: 0.8752\n",
      "Epoch 13/20\n",
      "30/30 [==============================] - ETA: 0s - loss: 0.2656 - accuracy: 0.8764\n",
      "Epoch 13: accuracy improved from 0.87523 to 0.87641, saving model to best_model7.pkl\n"
     ]
    },
    {
     "name": "stderr",
     "output_type": "stream",
     "text": [
      "WARNING:absl:Found untraced functions such as lstm_cell_12_layer_call_fn, lstm_cell_12_layer_call_and_return_conditional_losses while saving (showing 2 of 2). These functions will not be directly callable after loading.\n"
     ]
    },
    {
     "name": "stdout",
     "output_type": "stream",
     "text": [
      "INFO:tensorflow:Assets written to: best_model7.pkl\\assets\n"
     ]
    },
    {
     "name": "stderr",
     "output_type": "stream",
     "text": [
      "INFO:tensorflow:Assets written to: best_model7.pkl\\assets\n"
     ]
    },
    {
     "name": "stdout",
     "output_type": "stream",
     "text": [
      "30/30 [==============================] - 9s 311ms/step - loss: 0.2656 - accuracy: 0.8764\n",
      "Epoch 14/20\n",
      "30/30 [==============================] - ETA: 0s - loss: 0.2524 - accuracy: 0.8833\n",
      "Epoch 14: accuracy improved from 0.87641 to 0.88335, saving model to best_model7.pkl\n"
     ]
    },
    {
     "name": "stderr",
     "output_type": "stream",
     "text": [
      "WARNING:absl:Found untraced functions such as lstm_cell_12_layer_call_fn, lstm_cell_12_layer_call_and_return_conditional_losses while saving (showing 2 of 2). These functions will not be directly callable after loading.\n"
     ]
    },
    {
     "name": "stdout",
     "output_type": "stream",
     "text": [
      "INFO:tensorflow:Assets written to: best_model7.pkl\\assets\n"
     ]
    },
    {
     "name": "stderr",
     "output_type": "stream",
     "text": [
      "INFO:tensorflow:Assets written to: best_model7.pkl\\assets\n"
     ]
    },
    {
     "name": "stdout",
     "output_type": "stream",
     "text": [
      "30/30 [==============================] - 10s 335ms/step - loss: 0.2524 - accuracy: 0.8833\n",
      "Epoch 15/20\n",
      "30/30 [==============================] - ETA: 0s - loss: 0.2518 - accuracy: 0.8836\n",
      "Epoch 15: accuracy improved from 0.88335 to 0.88361, saving model to best_model7.pkl\n"
     ]
    },
    {
     "name": "stderr",
     "output_type": "stream",
     "text": [
      "WARNING:absl:Found untraced functions such as lstm_cell_12_layer_call_fn, lstm_cell_12_layer_call_and_return_conditional_losses while saving (showing 2 of 2). These functions will not be directly callable after loading.\n"
     ]
    },
    {
     "name": "stdout",
     "output_type": "stream",
     "text": [
      "INFO:tensorflow:Assets written to: best_model7.pkl\\assets\n"
     ]
    },
    {
     "name": "stderr",
     "output_type": "stream",
     "text": [
      "INFO:tensorflow:Assets written to: best_model7.pkl\\assets\n"
     ]
    },
    {
     "name": "stdout",
     "output_type": "stream",
     "text": [
      "30/30 [==============================] - 9s 314ms/step - loss: 0.2518 - accuracy: 0.8836\n",
      "Epoch 16/20\n",
      "30/30 [==============================] - ETA: 0s - loss: 0.2454 - accuracy: 0.8885\n",
      "Epoch 16: accuracy improved from 0.88361 to 0.88845, saving model to best_model7.pkl\n"
     ]
    },
    {
     "name": "stderr",
     "output_type": "stream",
     "text": [
      "WARNING:absl:Found untraced functions such as lstm_cell_12_layer_call_fn, lstm_cell_12_layer_call_and_return_conditional_losses while saving (showing 2 of 2). These functions will not be directly callable after loading.\n"
     ]
    },
    {
     "name": "stdout",
     "output_type": "stream",
     "text": [
      "INFO:tensorflow:Assets written to: best_model7.pkl\\assets\n"
     ]
    },
    {
     "name": "stderr",
     "output_type": "stream",
     "text": [
      "INFO:tensorflow:Assets written to: best_model7.pkl\\assets\n"
     ]
    },
    {
     "name": "stdout",
     "output_type": "stream",
     "text": [
      "30/30 [==============================] - 9s 320ms/step - loss: 0.2454 - accuracy: 0.8885\n",
      "Epoch 17/20\n",
      "30/30 [==============================] - ETA: 0s - loss: 0.2395 - accuracy: 0.8888\n",
      "Epoch 17: accuracy improved from 0.88845 to 0.88885, saving model to best_model7.pkl\n"
     ]
    },
    {
     "name": "stderr",
     "output_type": "stream",
     "text": [
      "WARNING:absl:Found untraced functions such as lstm_cell_12_layer_call_fn, lstm_cell_12_layer_call_and_return_conditional_losses while saving (showing 2 of 2). These functions will not be directly callable after loading.\n"
     ]
    },
    {
     "name": "stdout",
     "output_type": "stream",
     "text": [
      "INFO:tensorflow:Assets written to: best_model7.pkl\\assets\n"
     ]
    },
    {
     "name": "stderr",
     "output_type": "stream",
     "text": [
      "INFO:tensorflow:Assets written to: best_model7.pkl\\assets\n"
     ]
    },
    {
     "name": "stdout",
     "output_type": "stream",
     "text": [
      "30/30 [==============================] - 9s 310ms/step - loss: 0.2395 - accuracy: 0.8888\n",
      "Epoch 18/20\n",
      "30/30 [==============================] - ETA: 0s - loss: 0.2244 - accuracy: 0.8975\n",
      "Epoch 18: accuracy improved from 0.88885 to 0.89749, saving model to best_model7.pkl\n"
     ]
    },
    {
     "name": "stderr",
     "output_type": "stream",
     "text": [
      "WARNING:absl:Found untraced functions such as lstm_cell_12_layer_call_fn, lstm_cell_12_layer_call_and_return_conditional_losses while saving (showing 2 of 2). These functions will not be directly callable after loading.\n"
     ]
    },
    {
     "name": "stdout",
     "output_type": "stream",
     "text": [
      "INFO:tensorflow:Assets written to: best_model7.pkl\\assets\n"
     ]
    },
    {
     "name": "stderr",
     "output_type": "stream",
     "text": [
      "INFO:tensorflow:Assets written to: best_model7.pkl\\assets\n"
     ]
    },
    {
     "name": "stdout",
     "output_type": "stream",
     "text": [
      "30/30 [==============================] - 9s 302ms/step - loss: 0.2244 - accuracy: 0.8975\n",
      "Epoch 19/20\n",
      "30/30 [==============================] - ETA: 0s - loss: 0.2135 - accuracy: 0.9039\n",
      "Epoch 19: accuracy improved from 0.89749 to 0.90390, saving model to best_model7.pkl\n"
     ]
    },
    {
     "name": "stderr",
     "output_type": "stream",
     "text": [
      "WARNING:absl:Found untraced functions such as lstm_cell_12_layer_call_fn, lstm_cell_12_layer_call_and_return_conditional_losses while saving (showing 2 of 2). These functions will not be directly callable after loading.\n"
     ]
    },
    {
     "name": "stdout",
     "output_type": "stream",
     "text": [
      "INFO:tensorflow:Assets written to: best_model7.pkl\\assets\n"
     ]
    },
    {
     "name": "stderr",
     "output_type": "stream",
     "text": [
      "INFO:tensorflow:Assets written to: best_model7.pkl\\assets\n"
     ]
    },
    {
     "name": "stdout",
     "output_type": "stream",
     "text": [
      "30/30 [==============================] - 9s 319ms/step - loss: 0.2135 - accuracy: 0.9039\n",
      "Epoch 20/20\n",
      "30/30 [==============================] - ETA: 0s - loss: 0.2182 - accuracy: 0.9032\n",
      "Epoch 20: accuracy did not improve from 0.90390\n",
      "30/30 [==============================] - 4s 149ms/step - loss: 0.2182 - accuracy: 0.9032\n",
      "27/27 [==============================] - 1s 19ms/step\n",
      "Epoch 1/20\n",
      "30/30 [==============================] - ETA: 0s - loss: 0.5453 - accuracy: 0.7500\n",
      "Epoch 1: accuracy improved from -inf to 0.74997, saving model to best_model8.pkl\n"
     ]
    },
    {
     "name": "stderr",
     "output_type": "stream",
     "text": [
      "WARNING:absl:Found untraced functions such as lstm_cell_14_layer_call_fn, lstm_cell_14_layer_call_and_return_conditional_losses while saving (showing 2 of 2). These functions will not be directly callable after loading.\n"
     ]
    },
    {
     "name": "stdout",
     "output_type": "stream",
     "text": [
      "INFO:tensorflow:Assets written to: best_model8.pkl\\assets\n"
     ]
    },
    {
     "name": "stderr",
     "output_type": "stream",
     "text": [
      "INFO:tensorflow:Assets written to: best_model8.pkl\\assets\n"
     ]
    },
    {
     "name": "stdout",
     "output_type": "stream",
     "text": [
      "30/30 [==============================] - 12s 323ms/step - loss: 0.5453 - accuracy: 0.7500\n",
      "Epoch 2/20\n",
      "30/30 [==============================] - ETA: 0s - loss: 0.4429 - accuracy: 0.8102\n",
      "Epoch 2: accuracy improved from 0.74997 to 0.81018, saving model to best_model8.pkl\n"
     ]
    },
    {
     "name": "stderr",
     "output_type": "stream",
     "text": [
      "WARNING:absl:Found untraced functions such as lstm_cell_14_layer_call_fn, lstm_cell_14_layer_call_and_return_conditional_losses while saving (showing 2 of 2). These functions will not be directly callable after loading.\n"
     ]
    },
    {
     "name": "stdout",
     "output_type": "stream",
     "text": [
      "INFO:tensorflow:Assets written to: best_model8.pkl\\assets\n"
     ]
    },
    {
     "name": "stderr",
     "output_type": "stream",
     "text": [
      "INFO:tensorflow:Assets written to: best_model8.pkl\\assets\n"
     ]
    },
    {
     "name": "stdout",
     "output_type": "stream",
     "text": [
      "30/30 [==============================] - 13s 449ms/step - loss: 0.4429 - accuracy: 0.8102\n",
      "Epoch 3/20\n",
      "30/30 [==============================] - ETA: 0s - loss: 0.3814 - accuracy: 0.8360\n",
      "Epoch 3: accuracy improved from 0.81018 to 0.83597, saving model to best_model8.pkl\n"
     ]
    },
    {
     "name": "stderr",
     "output_type": "stream",
     "text": [
      "WARNING:absl:Found untraced functions such as lstm_cell_14_layer_call_fn, lstm_cell_14_layer_call_and_return_conditional_losses while saving (showing 2 of 2). These functions will not be directly callable after loading.\n"
     ]
    },
    {
     "name": "stdout",
     "output_type": "stream",
     "text": [
      "INFO:tensorflow:Assets written to: best_model8.pkl\\assets\n"
     ]
    },
    {
     "name": "stderr",
     "output_type": "stream",
     "text": [
      "INFO:tensorflow:Assets written to: best_model8.pkl\\assets\n"
     ]
    },
    {
     "name": "stdout",
     "output_type": "stream",
     "text": [
      "30/30 [==============================] - 10s 327ms/step - loss: 0.3814 - accuracy: 0.8360\n",
      "Epoch 4/20\n",
      "30/30 [==============================] - ETA: 0s - loss: 0.3527 - accuracy: 0.8483\n",
      "Epoch 4: accuracy improved from 0.83597 to 0.84828, saving model to best_model8.pkl\n"
     ]
    },
    {
     "name": "stderr",
     "output_type": "stream",
     "text": [
      "WARNING:absl:Found untraced functions such as lstm_cell_14_layer_call_fn, lstm_cell_14_layer_call_and_return_conditional_losses while saving (showing 2 of 2). These functions will not be directly callable after loading.\n"
     ]
    },
    {
     "name": "stdout",
     "output_type": "stream",
     "text": [
      "INFO:tensorflow:Assets written to: best_model8.pkl\\assets\n"
     ]
    },
    {
     "name": "stderr",
     "output_type": "stream",
     "text": [
      "INFO:tensorflow:Assets written to: best_model8.pkl\\assets\n"
     ]
    },
    {
     "name": "stdout",
     "output_type": "stream",
     "text": [
      "30/30 [==============================] - 9s 308ms/step - loss: 0.3527 - accuracy: 0.8483\n",
      "Epoch 5/20\n",
      "30/30 [==============================] - ETA: 0s - loss: 0.3160 - accuracy: 0.8680\n",
      "Epoch 5: accuracy improved from 0.84828 to 0.86805, saving model to best_model8.pkl\n"
     ]
    },
    {
     "name": "stderr",
     "output_type": "stream",
     "text": [
      "WARNING:absl:Found untraced functions such as lstm_cell_14_layer_call_fn, lstm_cell_14_layer_call_and_return_conditional_losses while saving (showing 2 of 2). These functions will not be directly callable after loading.\n"
     ]
    },
    {
     "name": "stdout",
     "output_type": "stream",
     "text": [
      "INFO:tensorflow:Assets written to: best_model8.pkl\\assets\n"
     ]
    },
    {
     "name": "stderr",
     "output_type": "stream",
     "text": [
      "INFO:tensorflow:Assets written to: best_model8.pkl\\assets\n"
     ]
    },
    {
     "name": "stdout",
     "output_type": "stream",
     "text": [
      "30/30 [==============================] - 10s 349ms/step - loss: 0.3160 - accuracy: 0.8680\n",
      "Epoch 6/20\n",
      "30/30 [==============================] - ETA: 0s - loss: 0.2950 - accuracy: 0.8737\n",
      "Epoch 6: accuracy improved from 0.86805 to 0.87367, saving model to best_model8.pkl\n"
     ]
    },
    {
     "name": "stderr",
     "output_type": "stream",
     "text": [
      "WARNING:absl:Found untraced functions such as lstm_cell_14_layer_call_fn, lstm_cell_14_layer_call_and_return_conditional_losses while saving (showing 2 of 2). These functions will not be directly callable after loading.\n"
     ]
    },
    {
     "name": "stdout",
     "output_type": "stream",
     "text": [
      "INFO:tensorflow:Assets written to: best_model8.pkl\\assets\n"
     ]
    },
    {
     "name": "stderr",
     "output_type": "stream",
     "text": [
      "INFO:tensorflow:Assets written to: best_model8.pkl\\assets\n"
     ]
    },
    {
     "name": "stdout",
     "output_type": "stream",
     "text": [
      "30/30 [==============================] - 10s 325ms/step - loss: 0.2950 - accuracy: 0.8737\n",
      "Epoch 7/20\n",
      "30/30 [==============================] - ETA: 0s - loss: 0.2774 - accuracy: 0.8809\n",
      "Epoch 7: accuracy improved from 0.87367 to 0.88087, saving model to best_model8.pkl\n"
     ]
    },
    {
     "name": "stderr",
     "output_type": "stream",
     "text": [
      "WARNING:absl:Found untraced functions such as lstm_cell_14_layer_call_fn, lstm_cell_14_layer_call_and_return_conditional_losses while saving (showing 2 of 2). These functions will not be directly callable after loading.\n"
     ]
    },
    {
     "name": "stdout",
     "output_type": "stream",
     "text": [
      "INFO:tensorflow:Assets written to: best_model8.pkl\\assets\n"
     ]
    },
    {
     "name": "stderr",
     "output_type": "stream",
     "text": [
      "INFO:tensorflow:Assets written to: best_model8.pkl\\assets\n"
     ]
    },
    {
     "name": "stdout",
     "output_type": "stream",
     "text": [
      "30/30 [==============================] - 10s 326ms/step - loss: 0.2774 - accuracy: 0.8809\n",
      "Epoch 8/20\n",
      "30/30 [==============================] - ETA: 0s - loss: 0.2736 - accuracy: 0.8827\n",
      "Epoch 8: accuracy improved from 0.88087 to 0.88271, saving model to best_model8.pkl\n"
     ]
    },
    {
     "name": "stderr",
     "output_type": "stream",
     "text": [
      "WARNING:absl:Found untraced functions such as lstm_cell_14_layer_call_fn, lstm_cell_14_layer_call_and_return_conditional_losses while saving (showing 2 of 2). These functions will not be directly callable after loading.\n"
     ]
    },
    {
     "name": "stdout",
     "output_type": "stream",
     "text": [
      "INFO:tensorflow:Assets written to: best_model8.pkl\\assets\n"
     ]
    },
    {
     "name": "stderr",
     "output_type": "stream",
     "text": [
      "INFO:tensorflow:Assets written to: best_model8.pkl\\assets\n"
     ]
    },
    {
     "name": "stdout",
     "output_type": "stream",
     "text": [
      "30/30 [==============================] - 9s 317ms/step - loss: 0.2736 - accuracy: 0.8827\n",
      "Epoch 9/20\n",
      "30/30 [==============================] - ETA: 0s - loss: 0.2828 - accuracy: 0.8821\n",
      "Epoch 9: accuracy did not improve from 0.88271\n",
      "30/30 [==============================] - 5s 152ms/step - loss: 0.2828 - accuracy: 0.8821\n",
      "Epoch 10/20\n",
      "30/30 [==============================] - ETA: 0s - loss: 0.2584 - accuracy: 0.8955\n",
      "Epoch 10: accuracy improved from 0.88271 to 0.89554, saving model to best_model8.pkl\n"
     ]
    },
    {
     "name": "stderr",
     "output_type": "stream",
     "text": [
      "WARNING:absl:Found untraced functions such as lstm_cell_14_layer_call_fn, lstm_cell_14_layer_call_and_return_conditional_losses while saving (showing 2 of 2). These functions will not be directly callable after loading.\n"
     ]
    },
    {
     "name": "stdout",
     "output_type": "stream",
     "text": [
      "INFO:tensorflow:Assets written to: best_model8.pkl\\assets\n"
     ]
    },
    {
     "name": "stderr",
     "output_type": "stream",
     "text": [
      "INFO:tensorflow:Assets written to: best_model8.pkl\\assets\n"
     ]
    },
    {
     "name": "stdout",
     "output_type": "stream",
     "text": [
      "30/30 [==============================] - 10s 325ms/step - loss: 0.2584 - accuracy: 0.8955\n",
      "Epoch 11/20\n",
      "30/30 [==============================] - ETA: 0s - loss: 0.2498 - accuracy: 0.8945\n",
      "Epoch 11: accuracy did not improve from 0.89554\n",
      "30/30 [==============================] - 5s 152ms/step - loss: 0.2498 - accuracy: 0.8945\n",
      "Epoch 12/20\n",
      "30/30 [==============================] - ETA: 0s - loss: 0.2307 - accuracy: 0.9044\n",
      "Epoch 12: accuracy improved from 0.89554 to 0.90444, saving model to best_model8.pkl\n"
     ]
    },
    {
     "name": "stderr",
     "output_type": "stream",
     "text": [
      "WARNING:absl:Found untraced functions such as lstm_cell_14_layer_call_fn, lstm_cell_14_layer_call_and_return_conditional_losses while saving (showing 2 of 2). These functions will not be directly callable after loading.\n"
     ]
    },
    {
     "name": "stdout",
     "output_type": "stream",
     "text": [
      "INFO:tensorflow:Assets written to: best_model8.pkl\\assets\n"
     ]
    },
    {
     "name": "stderr",
     "output_type": "stream",
     "text": [
      "INFO:tensorflow:Assets written to: best_model8.pkl\\assets\n"
     ]
    },
    {
     "name": "stdout",
     "output_type": "stream",
     "text": [
      "30/30 [==============================] - 9s 311ms/step - loss: 0.2307 - accuracy: 0.9044\n",
      "Epoch 13/20\n",
      "30/30 [==============================] - ETA: 0s - loss: 0.2175 - accuracy: 0.9082\n",
      "Epoch 13: accuracy improved from 0.90444 to 0.90823, saving model to best_model8.pkl\n"
     ]
    },
    {
     "name": "stderr",
     "output_type": "stream",
     "text": [
      "WARNING:absl:Found untraced functions such as lstm_cell_14_layer_call_fn, lstm_cell_14_layer_call_and_return_conditional_losses while saving (showing 2 of 2). These functions will not be directly callable after loading.\n"
     ]
    },
    {
     "name": "stdout",
     "output_type": "stream",
     "text": [
      "INFO:tensorflow:Assets written to: best_model8.pkl\\assets\n"
     ]
    },
    {
     "name": "stderr",
     "output_type": "stream",
     "text": [
      "INFO:tensorflow:Assets written to: best_model8.pkl\\assets\n"
     ]
    },
    {
     "name": "stdout",
     "output_type": "stream",
     "text": [
      "30/30 [==============================] - 10s 326ms/step - loss: 0.2175 - accuracy: 0.9082\n",
      "Epoch 14/20\n",
      "30/30 [==============================] - ETA: 0s - loss: 0.2031 - accuracy: 0.9146\n",
      "Epoch 14: accuracy improved from 0.90823 to 0.91465, saving model to best_model8.pkl\n"
     ]
    },
    {
     "name": "stderr",
     "output_type": "stream",
     "text": [
      "WARNING:absl:Found untraced functions such as lstm_cell_14_layer_call_fn, lstm_cell_14_layer_call_and_return_conditional_losses while saving (showing 2 of 2). These functions will not be directly callable after loading.\n"
     ]
    },
    {
     "name": "stdout",
     "output_type": "stream",
     "text": [
      "INFO:tensorflow:Assets written to: best_model8.pkl\\assets\n"
     ]
    },
    {
     "name": "stderr",
     "output_type": "stream",
     "text": [
      "INFO:tensorflow:Assets written to: best_model8.pkl\\assets\n"
     ]
    },
    {
     "name": "stdout",
     "output_type": "stream",
     "text": [
      "30/30 [==============================] - 9s 312ms/step - loss: 0.2031 - accuracy: 0.9146\n",
      "Epoch 15/20\n",
      "30/30 [==============================] - ETA: 0s - loss: 0.1919 - accuracy: 0.9188\n",
      "Epoch 15: accuracy improved from 0.91465 to 0.91884, saving model to best_model8.pkl\n"
     ]
    },
    {
     "name": "stderr",
     "output_type": "stream",
     "text": [
      "WARNING:absl:Found untraced functions such as lstm_cell_14_layer_call_fn, lstm_cell_14_layer_call_and_return_conditional_losses while saving (showing 2 of 2). These functions will not be directly callable after loading.\n"
     ]
    },
    {
     "name": "stdout",
     "output_type": "stream",
     "text": [
      "INFO:tensorflow:Assets written to: best_model8.pkl\\assets\n"
     ]
    },
    {
     "name": "stderr",
     "output_type": "stream",
     "text": [
      "INFO:tensorflow:Assets written to: best_model8.pkl\\assets\n"
     ]
    },
    {
     "name": "stdout",
     "output_type": "stream",
     "text": [
      "30/30 [==============================] - 10s 332ms/step - loss: 0.1919 - accuracy: 0.9188\n",
      "Epoch 16/20\n",
      "30/30 [==============================] - ETA: 0s - loss: 0.1845 - accuracy: 0.9190\n",
      "Epoch 16: accuracy improved from 0.91884 to 0.91897, saving model to best_model8.pkl\n"
     ]
    },
    {
     "name": "stderr",
     "output_type": "stream",
     "text": [
      "WARNING:absl:Found untraced functions such as lstm_cell_14_layer_call_fn, lstm_cell_14_layer_call_and_return_conditional_losses while saving (showing 2 of 2). These functions will not be directly callable after loading.\n"
     ]
    },
    {
     "name": "stdout",
     "output_type": "stream",
     "text": [
      "INFO:tensorflow:Assets written to: best_model8.pkl\\assets\n"
     ]
    },
    {
     "name": "stderr",
     "output_type": "stream",
     "text": [
      "INFO:tensorflow:Assets written to: best_model8.pkl\\assets\n"
     ]
    },
    {
     "name": "stdout",
     "output_type": "stream",
     "text": [
      "30/30 [==============================] - 9s 312ms/step - loss: 0.1845 - accuracy: 0.9190\n",
      "Epoch 17/20\n",
      "30/30 [==============================] - ETA: 0s - loss: 0.1893 - accuracy: 0.9195\n",
      "Epoch 17: accuracy improved from 0.91897 to 0.91949, saving model to best_model8.pkl\n"
     ]
    },
    {
     "name": "stderr",
     "output_type": "stream",
     "text": [
      "WARNING:absl:Found untraced functions such as lstm_cell_14_layer_call_fn, lstm_cell_14_layer_call_and_return_conditional_losses while saving (showing 2 of 2). These functions will not be directly callable after loading.\n"
     ]
    },
    {
     "name": "stdout",
     "output_type": "stream",
     "text": [
      "INFO:tensorflow:Assets written to: best_model8.pkl\\assets\n"
     ]
    },
    {
     "name": "stderr",
     "output_type": "stream",
     "text": [
      "INFO:tensorflow:Assets written to: best_model8.pkl\\assets\n"
     ]
    },
    {
     "name": "stdout",
     "output_type": "stream",
     "text": [
      "30/30 [==============================] - 10s 326ms/step - loss: 0.1893 - accuracy: 0.9195\n",
      "Epoch 18/20\n",
      "30/30 [==============================] - ETA: 0s - loss: 0.1719 - accuracy: 0.9246\n",
      "Epoch 18: accuracy improved from 0.91949 to 0.92460, saving model to best_model8.pkl\n"
     ]
    },
    {
     "name": "stderr",
     "output_type": "stream",
     "text": [
      "WARNING:absl:Found untraced functions such as lstm_cell_14_layer_call_fn, lstm_cell_14_layer_call_and_return_conditional_losses while saving (showing 2 of 2). These functions will not be directly callable after loading.\n"
     ]
    },
    {
     "name": "stdout",
     "output_type": "stream",
     "text": [
      "INFO:tensorflow:Assets written to: best_model8.pkl\\assets\n"
     ]
    },
    {
     "name": "stderr",
     "output_type": "stream",
     "text": [
      "INFO:tensorflow:Assets written to: best_model8.pkl\\assets\n"
     ]
    },
    {
     "name": "stdout",
     "output_type": "stream",
     "text": [
      "30/30 [==============================] - 9s 317ms/step - loss: 0.1719 - accuracy: 0.9246\n",
      "Epoch 19/20\n",
      "30/30 [==============================] - ETA: 0s - loss: 0.1577 - accuracy: 0.9323\n",
      "Epoch 19: accuracy improved from 0.92460 to 0.93232, saving model to best_model8.pkl\n"
     ]
    },
    {
     "name": "stderr",
     "output_type": "stream",
     "text": [
      "WARNING:absl:Found untraced functions such as lstm_cell_14_layer_call_fn, lstm_cell_14_layer_call_and_return_conditional_losses while saving (showing 2 of 2). These functions will not be directly callable after loading.\n"
     ]
    },
    {
     "name": "stdout",
     "output_type": "stream",
     "text": [
      "INFO:tensorflow:Assets written to: best_model8.pkl\\assets\n"
     ]
    },
    {
     "name": "stderr",
     "output_type": "stream",
     "text": [
      "INFO:tensorflow:Assets written to: best_model8.pkl\\assets\n"
     ]
    },
    {
     "name": "stdout",
     "output_type": "stream",
     "text": [
      "30/30 [==============================] - 9s 303ms/step - loss: 0.1577 - accuracy: 0.9323\n",
      "Epoch 20/20\n",
      "30/30 [==============================] - ETA: 0s - loss: 0.1670 - accuracy: 0.9277\n",
      "Epoch 20: accuracy did not improve from 0.93232\n",
      "30/30 [==============================] - 4s 148ms/step - loss: 0.1670 - accuracy: 0.9277\n",
      "27/27 [==============================] - 1s 21ms/step\n",
      "Epoch 1/20\n",
      "30/30 [==============================] - ETA: 0s - loss: 0.6036 - accuracy: 0.6844\n",
      "Epoch 1: accuracy improved from -inf to 0.68438, saving model to best_model9.pkl\n"
     ]
    },
    {
     "name": "stderr",
     "output_type": "stream",
     "text": [
      "WARNING:absl:Found untraced functions such as lstm_cell_16_layer_call_fn, lstm_cell_16_layer_call_and_return_conditional_losses while saving (showing 2 of 2). These functions will not be directly callable after loading.\n"
     ]
    },
    {
     "name": "stdout",
     "output_type": "stream",
     "text": [
      "INFO:tensorflow:Assets written to: best_model9.pkl\\assets\n"
     ]
    },
    {
     "name": "stderr",
     "output_type": "stream",
     "text": [
      "INFO:tensorflow:Assets written to: best_model9.pkl\\assets\n"
     ]
    },
    {
     "name": "stdout",
     "output_type": "stream",
     "text": [
      "30/30 [==============================] - 11s 302ms/step - loss: 0.6036 - accuracy: 0.6844\n",
      "Epoch 2/20\n",
      "30/30 [==============================] - ETA: 0s - loss: 0.5279 - accuracy: 0.7347\n",
      "Epoch 2: accuracy improved from 0.68438 to 0.73465, saving model to best_model9.pkl\n"
     ]
    },
    {
     "name": "stderr",
     "output_type": "stream",
     "text": [
      "WARNING:absl:Found untraced functions such as lstm_cell_16_layer_call_fn, lstm_cell_16_layer_call_and_return_conditional_losses while saving (showing 2 of 2). These functions will not be directly callable after loading.\n"
     ]
    },
    {
     "name": "stdout",
     "output_type": "stream",
     "text": [
      "INFO:tensorflow:Assets written to: best_model9.pkl\\assets\n"
     ]
    },
    {
     "name": "stderr",
     "output_type": "stream",
     "text": [
      "INFO:tensorflow:Assets written to: best_model9.pkl\\assets\n"
     ]
    },
    {
     "name": "stdout",
     "output_type": "stream",
     "text": [
      "30/30 [==============================] - 14s 472ms/step - loss: 0.5279 - accuracy: 0.7347\n",
      "Epoch 3/20\n",
      "30/30 [==============================] - ETA: 0s - loss: 0.4839 - accuracy: 0.7621\n",
      "Epoch 3: accuracy improved from 0.73465 to 0.76214, saving model to best_model9.pkl\n"
     ]
    },
    {
     "name": "stderr",
     "output_type": "stream",
     "text": [
      "WARNING:absl:Found untraced functions such as lstm_cell_16_layer_call_fn, lstm_cell_16_layer_call_and_return_conditional_losses while saving (showing 2 of 2). These functions will not be directly callable after loading.\n"
     ]
    },
    {
     "name": "stdout",
     "output_type": "stream",
     "text": [
      "INFO:tensorflow:Assets written to: best_model9.pkl\\assets\n"
     ]
    },
    {
     "name": "stderr",
     "output_type": "stream",
     "text": [
      "INFO:tensorflow:Assets written to: best_model9.pkl\\assets\n"
     ]
    },
    {
     "name": "stdout",
     "output_type": "stream",
     "text": [
      "30/30 [==============================] - 9s 321ms/step - loss: 0.4839 - accuracy: 0.7621\n",
      "Epoch 4/20\n",
      "30/30 [==============================] - ETA: 0s - loss: 0.4510 - accuracy: 0.7818\n",
      "Epoch 4: accuracy improved from 0.76214 to 0.78178, saving model to best_model9.pkl\n"
     ]
    },
    {
     "name": "stderr",
     "output_type": "stream",
     "text": [
      "WARNING:absl:Found untraced functions such as lstm_cell_16_layer_call_fn, lstm_cell_16_layer_call_and_return_conditional_losses while saving (showing 2 of 2). These functions will not be directly callable after loading.\n"
     ]
    },
    {
     "name": "stdout",
     "output_type": "stream",
     "text": [
      "INFO:tensorflow:Assets written to: best_model9.pkl\\assets\n"
     ]
    },
    {
     "name": "stderr",
     "output_type": "stream",
     "text": [
      "INFO:tensorflow:Assets written to: best_model9.pkl\\assets\n"
     ]
    },
    {
     "name": "stdout",
     "output_type": "stream",
     "text": [
      "30/30 [==============================] - 10s 329ms/step - loss: 0.4510 - accuracy: 0.7818\n",
      "Epoch 5/20\n",
      "30/30 [==============================] - ETA: 0s - loss: 0.4219 - accuracy: 0.8005\n",
      "Epoch 5: accuracy improved from 0.78178 to 0.80050, saving model to best_model9.pkl\n"
     ]
    },
    {
     "name": "stderr",
     "output_type": "stream",
     "text": [
      "WARNING:absl:Found untraced functions such as lstm_cell_16_layer_call_fn, lstm_cell_16_layer_call_and_return_conditional_losses while saving (showing 2 of 2). These functions will not be directly callable after loading.\n"
     ]
    },
    {
     "name": "stdout",
     "output_type": "stream",
     "text": [
      "INFO:tensorflow:Assets written to: best_model9.pkl\\assets\n"
     ]
    },
    {
     "name": "stderr",
     "output_type": "stream",
     "text": [
      "INFO:tensorflow:Assets written to: best_model9.pkl\\assets\n"
     ]
    },
    {
     "name": "stdout",
     "output_type": "stream",
     "text": [
      "30/30 [==============================] - 9s 319ms/step - loss: 0.4219 - accuracy: 0.8005\n",
      "Epoch 6/20\n",
      "30/30 [==============================] - ETA: 0s - loss: 0.4003 - accuracy: 0.8131\n",
      "Epoch 6: accuracy improved from 0.80050 to 0.81306, saving model to best_model9.pkl\n"
     ]
    },
    {
     "name": "stderr",
     "output_type": "stream",
     "text": [
      "WARNING:absl:Found untraced functions such as lstm_cell_16_layer_call_fn, lstm_cell_16_layer_call_and_return_conditional_losses while saving (showing 2 of 2). These functions will not be directly callable after loading.\n"
     ]
    },
    {
     "name": "stdout",
     "output_type": "stream",
     "text": [
      "INFO:tensorflow:Assets written to: best_model9.pkl\\assets\n"
     ]
    },
    {
     "name": "stderr",
     "output_type": "stream",
     "text": [
      "INFO:tensorflow:Assets written to: best_model9.pkl\\assets\n"
     ]
    },
    {
     "name": "stdout",
     "output_type": "stream",
     "text": [
      "30/30 [==============================] - 10s 357ms/step - loss: 0.4003 - accuracy: 0.8131\n",
      "Epoch 7/20\n",
      "30/30 [==============================] - ETA: 0s - loss: 0.3842 - accuracy: 0.8205\n",
      "Epoch 7: accuracy improved from 0.81306 to 0.82053, saving model to best_model9.pkl\n"
     ]
    },
    {
     "name": "stderr",
     "output_type": "stream",
     "text": [
      "WARNING:absl:Found untraced functions such as lstm_cell_16_layer_call_fn, lstm_cell_16_layer_call_and_return_conditional_losses while saving (showing 2 of 2). These functions will not be directly callable after loading.\n"
     ]
    },
    {
     "name": "stdout",
     "output_type": "stream",
     "text": [
      "INFO:tensorflow:Assets written to: best_model9.pkl\\assets\n"
     ]
    },
    {
     "name": "stderr",
     "output_type": "stream",
     "text": [
      "INFO:tensorflow:Assets written to: best_model9.pkl\\assets\n"
     ]
    },
    {
     "name": "stdout",
     "output_type": "stream",
     "text": [
      "30/30 [==============================] - 9s 319ms/step - loss: 0.3842 - accuracy: 0.8205\n",
      "Epoch 8/20\n",
      "30/30 [==============================] - ETA: 0s - loss: 0.3749 - accuracy: 0.8214\n",
      "Epoch 8: accuracy improved from 0.82053 to 0.82144, saving model to best_model9.pkl\n"
     ]
    },
    {
     "name": "stderr",
     "output_type": "stream",
     "text": [
      "WARNING:absl:Found untraced functions such as lstm_cell_16_layer_call_fn, lstm_cell_16_layer_call_and_return_conditional_losses while saving (showing 2 of 2). These functions will not be directly callable after loading.\n"
     ]
    },
    {
     "name": "stdout",
     "output_type": "stream",
     "text": [
      "INFO:tensorflow:Assets written to: best_model9.pkl\\assets\n"
     ]
    },
    {
     "name": "stderr",
     "output_type": "stream",
     "text": [
      "INFO:tensorflow:Assets written to: best_model9.pkl\\assets\n"
     ]
    },
    {
     "name": "stdout",
     "output_type": "stream",
     "text": [
      "30/30 [==============================] - 10s 323ms/step - loss: 0.3749 - accuracy: 0.8214\n",
      "Epoch 9/20\n",
      "30/30 [==============================] - ETA: 0s - loss: 0.3666 - accuracy: 0.8307\n",
      "Epoch 9: accuracy improved from 0.82144 to 0.83074, saving model to best_model9.pkl\n"
     ]
    },
    {
     "name": "stderr",
     "output_type": "stream",
     "text": [
      "WARNING:absl:Found untraced functions such as lstm_cell_16_layer_call_fn, lstm_cell_16_layer_call_and_return_conditional_losses while saving (showing 2 of 2). These functions will not be directly callable after loading.\n"
     ]
    },
    {
     "name": "stdout",
     "output_type": "stream",
     "text": [
      "INFO:tensorflow:Assets written to: best_model9.pkl\\assets\n"
     ]
    },
    {
     "name": "stderr",
     "output_type": "stream",
     "text": [
      "INFO:tensorflow:Assets written to: best_model9.pkl\\assets\n"
     ]
    },
    {
     "name": "stdout",
     "output_type": "stream",
     "text": [
      "30/30 [==============================] - 9s 314ms/step - loss: 0.3666 - accuracy: 0.8307\n",
      "Epoch 10/20\n",
      "30/30 [==============================] - ETA: 0s - loss: 0.3560 - accuracy: 0.8327\n",
      "Epoch 10: accuracy improved from 0.83074 to 0.83270, saving model to best_model9.pkl\n"
     ]
    },
    {
     "name": "stderr",
     "output_type": "stream",
     "text": [
      "WARNING:absl:Found untraced functions such as lstm_cell_16_layer_call_fn, lstm_cell_16_layer_call_and_return_conditional_losses while saving (showing 2 of 2). These functions will not be directly callable after loading.\n"
     ]
    },
    {
     "name": "stdout",
     "output_type": "stream",
     "text": [
      "INFO:tensorflow:Assets written to: best_model9.pkl\\assets\n"
     ]
    },
    {
     "name": "stderr",
     "output_type": "stream",
     "text": [
      "INFO:tensorflow:Assets written to: best_model9.pkl\\assets\n"
     ]
    },
    {
     "name": "stdout",
     "output_type": "stream",
     "text": [
      "30/30 [==============================] - 9s 316ms/step - loss: 0.3560 - accuracy: 0.8327\n",
      "Epoch 11/20\n",
      "30/30 [==============================] - ETA: 0s - loss: 0.3430 - accuracy: 0.8403\n",
      "Epoch 11: accuracy improved from 0.83270 to 0.84029, saving model to best_model9.pkl\n"
     ]
    },
    {
     "name": "stderr",
     "output_type": "stream",
     "text": [
      "WARNING:absl:Found untraced functions such as lstm_cell_16_layer_call_fn, lstm_cell_16_layer_call_and_return_conditional_losses while saving (showing 2 of 2). These functions will not be directly callable after loading.\n"
     ]
    },
    {
     "name": "stdout",
     "output_type": "stream",
     "text": [
      "INFO:tensorflow:Assets written to: best_model9.pkl\\assets\n"
     ]
    },
    {
     "name": "stderr",
     "output_type": "stream",
     "text": [
      "INFO:tensorflow:Assets written to: best_model9.pkl\\assets\n"
     ]
    },
    {
     "name": "stdout",
     "output_type": "stream",
     "text": [
      "30/30 [==============================] - 9s 309ms/step - loss: 0.3430 - accuracy: 0.8403\n",
      "Epoch 12/20\n",
      "30/30 [==============================] - ETA: 0s - loss: 0.3264 - accuracy: 0.8489\n",
      "Epoch 12: accuracy improved from 0.84029 to 0.84893, saving model to best_model9.pkl\n"
     ]
    },
    {
     "name": "stderr",
     "output_type": "stream",
     "text": [
      "WARNING:absl:Found untraced functions such as lstm_cell_16_layer_call_fn, lstm_cell_16_layer_call_and_return_conditional_losses while saving (showing 2 of 2). These functions will not be directly callable after loading.\n"
     ]
    },
    {
     "name": "stdout",
     "output_type": "stream",
     "text": [
      "INFO:tensorflow:Assets written to: best_model9.pkl\\assets\n"
     ]
    },
    {
     "name": "stderr",
     "output_type": "stream",
     "text": [
      "INFO:tensorflow:Assets written to: best_model9.pkl\\assets\n"
     ]
    },
    {
     "name": "stdout",
     "output_type": "stream",
     "text": [
      "30/30 [==============================] - 10s 324ms/step - loss: 0.3264 - accuracy: 0.8489\n",
      "Epoch 13/20\n",
      "30/30 [==============================] - ETA: 0s - loss: 0.3084 - accuracy: 0.8580\n",
      "Epoch 13: accuracy improved from 0.84893 to 0.85797, saving model to best_model9.pkl\n"
     ]
    },
    {
     "name": "stderr",
     "output_type": "stream",
     "text": [
      "WARNING:absl:Found untraced functions such as lstm_cell_16_layer_call_fn, lstm_cell_16_layer_call_and_return_conditional_losses while saving (showing 2 of 2). These functions will not be directly callable after loading.\n"
     ]
    },
    {
     "name": "stdout",
     "output_type": "stream",
     "text": [
      "INFO:tensorflow:Assets written to: best_model9.pkl\\assets\n"
     ]
    },
    {
     "name": "stderr",
     "output_type": "stream",
     "text": [
      "INFO:tensorflow:Assets written to: best_model9.pkl\\assets\n"
     ]
    },
    {
     "name": "stdout",
     "output_type": "stream",
     "text": [
      "30/30 [==============================] - 9s 313ms/step - loss: 0.3084 - accuracy: 0.8580\n",
      "Epoch 14/20\n",
      "30/30 [==============================] - ETA: 0s - loss: 0.3002 - accuracy: 0.8622\n",
      "Epoch 14: accuracy improved from 0.85797 to 0.86215, saving model to best_model9.pkl\n"
     ]
    },
    {
     "name": "stderr",
     "output_type": "stream",
     "text": [
      "WARNING:absl:Found untraced functions such as lstm_cell_16_layer_call_fn, lstm_cell_16_layer_call_and_return_conditional_losses while saving (showing 2 of 2). These functions will not be directly callable after loading.\n"
     ]
    },
    {
     "name": "stdout",
     "output_type": "stream",
     "text": [
      "INFO:tensorflow:Assets written to: best_model9.pkl\\assets\n"
     ]
    },
    {
     "name": "stderr",
     "output_type": "stream",
     "text": [
      "INFO:tensorflow:Assets written to: best_model9.pkl\\assets\n"
     ]
    },
    {
     "name": "stdout",
     "output_type": "stream",
     "text": [
      "30/30 [==============================] - 10s 330ms/step - loss: 0.3002 - accuracy: 0.8622\n",
      "Epoch 15/20\n",
      "30/30 [==============================] - ETA: 0s - loss: 0.2836 - accuracy: 0.8725\n",
      "Epoch 15: accuracy improved from 0.86215 to 0.87250, saving model to best_model9.pkl\n"
     ]
    },
    {
     "name": "stderr",
     "output_type": "stream",
     "text": [
      "WARNING:absl:Found untraced functions such as lstm_cell_16_layer_call_fn, lstm_cell_16_layer_call_and_return_conditional_losses while saving (showing 2 of 2). These functions will not be directly callable after loading.\n"
     ]
    },
    {
     "name": "stdout",
     "output_type": "stream",
     "text": [
      "INFO:tensorflow:Assets written to: best_model9.pkl\\assets\n"
     ]
    },
    {
     "name": "stderr",
     "output_type": "stream",
     "text": [
      "INFO:tensorflow:Assets written to: best_model9.pkl\\assets\n"
     ]
    },
    {
     "name": "stdout",
     "output_type": "stream",
     "text": [
      "30/30 [==============================] - 9s 314ms/step - loss: 0.2836 - accuracy: 0.8725\n",
      "Epoch 16/20\n",
      "30/30 [==============================] - ETA: 0s - loss: 0.2793 - accuracy: 0.8783\n",
      "Epoch 16: accuracy improved from 0.87250 to 0.87826, saving model to best_model9.pkl\n"
     ]
    },
    {
     "name": "stderr",
     "output_type": "stream",
     "text": [
      "WARNING:absl:Found untraced functions such as lstm_cell_16_layer_call_fn, lstm_cell_16_layer_call_and_return_conditional_losses while saving (showing 2 of 2). These functions will not be directly callable after loading.\n"
     ]
    },
    {
     "name": "stdout",
     "output_type": "stream",
     "text": [
      "INFO:tensorflow:Assets written to: best_model9.pkl\\assets\n"
     ]
    },
    {
     "name": "stderr",
     "output_type": "stream",
     "text": [
      "INFO:tensorflow:Assets written to: best_model9.pkl\\assets\n"
     ]
    },
    {
     "name": "stdout",
     "output_type": "stream",
     "text": [
      "30/30 [==============================] - 10s 324ms/step - loss: 0.2793 - accuracy: 0.8783\n",
      "Epoch 17/20\n",
      "30/30 [==============================] - ETA: 0s - loss: 0.2658 - accuracy: 0.8790\n",
      "Epoch 17: accuracy improved from 0.87826 to 0.87904, saving model to best_model9.pkl\n"
     ]
    },
    {
     "name": "stderr",
     "output_type": "stream",
     "text": [
      "WARNING:absl:Found untraced functions such as lstm_cell_16_layer_call_fn, lstm_cell_16_layer_call_and_return_conditional_losses while saving (showing 2 of 2). These functions will not be directly callable after loading.\n"
     ]
    },
    {
     "name": "stdout",
     "output_type": "stream",
     "text": [
      "INFO:tensorflow:Assets written to: best_model9.pkl\\assets\n"
     ]
    },
    {
     "name": "stderr",
     "output_type": "stream",
     "text": [
      "INFO:tensorflow:Assets written to: best_model9.pkl\\assets\n"
     ]
    },
    {
     "name": "stdout",
     "output_type": "stream",
     "text": [
      "30/30 [==============================] - 9s 316ms/step - loss: 0.2658 - accuracy: 0.8790\n",
      "Epoch 18/20\n",
      "30/30 [==============================] - ETA: 0s - loss: 0.2452 - accuracy: 0.8903\n",
      "Epoch 18: accuracy improved from 0.87904 to 0.89030, saving model to best_model9.pkl\n"
     ]
    },
    {
     "name": "stderr",
     "output_type": "stream",
     "text": [
      "WARNING:absl:Found untraced functions such as lstm_cell_16_layer_call_fn, lstm_cell_16_layer_call_and_return_conditional_losses while saving (showing 2 of 2). These functions will not be directly callable after loading.\n"
     ]
    },
    {
     "name": "stdout",
     "output_type": "stream",
     "text": [
      "INFO:tensorflow:Assets written to: best_model9.pkl\\assets\n"
     ]
    },
    {
     "name": "stderr",
     "output_type": "stream",
     "text": [
      "INFO:tensorflow:Assets written to: best_model9.pkl\\assets\n"
     ]
    },
    {
     "name": "stdout",
     "output_type": "stream",
     "text": [
      "30/30 [==============================] - 9s 308ms/step - loss: 0.2452 - accuracy: 0.8903\n",
      "Epoch 19/20\n",
      "30/30 [==============================] - ETA: 0s - loss: 0.2372 - accuracy: 0.8999\n",
      "Epoch 19: accuracy improved from 0.89030 to 0.89986, saving model to best_model9.pkl\n"
     ]
    },
    {
     "name": "stderr",
     "output_type": "stream",
     "text": [
      "WARNING:absl:Found untraced functions such as lstm_cell_16_layer_call_fn, lstm_cell_16_layer_call_and_return_conditional_losses while saving (showing 2 of 2). These functions will not be directly callable after loading.\n"
     ]
    },
    {
     "name": "stdout",
     "output_type": "stream",
     "text": [
      "INFO:tensorflow:Assets written to: best_model9.pkl\\assets\n"
     ]
    },
    {
     "name": "stderr",
     "output_type": "stream",
     "text": [
      "INFO:tensorflow:Assets written to: best_model9.pkl\\assets\n"
     ]
    },
    {
     "name": "stdout",
     "output_type": "stream",
     "text": [
      "30/30 [==============================] - 9s 322ms/step - loss: 0.2372 - accuracy: 0.8999\n",
      "Epoch 20/20\n",
      "30/30 [==============================] - ETA: 0s - loss: 0.2253 - accuracy: 0.8999\n",
      "Epoch 20: accuracy did not improve from 0.89986\n",
      "30/30 [==============================] - 5s 151ms/step - loss: 0.2253 - accuracy: 0.8999\n",
      "27/27 [==============================] - 1s 20ms/step\n",
      "Epoch 1/20\n",
      "30/30 [==============================] - ETA: 0s - loss: 0.5929 - accuracy: 0.6917\n",
      "Epoch 1: accuracy improved from -inf to 0.69171, saving model to best_model10.pkl\n"
     ]
    },
    {
     "name": "stderr",
     "output_type": "stream",
     "text": [
      "WARNING:absl:Found untraced functions such as lstm_cell_18_layer_call_fn, lstm_cell_18_layer_call_and_return_conditional_losses while saving (showing 2 of 2). These functions will not be directly callable after loading.\n"
     ]
    },
    {
     "name": "stdout",
     "output_type": "stream",
     "text": [
      "INFO:tensorflow:Assets written to: best_model10.pkl\\assets\n"
     ]
    },
    {
     "name": "stderr",
     "output_type": "stream",
     "text": [
      "INFO:tensorflow:Assets written to: best_model10.pkl\\assets\n"
     ]
    },
    {
     "name": "stdout",
     "output_type": "stream",
     "text": [
      "30/30 [==============================] - 12s 319ms/step - loss: 0.5929 - accuracy: 0.6917\n",
      "Epoch 2/20\n",
      "30/30 [==============================] - ETA: 0s - loss: 0.5307 - accuracy: 0.7405\n",
      "Epoch 2: accuracy improved from 0.69171 to 0.74054, saving model to best_model10.pkl\n"
     ]
    },
    {
     "name": "stderr",
     "output_type": "stream",
     "text": [
      "WARNING:absl:Found untraced functions such as lstm_cell_18_layer_call_fn, lstm_cell_18_layer_call_and_return_conditional_losses while saving (showing 2 of 2). These functions will not be directly callable after loading.\n"
     ]
    },
    {
     "name": "stdout",
     "output_type": "stream",
     "text": [
      "INFO:tensorflow:Assets written to: best_model10.pkl\\assets\n"
     ]
    },
    {
     "name": "stderr",
     "output_type": "stream",
     "text": [
      "INFO:tensorflow:Assets written to: best_model10.pkl\\assets\n"
     ]
    },
    {
     "name": "stdout",
     "output_type": "stream",
     "text": [
      "30/30 [==============================] - 16s 551ms/step - loss: 0.5307 - accuracy: 0.7405\n",
      "Epoch 3/20\n",
      "30/30 [==============================] - ETA: 0s - loss: 0.4533 - accuracy: 0.7814\n",
      "Epoch 3: accuracy improved from 0.74054 to 0.78139, saving model to best_model10.pkl\n"
     ]
    },
    {
     "name": "stderr",
     "output_type": "stream",
     "text": [
      "WARNING:absl:Found untraced functions such as lstm_cell_18_layer_call_fn, lstm_cell_18_layer_call_and_return_conditional_losses while saving (showing 2 of 2). These functions will not be directly callable after loading.\n"
     ]
    },
    {
     "name": "stdout",
     "output_type": "stream",
     "text": [
      "INFO:tensorflow:Assets written to: best_model10.pkl\\assets\n"
     ]
    },
    {
     "name": "stderr",
     "output_type": "stream",
     "text": [
      "INFO:tensorflow:Assets written to: best_model10.pkl\\assets\n"
     ]
    },
    {
     "name": "stdout",
     "output_type": "stream",
     "text": [
      "30/30 [==============================] - 10s 338ms/step - loss: 0.4533 - accuracy: 0.7814\n",
      "Epoch 4/20\n",
      "30/30 [==============================] - ETA: 0s - loss: 0.4212 - accuracy: 0.7995\n",
      "Epoch 4: accuracy improved from 0.78139 to 0.79945, saving model to best_model10.pkl\n"
     ]
    },
    {
     "name": "stderr",
     "output_type": "stream",
     "text": [
      "WARNING:absl:Found untraced functions such as lstm_cell_18_layer_call_fn, lstm_cell_18_layer_call_and_return_conditional_losses while saving (showing 2 of 2). These functions will not be directly callable after loading.\n"
     ]
    },
    {
     "name": "stdout",
     "output_type": "stream",
     "text": [
      "INFO:tensorflow:Assets written to: best_model10.pkl\\assets\n"
     ]
    },
    {
     "name": "stderr",
     "output_type": "stream",
     "text": [
      "INFO:tensorflow:Assets written to: best_model10.pkl\\assets\n"
     ]
    },
    {
     "name": "stdout",
     "output_type": "stream",
     "text": [
      "30/30 [==============================] - 9s 311ms/step - loss: 0.4212 - accuracy: 0.7995\n",
      "Epoch 5/20\n",
      "30/30 [==============================] - ETA: 0s - loss: 0.3837 - accuracy: 0.8192\n",
      "Epoch 5: accuracy improved from 0.79945 to 0.81922, saving model to best_model10.pkl\n"
     ]
    },
    {
     "name": "stderr",
     "output_type": "stream",
     "text": [
      "WARNING:absl:Found untraced functions such as lstm_cell_18_layer_call_fn, lstm_cell_18_layer_call_and_return_conditional_losses while saving (showing 2 of 2). These functions will not be directly callable after loading.\n"
     ]
    },
    {
     "name": "stdout",
     "output_type": "stream",
     "text": [
      "INFO:tensorflow:Assets written to: best_model10.pkl\\assets\n"
     ]
    },
    {
     "name": "stderr",
     "output_type": "stream",
     "text": [
      "INFO:tensorflow:Assets written to: best_model10.pkl\\assets\n"
     ]
    },
    {
     "name": "stdout",
     "output_type": "stream",
     "text": [
      "30/30 [==============================] - 9s 302ms/step - loss: 0.3837 - accuracy: 0.8192\n",
      "Epoch 6/20\n",
      "30/30 [==============================] - ETA: 0s - loss: 0.3683 - accuracy: 0.8298\n",
      "Epoch 6: accuracy improved from 0.81922 to 0.82982, saving model to best_model10.pkl\n"
     ]
    },
    {
     "name": "stderr",
     "output_type": "stream",
     "text": [
      "WARNING:absl:Found untraced functions such as lstm_cell_18_layer_call_fn, lstm_cell_18_layer_call_and_return_conditional_losses while saving (showing 2 of 2). These functions will not be directly callable after loading.\n"
     ]
    },
    {
     "name": "stdout",
     "output_type": "stream",
     "text": [
      "INFO:tensorflow:Assets written to: best_model10.pkl\\assets\n"
     ]
    },
    {
     "name": "stderr",
     "output_type": "stream",
     "text": [
      "INFO:tensorflow:Assets written to: best_model10.pkl\\assets\n"
     ]
    },
    {
     "name": "stdout",
     "output_type": "stream",
     "text": [
      "30/30 [==============================] - 9s 289ms/step - loss: 0.3683 - accuracy: 0.8298\n",
      "Epoch 7/20\n",
      "30/30 [==============================] - ETA: 0s - loss: 0.3608 - accuracy: 0.8298\n",
      "Epoch 7: accuracy did not improve from 0.82982\n",
      "30/30 [==============================] - 4s 139ms/step - loss: 0.3608 - accuracy: 0.8298\n",
      "Epoch 8/20\n",
      "30/30 [==============================] - ETA: 0s - loss: 0.3553 - accuracy: 0.8296\n",
      "Epoch 8: accuracy did not improve from 0.82982\n",
      "30/30 [==============================] - 4s 145ms/step - loss: 0.3553 - accuracy: 0.8296\n",
      "Epoch 9/20\n",
      "30/30 [==============================] - ETA: 0s - loss: 0.3411 - accuracy: 0.8406\n",
      "Epoch 9: accuracy improved from 0.82982 to 0.84056, saving model to best_model10.pkl\n"
     ]
    },
    {
     "name": "stderr",
     "output_type": "stream",
     "text": [
      "WARNING:absl:Found untraced functions such as lstm_cell_18_layer_call_fn, lstm_cell_18_layer_call_and_return_conditional_losses while saving (showing 2 of 2). These functions will not be directly callable after loading.\n"
     ]
    },
    {
     "name": "stdout",
     "output_type": "stream",
     "text": [
      "INFO:tensorflow:Assets written to: best_model10.pkl\\assets\n"
     ]
    },
    {
     "name": "stderr",
     "output_type": "stream",
     "text": [
      "INFO:tensorflow:Assets written to: best_model10.pkl\\assets\n"
     ]
    },
    {
     "name": "stdout",
     "output_type": "stream",
     "text": [
      "30/30 [==============================] - 9s 296ms/step - loss: 0.3411 - accuracy: 0.8406\n",
      "Epoch 10/20\n",
      "30/30 [==============================] - ETA: 0s - loss: 0.3323 - accuracy: 0.8475\n",
      "Epoch 10: accuracy improved from 0.84056 to 0.84749, saving model to best_model10.pkl\n"
     ]
    },
    {
     "name": "stderr",
     "output_type": "stream",
     "text": [
      "WARNING:absl:Found untraced functions such as lstm_cell_18_layer_call_fn, lstm_cell_18_layer_call_and_return_conditional_losses while saving (showing 2 of 2). These functions will not be directly callable after loading.\n"
     ]
    },
    {
     "name": "stdout",
     "output_type": "stream",
     "text": [
      "INFO:tensorflow:Assets written to: best_model10.pkl\\assets\n"
     ]
    },
    {
     "name": "stderr",
     "output_type": "stream",
     "text": [
      "INFO:tensorflow:Assets written to: best_model10.pkl\\assets\n"
     ]
    },
    {
     "name": "stdout",
     "output_type": "stream",
     "text": [
      "30/30 [==============================] - 9s 291ms/step - loss: 0.3323 - accuracy: 0.8475\n",
      "Epoch 11/20\n",
      "30/30 [==============================] - ETA: 0s - loss: 0.3161 - accuracy: 0.8529\n",
      "Epoch 11: accuracy improved from 0.84749 to 0.85286, saving model to best_model10.pkl\n"
     ]
    },
    {
     "name": "stderr",
     "output_type": "stream",
     "text": [
      "WARNING:absl:Found untraced functions such as lstm_cell_18_layer_call_fn, lstm_cell_18_layer_call_and_return_conditional_losses while saving (showing 2 of 2). These functions will not be directly callable after loading.\n"
     ]
    },
    {
     "name": "stdout",
     "output_type": "stream",
     "text": [
      "INFO:tensorflow:Assets written to: best_model10.pkl\\assets\n"
     ]
    },
    {
     "name": "stderr",
     "output_type": "stream",
     "text": [
      "INFO:tensorflow:Assets written to: best_model10.pkl\\assets\n"
     ]
    },
    {
     "name": "stdout",
     "output_type": "stream",
     "text": [
      "30/30 [==============================] - 9s 296ms/step - loss: 0.3161 - accuracy: 0.8529\n",
      "Epoch 12/20\n",
      "30/30 [==============================] - ETA: 0s - loss: 0.3071 - accuracy: 0.8564\n",
      "Epoch 12: accuracy improved from 0.85286 to 0.85639, saving model to best_model10.pkl\n"
     ]
    },
    {
     "name": "stderr",
     "output_type": "stream",
     "text": [
      "WARNING:absl:Found untraced functions such as lstm_cell_18_layer_call_fn, lstm_cell_18_layer_call_and_return_conditional_losses while saving (showing 2 of 2). These functions will not be directly callable after loading.\n"
     ]
    },
    {
     "name": "stdout",
     "output_type": "stream",
     "text": [
      "INFO:tensorflow:Assets written to: best_model10.pkl\\assets\n"
     ]
    },
    {
     "name": "stderr",
     "output_type": "stream",
     "text": [
      "INFO:tensorflow:Assets written to: best_model10.pkl\\assets\n"
     ]
    },
    {
     "name": "stdout",
     "output_type": "stream",
     "text": [
      "30/30 [==============================] - 8s 284ms/step - loss: 0.3071 - accuracy: 0.8564\n",
      "Epoch 13/20\n",
      "30/30 [==============================] - ETA: 0s - loss: 0.2931 - accuracy: 0.8667\n",
      "Epoch 13: accuracy improved from 0.85639 to 0.86674, saving model to best_model10.pkl\n"
     ]
    },
    {
     "name": "stderr",
     "output_type": "stream",
     "text": [
      "WARNING:absl:Found untraced functions such as lstm_cell_18_layer_call_fn, lstm_cell_18_layer_call_and_return_conditional_losses while saving (showing 2 of 2). These functions will not be directly callable after loading.\n"
     ]
    },
    {
     "name": "stdout",
     "output_type": "stream",
     "text": [
      "INFO:tensorflow:Assets written to: best_model10.pkl\\assets\n"
     ]
    },
    {
     "name": "stderr",
     "output_type": "stream",
     "text": [
      "INFO:tensorflow:Assets written to: best_model10.pkl\\assets\n"
     ]
    },
    {
     "name": "stdout",
     "output_type": "stream",
     "text": [
      "30/30 [==============================] - 9s 291ms/step - loss: 0.2931 - accuracy: 0.8667\n",
      "Epoch 14/20\n",
      "30/30 [==============================] - ETA: 0s - loss: 0.2935 - accuracy: 0.8656\n",
      "Epoch 14: accuracy did not improve from 0.86674\n",
      "30/30 [==============================] - 4s 140ms/step - loss: 0.2935 - accuracy: 0.8656\n",
      "Epoch 15/20\n",
      "30/30 [==============================] - ETA: 0s - loss: 0.2826 - accuracy: 0.8663\n",
      "Epoch 15: accuracy did not improve from 0.86674\n",
      "30/30 [==============================] - 4s 142ms/step - loss: 0.2826 - accuracy: 0.8663\n",
      "Epoch 16/20\n",
      "30/30 [==============================] - ETA: 0s - loss: 0.2717 - accuracy: 0.8780\n",
      "Epoch 16: accuracy improved from 0.86674 to 0.87799, saving model to best_model10.pkl\n"
     ]
    },
    {
     "name": "stderr",
     "output_type": "stream",
     "text": [
      "WARNING:absl:Found untraced functions such as lstm_cell_18_layer_call_fn, lstm_cell_18_layer_call_and_return_conditional_losses while saving (showing 2 of 2). These functions will not be directly callable after loading.\n"
     ]
    },
    {
     "name": "stdout",
     "output_type": "stream",
     "text": [
      "INFO:tensorflow:Assets written to: best_model10.pkl\\assets\n"
     ]
    },
    {
     "name": "stderr",
     "output_type": "stream",
     "text": [
      "INFO:tensorflow:Assets written to: best_model10.pkl\\assets\n"
     ]
    },
    {
     "name": "stdout",
     "output_type": "stream",
     "text": [
      "30/30 [==============================] - 8s 286ms/step - loss: 0.2717 - accuracy: 0.8780\n",
      "Epoch 17/20\n",
      "30/30 [==============================] - ETA: 0s - loss: 0.2677 - accuracy: 0.8817\n",
      "Epoch 17: accuracy improved from 0.87799 to 0.88166, saving model to best_model10.pkl\n"
     ]
    },
    {
     "name": "stderr",
     "output_type": "stream",
     "text": [
      "WARNING:absl:Found untraced functions such as lstm_cell_18_layer_call_fn, lstm_cell_18_layer_call_and_return_conditional_losses while saving (showing 2 of 2). These functions will not be directly callable after loading.\n"
     ]
    },
    {
     "name": "stdout",
     "output_type": "stream",
     "text": [
      "INFO:tensorflow:Assets written to: best_model10.pkl\\assets\n"
     ]
    },
    {
     "name": "stderr",
     "output_type": "stream",
     "text": [
      "INFO:tensorflow:Assets written to: best_model10.pkl\\assets\n"
     ]
    },
    {
     "name": "stdout",
     "output_type": "stream",
     "text": [
      "30/30 [==============================] - 9s 296ms/step - loss: 0.2677 - accuracy: 0.8817\n",
      "Epoch 18/20\n",
      "30/30 [==============================] - ETA: 0s - loss: 0.2649 - accuracy: 0.8771\n",
      "Epoch 18: accuracy did not improve from 0.88166\n",
      "30/30 [==============================] - 4s 143ms/step - loss: 0.2649 - accuracy: 0.8771\n",
      "Epoch 19/20\n",
      "30/30 [==============================] - ETA: 0s - loss: 0.2591 - accuracy: 0.8813\n",
      "Epoch 19: accuracy did not improve from 0.88166\n",
      "30/30 [==============================] - 4s 146ms/step - loss: 0.2591 - accuracy: 0.8813\n",
      "Epoch 20/20\n",
      "30/30 [==============================] - ETA: 0s - loss: 0.2383 - accuracy: 0.8878\n",
      "Epoch 20: accuracy improved from 0.88166 to 0.88781, saving model to best_model10.pkl\n"
     ]
    },
    {
     "name": "stderr",
     "output_type": "stream",
     "text": [
      "WARNING:absl:Found untraced functions such as lstm_cell_18_layer_call_fn, lstm_cell_18_layer_call_and_return_conditional_losses while saving (showing 2 of 2). These functions will not be directly callable after loading.\n"
     ]
    },
    {
     "name": "stdout",
     "output_type": "stream",
     "text": [
      "INFO:tensorflow:Assets written to: best_model10.pkl\\assets\n"
     ]
    },
    {
     "name": "stderr",
     "output_type": "stream",
     "text": [
      "INFO:tensorflow:Assets written to: best_model10.pkl\\assets\n"
     ]
    },
    {
     "name": "stdout",
     "output_type": "stream",
     "text": [
      "30/30 [==============================] - 12s 395ms/step - loss: 0.2383 - accuracy: 0.8878\n",
      "27/27 [==============================] - 1s 22ms/step\n"
     ]
    }
   ],
   "source": [
    "sequences = np.array(sequences)\n",
    "targets = np.array(targets)\n",
    "num = 1\n",
    "\n",
    "for train_index, test_index in kfold.split(sequences):\n",
    "    \n",
    "    X_train, X_test = sequences[train_index], sequences[test_index]\n",
    "    Y_train, Y_test = targets[train_index], targets[test_index]\n",
    "\n",
    "    \n",
    "    X_train = np.array(X_train)\n",
    "    X_test = np.array(X_test)\n",
    "\n",
    "    Y_train = np.array(Y_train)\n",
    "    Y_train = (Y_train+1)/2\n",
    "\n",
    "    Y_test = np.array(Y_test)\n",
    "    Y_test = (Y_test+1)/2\n",
    "    \n",
    "    model = Sequential()\n",
    "    model.add(LSTM(256, input_shape=(timestep, 4),dropout=0.1))\n",
    "    model.add(Dense(1, activation='sigmoid'))\n",
    "\n",
    "    adam = Adam(learning_rate=0.001)\n",
    "    chk = ModelCheckpoint('best_model'+ str(num) +'.pkl', monitor='accuracy', save_best_only=True, mode='max', verbose=1)\n",
    "\n",
    "    model.compile(loss='binary_crossentropy', optimizer=adam, metrics=['accuracy'])\n",
    "    model.fit(X_train, Y_train, epochs=20, batch_size=512, callbacks=[chk])\n",
    "    \n",
    "    model = load_model('best_model'+str(num)+'.pkl')\n",
    "    test_preds = (model.predict(X_test) > 0.5).astype(\"int32\")\n",
    "\n",
    "    accuracy_tab.append(metrics.accuracy_score(Y_test, test_preds))\n",
    "    num=num+1"
   ]
  },
  {
   "cell_type": "code",
   "execution_count": 9,
   "metadata": {},
   "outputs": [
    {
     "name": "stdout",
     "output_type": "stream",
     "text": [
      "[0.7656065959952886, 0.7408716136631331, 0.6148409893992933, 0.773851590106007, 0.8857479387514723, 0.8256772673733804, 0.6383981154299175, 0.2865566037735849, 0.9775943396226415, 0.9257075471698113]\n"
     ]
    }
   ],
   "source": [
    "print(accuracy_tab)"
   ]
  },
  {
   "cell_type": "code",
   "execution_count": 10,
   "metadata": {
    "ExecuteTime": {
     "end_time": "2019-03-26T23:57:10.869320Z",
     "start_time": "2019-03-26T23:57:10.863336Z"
    }
   },
   "outputs": [
    {
     "ename": "OSError",
     "evalue": "No file or directory found at best_model.pkl",
     "output_type": "error",
     "traceback": [
      "\u001b[1;31m---------------------------------------------------------------------------\u001b[0m",
      "\u001b[1;31mOSError\u001b[0m                                   Traceback (most recent call last)",
      "Cell \u001b[1;32mIn [10], line 1\u001b[0m\n\u001b[1;32m----> 1\u001b[0m model \u001b[39m=\u001b[39m load_model(\u001b[39m'\u001b[39m\u001b[39mbest_model.pkl\u001b[39m\u001b[39m'\u001b[39m)\n\u001b[0;32m      2\u001b[0m np\u001b[39m.\u001b[39mset_printoptions(formatter\u001b[39m=\u001b[39m{\u001b[39m'\u001b[39m\u001b[39mfloat\u001b[39m\u001b[39m'\u001b[39m: \u001b[39mlambda\u001b[39;00m x: \u001b[39m\"\u001b[39m\u001b[39m{0:0.3f}\u001b[39;00m\u001b[39m\"\u001b[39m\u001b[39m.\u001b[39mformat(x)})\n\u001b[0;32m      4\u001b[0m test_preds \u001b[39m=\u001b[39m (model\u001b[39m.\u001b[39mpredict(X_test) \u001b[39m>\u001b[39m \u001b[39m0.5\u001b[39m)\u001b[39m.\u001b[39mastype(\u001b[39m\"\u001b[39m\u001b[39mint32\u001b[39m\u001b[39m\"\u001b[39m)\n",
      "File \u001b[1;32mc:\\Users\\vbergerault\\AppData\\Local\\Programs\\Python\\Python310\\lib\\site-packages\\keras\\utils\\traceback_utils.py:70\u001b[0m, in \u001b[0;36mfilter_traceback.<locals>.error_handler\u001b[1;34m(*args, **kwargs)\u001b[0m\n\u001b[0;32m     67\u001b[0m     filtered_tb \u001b[39m=\u001b[39m _process_traceback_frames(e\u001b[39m.\u001b[39m__traceback__)\n\u001b[0;32m     68\u001b[0m     \u001b[39m# To get the full stack trace, call:\u001b[39;00m\n\u001b[0;32m     69\u001b[0m     \u001b[39m# `tf.debugging.disable_traceback_filtering()`\u001b[39;00m\n\u001b[1;32m---> 70\u001b[0m     \u001b[39mraise\u001b[39;00m e\u001b[39m.\u001b[39mwith_traceback(filtered_tb) \u001b[39mfrom\u001b[39;00m \u001b[39mNone\u001b[39m\n\u001b[0;32m     71\u001b[0m \u001b[39mfinally\u001b[39;00m:\n\u001b[0;32m     72\u001b[0m     \u001b[39mdel\u001b[39;00m filtered_tb\n",
      "File \u001b[1;32mc:\\Users\\vbergerault\\AppData\\Local\\Programs\\Python\\Python310\\lib\\site-packages\\keras\\saving\\save.py:226\u001b[0m, in \u001b[0;36mload_model\u001b[1;34m(filepath, custom_objects, compile, options)\u001b[0m\n\u001b[0;32m    224\u001b[0m \u001b[39mif\u001b[39;00m \u001b[39misinstance\u001b[39m(filepath_str, \u001b[39mstr\u001b[39m):\n\u001b[0;32m    225\u001b[0m     \u001b[39mif\u001b[39;00m \u001b[39mnot\u001b[39;00m tf\u001b[39m.\u001b[39mio\u001b[39m.\u001b[39mgfile\u001b[39m.\u001b[39mexists(filepath_str):\n\u001b[1;32m--> 226\u001b[0m         \u001b[39mraise\u001b[39;00m \u001b[39mIOError\u001b[39;00m(\n\u001b[0;32m    227\u001b[0m             \u001b[39mf\u001b[39m\u001b[39m\"\u001b[39m\u001b[39mNo file or directory found at \u001b[39m\u001b[39m{\u001b[39;00mfilepath_str\u001b[39m}\u001b[39;00m\u001b[39m\"\u001b[39m\n\u001b[0;32m    228\u001b[0m         )\n\u001b[0;32m    230\u001b[0m     \u001b[39mif\u001b[39;00m tf\u001b[39m.\u001b[39mio\u001b[39m.\u001b[39mgfile\u001b[39m.\u001b[39misdir(filepath_str):\n\u001b[0;32m    231\u001b[0m         \u001b[39mreturn\u001b[39;00m saved_model_load\u001b[39m.\u001b[39mload(\n\u001b[0;32m    232\u001b[0m             filepath_str, \u001b[39mcompile\u001b[39m, options\n\u001b[0;32m    233\u001b[0m         )\n",
      "\u001b[1;31mOSError\u001b[0m: No file or directory found at best_model.pkl"
     ]
    }
   ],
   "source": [
    "model = load_model('best_model.pkl')\n",
    "np.set_printoptions(formatter={'float': lambda x: \"{0:0.3f}\".format(x)})\n",
    "\n",
    "test_preds = (model.predict(X_test) > 0.5).astype(\"int32\")\n",
    "\n",
    "classification_report = metrics.classification_report(Y_test, test_preds)\n",
    "print(classification_report)"
   ]
  }
 ],
 "metadata": {
  "kernelspec": {
   "display_name": "Python 3.10.7 64-bit",
   "language": "python",
   "name": "python3"
  },
  "language_info": {
   "codemirror_mode": {
    "name": "ipython",
    "version": 3
   },
   "file_extension": ".py",
   "mimetype": "text/x-python",
   "name": "python",
   "nbconvert_exporter": "python",
   "pygments_lexer": "ipython3",
   "version": "3.10.7"
  },
  "varInspector": {
   "cols": {
    "lenName": 16,
    "lenType": 16,
    "lenVar": 40
   },
   "kernels_config": {
    "python": {
     "delete_cmd_postfix": "",
     "delete_cmd_prefix": "del ",
     "library": "var_list.py",
     "varRefreshCmd": "print(var_dic_list())"
    },
    "r": {
     "delete_cmd_postfix": ") ",
     "delete_cmd_prefix": "rm(",
     "library": "var_list.r",
     "varRefreshCmd": "cat(var_dic_list()) "
    }
   },
   "types_to_exclude": [
    "module",
    "function",
    "builtin_function_or_method",
    "instance",
    "_Feature"
   ],
   "window_display": false
  },
  "vscode": {
   "interpreter": {
    "hash": "fea9051e36e58b6fd03ad002bf451d771e4557a73cb48714380875b996a93bd2"
   }
  }
 },
 "nbformat": 4,
 "nbformat_minor": 2
}
